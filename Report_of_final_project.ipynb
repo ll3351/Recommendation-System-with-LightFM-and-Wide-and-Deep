{
  "nbformat": 4,
  "nbformat_minor": 0,
  "metadata": {
    "accelerator": "GPU",
    "colab": {
      "name": "rs_movie.ipynb",
      "provenance": [],
      "collapsed_sections": [],
      "toc_visible": true
    },
    "kernelspec": {
      "display_name": "Python 3",
      "language": "python",
      "name": "python3"
    },
    "language_info": {
      "codemirror_mode": {
        "name": "ipython",
        "version": 3
      },
      "file_extension": ".py",
      "mimetype": "text/x-python",
      "name": "python",
      "nbconvert_exporter": "python",
      "pygments_lexer": "ipython3",
      "version": "3.7.9"
    },
    "toc": {
      "base_numbering": 1,
      "nav_menu": {},
      "number_sections": true,
      "sideBar": true,
      "skip_h1_title": false,
      "title_cell": "Table of Contents",
      "title_sidebar": "Contents",
      "toc_cell": false,
      "toc_position": {
        "height": "calc(100% - 180px)",
        "left": "10px",
        "top": "150px",
        "width": "288px"
      },
      "toc_section_display": true,
      "toc_window_display": true
    }
  },
  "cells": [
    {
      "cell_type": "markdown",
      "metadata": {
        "id": "KsbVlwjLXL39"
      },
      "source": [
        "# Final Project of IEOR 4571:TOPICS IN OPERATIONS RESEARCH\n",
        "\n",
        "Team member:\n",
        "\n",
        "* Zi Zhuang,  zz2693@columbia.edu\n",
        "* Jiawen Huang,  jh4179@columbia.edu\n",
        "*\tHanyu Wu,  hw2753@columbia.edu\t\t                           \n",
        "*\tLiuhaoyue Li,  ll3351@columbia.edu\n"
      ]
    },
    {
      "cell_type": "markdown",
      "metadata": {
        "id": "8Uyg-lbFHxg4"
      },
      "source": [
        "# Executive Summary\n",
        "The report provides an analysis and evaluation of a new recommendation system for recommending Top 50 movies to existing valuable users, who have rated over 20 movies. Sequential hybrid models are used, which includes lightFM as basic recommendation algorithm, ANN and a powerful Wide & Deep model as reorder model. Our main evaluation metric is Precision@K and NDCG, but we also consider diversity, novelty and coverage. \n",
        "\n",
        "Our recommendation system could beat the original MF and Item-based collaborative filtering model in all metrics we care about. Besides high performance on the same metric, the new system could deal with cold-start problems by combining content information in lightFM and Wide & Deep models. \n",
        "\n",
        "Our experiments find the best parameter combination for each model. In order to run cross validation successfully on large dataset, we create seperate scripts to run cross Validation for Deep & Wide model. \n",
        "\n",
        "Based on evaluation results, compared with the single model we experimented in last homework, our models performed better.Also, with the help of ANN, we improved the recommendation efficiency. In the end, we trained the whole pipeline in a large dataset and used results as final recommendations. \n",
        "\n"
      ]
    },
    {
      "cell_type": "markdown",
      "metadata": {
        "id": "WO262D4rIDBS"
      },
      "source": [
        "#Objective Statement\n",
        "\n",
        "In order to keep attracting valuable members (we defined them as who watched over 20 movies) and maintain low churn probability, we think building a new recommender system with higher ranking accuracy will benefit our long-term development. At the same time, for the purpose of optimizing the user experience, we want to build an efficient model which could give fast recommendations. Also, this system should be robust and have the ability to handle potential cold-start problems. \n",
        "\n",
        "We will recommend personalized Top 50 movies to valuable users in record.  And also, in order to give a better impression with our customers, we will never recommend movies with less than 10 ratings. The reason is: If the item recommended by our recommendation system is only starred by very few people, even if we perfectly solve the long tail problem, the \"first impression\" of such recommendation results may not be too good for users."
      ]
    },
    {
      "cell_type": "markdown",
      "metadata": {
        "id": "KZmkB5VHIN4L"
      },
      "source": [
        "# Evaluation criteria\n",
        "We will evaluate our recommendation list based on the metrics below. The main evaluation metric is NDCG. And since we aimed to give the best experiences for our end users, all evaluations are tested on the final recommendation list -- the list which excludes movies with less than 10 ratings and movies users have rated before. \n",
        "\n",
        "* Normalized discounted cumulative gain. \n",
        "NDCG at k is a measure of how many of the first k recommended documents are in the set of true relevant documents averaged across all users. \n",
        "\n",
        "  NDCG@k = DCG@kIDCG@k = i=1k2reli - 1log2(i+1)IDCG@k, where IDCG@k is calculated by sorting the ranking by the true unknown relevance (in descending order) and then use the formula for DCG@k.\n",
        "\n",
        "  Because we will recommend the top 50 movies to each user, so utility-based metrics that take into account both the relevance of an item and its position in the ranking list are better than pure error-based metrics. Also, some studies show NDCG provides the best discriminative power and high robustness ratings to the sparsity bias and moderate robustness to the popularity bias. \n",
        "\n",
        "\n",
        "* Precision at K.\n",
        "\n",
        "  Another ranking metric is Precision at K. It is a measure of how many of the first k recommended movies are in the set of true relevant documents averaged across all users. \n",
        "\n",
        "  Precision@k = # of recommended items @k that are relevant# of recommended items @k\n",
        "\n",
        "\n",
        "\n",
        "* Novelty.\n",
        "\n",
        "  From the figure of long-tail plot below, we could see there is a long tail of movies’ popularity. So for offline experiments, we could approximate novelty by assuming these popular items are not novel to users. \n",
        "\n",
        "\n",
        "* Coverage.\n",
        "\n",
        "  For coverage metric, we will focus on two specific coverage scores.\n",
        " * Catalog-coverage -- The fraction of items that are in the top-k for at least 1 user. \n",
        " * User-coverage -- The percentage of users for whom the recommender was able to generate a recommendation list over the number of potential users.\n",
        "\n",
        "  We would like to make a model have higher catalog coverage and user coverage. \n",
        "\n",
        "* Diversity:\n",
        "\n",
        "  When recommended to users, we do want to mitigate the filter bubble problem and give some diversity to users. For offline evacuation, we will calculate recommendation lists’ similarity based on items’ embedding we got from lightFM model.  \n"
      ]
    },
    {
      "cell_type": "markdown",
      "metadata": {
        "id": "BorYszaSEq4J"
      },
      "source": [
        "#Module and Method\n",
        "There are some standard and customized library we used in this project."
      ]
    },
    {
      "cell_type": "code",
      "metadata": {
        "colab": {
          "base_uri": "https://localhost:8080/"
        },
        "id": "x6F5m-yeEroH",
        "outputId": "3b03d0fc-9b1a-4656-ef3e-1ee8ce9026a2"
      },
      "source": [
        "!pip install funcsigs\n",
        "!pip install lightfm\n",
        "!pip install pyspark\n",
        "\n",
        "import re\n",
        "import pandas as pd\n",
        "import numpy as np\n",
        "import random\n",
        "import datetime\n",
        "from collections import Counter\n",
        "import seaborn as sns\n",
        "import plotly.graph_objects as go\n",
        "from sklearn.model_selection import train_test_split, StratifiedKFold\n",
        "from sklearn.metrics.pairwise import cosine_similarity\n",
        "import scipy.sparse as sp\n",
        "import itertools\n",
        "import matplotlib.pyplot as plt\n",
        "from matplotlib.lines import Line2D\n",
        "from funcsigs import signature\n",
        "import warnings\n",
        "from lightfm import LightFM\n",
        "from lightfm.data import Dataset\n",
        "from lightfm.evaluation import auc_score, precision_at_k\n",
        "from scipy.sparse import csr_matrix\n",
        "import tensorflow as tf\n",
        "from pyspark.ml.evaluation import RegressionEvaluator, MulticlassClassificationEvaluator\n",
        "from pyspark.ml.recommendation import ALS, ALSModel\n",
        "from pyspark.mllib.evaluation import RegressionMetrics, RankingMetrics\n",
        "from pyspark.sql import Row, Window\n",
        "from pyspark.sql.session import SparkSession\n",
        "from pyspark.ml.evaluation import Evaluator\n",
        "from pyspark.ml.param.shared import Param\n",
        "from pyspark.sql.functions import col, expr\n",
        "import pyspark.sql.functions as F\n",
        "from pyspark.ml.tuning import CrossValidator, ParamGridBuilder, CrossValidatorModel\n",
        "from pyspark.ml import Pipeline\n",
        "from pyspark import since, keyword_only\n",
        "from pyspark.ml import Estimator, Model\n",
        "from pyspark.ml.common import _py2java\n",
        "from pyspark.ml.param import Params, Param, TypeConverters\n",
        "from pyspark.ml.param.shared import HasSeed\n",
        "from pyspark.ml.util import *\n",
        "from pyspark.ml.wrapper import JavaParams\n",
        "from pyspark.sql.functions import rand\n",
        "from functools import reduce\n",
        "from pyspark.ml.linalg import Vectors\n",
        "from pyspark.ml.feature import BucketedRandomProjectionLSH\n",
        "from pyspark.sql.functions import col\n",
        "from scipy.interpolate import interp1d\n",
        "from math import log, sqrt\n",
        "from sklearn.metrics import roc_curve, auc, precision_recall_curve, average_precision_score, mean_squared_error\n",
        "\n",
        "warnings.filterwarnings(\"ignore\")\n",
        "%matplotlib inline\n",
        "\n",
        "\n",
        "# !pip install findspark\n",
        "# import findspark\n",
        "# findspark.find()\n",
        "\n",
        "\n",
        "spark = SparkSession\\\n",
        "    .builder\\\n",
        "    .config('spark.driver.memory', '10g')\\\n",
        "    .config('spark.driver.maxResultSize', '8g')\\\n",
        "    .getOrCreate()"
      ],
      "execution_count": null,
      "outputs": [
        {
          "output_type": "stream",
          "text": [
            "Requirement already satisfied: funcsigs in /usr/local/lib/python3.6/dist-packages (1.0.2)\n",
            "Requirement already satisfied: lightfm in /usr/local/lib/python3.6/dist-packages (1.16)\n",
            "Requirement already satisfied: scikit-learn in /usr/local/lib/python3.6/dist-packages (from lightfm) (0.22.2.post1)\n",
            "Requirement already satisfied: scipy>=0.17.0 in /usr/local/lib/python3.6/dist-packages (from lightfm) (1.4.1)\n",
            "Requirement already satisfied: requests in /usr/local/lib/python3.6/dist-packages (from lightfm) (2.23.0)\n",
            "Requirement already satisfied: numpy in /usr/local/lib/python3.6/dist-packages (from lightfm) (1.19.4)\n",
            "Requirement already satisfied: joblib>=0.11 in /usr/local/lib/python3.6/dist-packages (from scikit-learn->lightfm) (1.0.0)\n",
            "Requirement already satisfied: chardet<4,>=3.0.2 in /usr/local/lib/python3.6/dist-packages (from requests->lightfm) (3.0.4)\n",
            "Requirement already satisfied: idna<3,>=2.5 in /usr/local/lib/python3.6/dist-packages (from requests->lightfm) (2.10)\n",
            "Requirement already satisfied: urllib3!=1.25.0,!=1.25.1,<1.26,>=1.21.1 in /usr/local/lib/python3.6/dist-packages (from requests->lightfm) (1.24.3)\n",
            "Requirement already satisfied: certifi>=2017.4.17 in /usr/local/lib/python3.6/dist-packages (from requests->lightfm) (2020.12.5)\n",
            "Requirement already satisfied: pyspark in /usr/local/lib/python3.6/dist-packages (3.0.1)\n",
            "Requirement already satisfied: py4j==0.10.9 in /usr/local/lib/python3.6/dist-packages (from pyspark) (0.10.9)\n"
          ],
          "name": "stdout"
        }
      ]
    },
    {
      "cell_type": "code",
      "metadata": {
        "id": "CCKyAyBmfRkH"
      },
      "source": [
        "# modified based on https://github.com/statisticianinstilettos/recmetrics.git\n",
        "\n",
        "class metricPresent():\n",
        "    def __init__(self, predicted, pop, u, n, catalog, feature_df, actual_list):\n",
        "        \"\"\"\n",
        "        Parameters\n",
        "        ----------\n",
        "        predicted : a list of lists\n",
        "            Ordered predictions\n",
        "            example: [['X', 'Y', 'Z'], ['X', 'Y', 'Z']]\n",
        "        pop: dictionary\n",
        "            A dictionary of all items alongside of its occurrences counter in the training data\n",
        "            example: {1198: 893, 1270: 876, 593: 876, 2762: 867}\n",
        "        u: integer\n",
        "            The number of users in the training data\n",
        "        n: integer\n",
        "            The length of recommended lists per user\n",
        "        catalog: list\n",
        "            A list of all unique items in the training data\n",
        "            example: ['A', 'B', 'C', 'X', 'Y', Z]\n",
        "        feature_df: dataframe\n",
        "            A dataframe with one hot encoded or latent features.\n",
        "            The dataframe should be indexed by the id used in the recommendations.\n",
        "        \"\"\"\n",
        "        self.predicted = predicted\n",
        "        self.pop = pop\n",
        "        self.u = u\n",
        "        self.n = n\n",
        "        self.catalog = catalog\n",
        "        self.feature_df = feature_df\n",
        "        self.actual_list = actual_list\n",
        "\n",
        "    @property\n",
        "    def novelty(self):\n",
        "        \"\"\"\n",
        "        Computes the novelty for a list of recommendations\n",
        "        Returns\n",
        "        ----------\n",
        "        novelty:\n",
        "            The novelty of the recommendations in system level\n",
        "        mean_self_information:\n",
        "            The novelty of the recommendations in recommended top-N list level\n",
        "        ----------    \n",
        "        Metric Defintion:\n",
        "        Zhou, T., Kuscsik, Z., Liu, J. G., Medo, M., Wakeling, J. R., & Zhang, Y. C. (2010).\n",
        "        Solving the apparent diversity-accuracy dilemma of recommender systems.\n",
        "        Proceedings of the National Academy of Sciences, 107(10), 4511-4515.\n",
        "        \"\"\"\n",
        "        mean_self_information = []\n",
        "        k = 0\n",
        "        for sublist in self.predicted:\n",
        "            self_information = 0\n",
        "            k += 1\n",
        "            for i in sublist:\n",
        "                try:\n",
        "                    self_information += np.sum(-np.log2(self.pop[i]/self.u))\n",
        "                except:\n",
        "                    continue\n",
        "            mean_self_information.append(self_information/self.n)\n",
        "        novelty = sum(mean_self_information)/k\n",
        "        return novelty, mean_self_information\n",
        "\n",
        "    @property\n",
        "    def prediction_coverage(self):\n",
        "        \"\"\"\n",
        "        Computes the prediction coverage for a list of recommendations\n",
        "        Returns\n",
        "        ----------\n",
        "        prediction_coverage:\n",
        "            The prediction coverage of the recommendations as a percent\n",
        "            rounded to 2 decimal places\n",
        "        ----------    \n",
        "        Metric Defintion:\n",
        "        Ge, M., Delgado-Battenfeld, C., & Jannach, D. (2010, September).\n",
        "        Beyond accuracy: evaluating recommender systems by coverage and serendipity.\n",
        "        In Proceedings of the fourth ACM conference on Recommender systems (pp. 257-260). ACM.\n",
        "        \"\"\"\n",
        "        predicted_flattened = [\n",
        "            p for sublist in self.predicted for p in sublist]\n",
        "        unique_predictions = len(set(predicted_flattened))\n",
        "        prediction_coverage = round(\n",
        "            unique_predictions/(len(self.catalog) * 1.0)*100, 2)\n",
        "        return prediction_coverage\n",
        "\n",
        "    @property\n",
        "    def personalization(self):\n",
        "        \"\"\"\n",
        "        Personalization measures recommendation similarity across users.\n",
        "        A high score indicates good personalization (user's lists of recommendations are different).\n",
        "        A low score indicates poor personalization (user's lists of recommendations are very similar).\n",
        "        A model is \"personalizing\" well if the set of recommendations for each user is different.\n",
        "        Parameters:\n",
        "        ----------\n",
        "        predicted : a list of lists\n",
        "            Ordered predictions\n",
        "            example: [['X', 'Y', 'Z'], ['X', 'Y', 'Z']]\n",
        "        Returns:\n",
        "        -------\n",
        "            The personalization score for all recommendations.\n",
        "        \"\"\"\n",
        "\n",
        "        def make_rec_matrix(predicted):\n",
        "            df = pd.DataFrame(data=predicted).reset_index().melt(\n",
        "                id_vars='index', value_name='item',\n",
        "            )\n",
        "\n",
        "            df['item'] = df['item'].astype(str)\n",
        "\n",
        "            df = df[['index', 'item']].pivot(\n",
        "                index='index', columns='item', values='item')\n",
        "\n",
        "            df = pd.notna(df)*1\n",
        "            rec_matrix = sp.csr_matrix(df.values)\n",
        "            return rec_matrix\n",
        "\n",
        "        # create matrix for recommendations\n",
        "        predicted = np.array(self.predicted)\n",
        "        rec_matrix_sparse = make_rec_matrix(predicted)\n",
        "\n",
        "        # calculate similarity for every user's recommendation list\n",
        "        similarity = cosine_similarity(X=rec_matrix_sparse, dense_output=False)\n",
        "\n",
        "        # get indicies for upper right triangle w/o diagonal\n",
        "        upper_right = np.triu_indices(similarity.shape[0], k=1)\n",
        "\n",
        "        # calculate average similarity\n",
        "        personalization = np.mean(similarity[upper_right])\n",
        "        return 1-personalization\n",
        "\n",
        "    def _single_list_similarity(self, predicted, feature_df, u):\n",
        "        \"\"\"\n",
        "        Computes the intra-list similarity for a single list of recommendations.\n",
        "        Parameters\n",
        "        ----------\n",
        "        predicted : a list\n",
        "            Ordered predictions\n",
        "            Example: ['X', 'Y', 'Z']\n",
        "        feature_df: dataframe\n",
        "            A dataframe with one hot encoded or latent features.\n",
        "            The dataframe should be indexed by the id used in the recommendations.\n",
        "        Returns:\n",
        "        -------\n",
        "        ils_single_user: float\n",
        "            The intra-list similarity for a single list of recommendations.\n",
        "        \"\"\"\n",
        "        # exception predicted list empty\n",
        "        if not(predicted):\n",
        "            raise Exception('Predicted list is empty, index: {0}'.format(u))\n",
        "\n",
        "        # get features for all recommended items\n",
        "\n",
        "        recs_content = feature_df.loc[feature_df.index.intersection(predicted)]\n",
        "\n",
        "        recs_content = np.array([np.array(x[0]) for x in recs_content.values])\n",
        "\n",
        "        # calculate similarity scores for all items in list\n",
        "        similarity = cosine_similarity(X=recs_content, dense_output=False)\n",
        "\n",
        "        # get indicies for upper right triangle w/o diagonal\n",
        "        upper_right = np.triu_indices(similarity.shape[0], k=1)\n",
        "\n",
        "        # calculate average similarity score of all recommended items in list\n",
        "        ils_single_user = np.mean(similarity[upper_right])\n",
        "        return ils_single_user\n",
        "\n",
        "    @property\n",
        "    def intra_list_similarity(self):\n",
        "        \"\"\"\n",
        "        Computes the average intra-list similarity of all recommendations.\n",
        "        This metric can be used to measure diversity of the list of recommended items.\n",
        "        Returns:\n",
        "        -------\n",
        "            The average intra-list similarity for recommendations.\n",
        "        \"\"\"\n",
        "        feature_df = self.feature_df.fillna(0)\n",
        "        Users = range(len(self.predicted))\n",
        "        ils = [self._single_list_similarity(\n",
        "            self.predicted[u], feature_df, u) for u in Users]\n",
        "        return np.mean(ils)\n",
        "\n",
        "    @property\n",
        "    def user_coverage(self):\n",
        "        def calc_user_coverage(predicted, actual):\n",
        "            reca = [value for value in predicted if value in actual]\n",
        "            if len(reca) > 1:\n",
        "                return 1\n",
        "            else:\n",
        "                return 0\n",
        "        user_coverage = np.sum(list(\n",
        "            map(calc_user_coverage, self.predicted, self.actual_list)))/len(self.actual_list)\n",
        "\n",
        "        return user_coverage\n",
        "\n",
        "    # def user_coverage(self,predicted,user_number):\n",
        "    #     return round(len(predicted)/user_number,2)"
      ],
      "execution_count": null,
      "outputs": []
    },
    {
      "cell_type": "code",
      "metadata": {
        "id": "BNguCs1dodD5"
      },
      "source": [
        "def long_tail_plot(df, item_id_column, interaction_type, percentage=None, x_labels=True):\n",
        "    \"\"\"\n",
        "        Plots the long tail for a user-item interaction dataset.\n",
        "        ----------\n",
        "        df: pandas dataframe\n",
        "            user-item interaction dataframe\n",
        "            example:\n",
        "        item_id_column: str\n",
        "            column name identifying the item ids in the dataframe\n",
        "        interaction_type: str\n",
        "            type of user-item interactions\n",
        "            i.e. 'purchases', 'ratings' 'interactions', or 'clicks'\n",
        "        percentage: float, default=None\n",
        "            percent of volume to consider as the head (percent as a decimal)\n",
        "            (if default=None no line will be plotted)\n",
        "        x_tables bool, default=True\n",
        "            if True, plot x-axis tick labels\n",
        "            if False, no x-axis tick lavels will be plotted.\n",
        "        Returns:\n",
        "        -------\n",
        "            A long tail plot\n",
        "        \"\"\"\n",
        "    # calculate cumulative volumes\n",
        "    volume_df = pd.DataFrame(df[item_id_column].value_counts())\n",
        "    volume_df.reset_index(inplace=True)\n",
        "    volume_df.columns = [item_id_column, \"volume\"]\n",
        "    volume_df[item_id_column] = volume_df[item_id_column].astype(str)\n",
        "    volume_df['cumulative_volume'] = volume_df['volume'].cumsum()\n",
        "    volume_df['percent_of_total_volume'] = volume_df['cumulative_volume'] / \\\n",
        "        volume_df['volume'].sum()\n",
        "\n",
        "    # line plot of cumulative volume\n",
        "    x = range(0, len(volume_df))\n",
        "    ax = sns.lineplot(x, y=\"volume\", data=volume_df, color=\"black\")\n",
        "    plt.xticks(x)\n",
        "\n",
        "    # set labels\n",
        "    ax.set_title('Long Tail Plot')\n",
        "    ax.set_ylabel('# of ' + interaction_type)\n",
        "    ax.set_xlabel(item_id_column)\n",
        "\n",
        "    if percentage != None:\n",
        "        # plot vertical line at the tail location\n",
        "        head = volume_df[volume_df.percent_of_total_volume <= percentage]\n",
        "        tail = volume_df[volume_df.percent_of_total_volume > percentage]\n",
        "        items_in_head = len(head)\n",
        "        items_in_tail = len(tail)\n",
        "        plt.axvline(x=items_in_head, color=\"red\",  linestyle='--')\n",
        "\n",
        "        # fill area under plot\n",
        "        head = head.append(tail.head(1))\n",
        "        x1 = head.index.values\n",
        "        y1 = head['volume']\n",
        "        x2 = tail.index.values\n",
        "        y2 = tail['volume']\n",
        "        ax.fill_between(x1, y1, color=\"blue\", alpha=0.2)\n",
        "        ax.fill_between(x2, y2,  color=\"orange\", alpha=0.2)\n",
        "\n",
        "        # create legend\n",
        "        legend_elements = [Line2D([0], [0], marker='o', color='w', label=str(items_in_head)+': items in the head', markerfacecolor='blue', markersize=5),\n",
        "                           Line2D([0], [0], marker='o', color='w', label=str(items_in_tail)+': items in the tail', markerfacecolor='orange', markersize=5)]\n",
        "        ax.legend(handles=legend_elements, loc=1)\n",
        "\n",
        "    else:\n",
        "        x1 = volume_df[item_id_column]\n",
        "        y1 = volume_df['volume']\n",
        "        ax.fill_between(x1, y1, color=\"blue\", alpha=0.3)\n",
        "    if x_labels == False:\n",
        "        plt.xticks([], [])\n",
        "        ax.set(xticklabels=[])\n",
        "    else:\n",
        "        ax.set_xticklabels(\n",
        "            labels=volume_df[item_id_column], rotation=45, ha=\"right\")\n",
        "\n",
        "    plt.show()"
      ],
      "execution_count": null,
      "outputs": []
    },
    {
      "cell_type": "code",
      "metadata": {
        "id": "fiTcnCKg4-f1"
      },
      "source": [
        "class metricPlot():\n",
        "    def __init__(self, model_names, NDCG_scores, precisionTopk_scores,\n",
        "                 coverage_scores, user_coverage_scores, personalization_scores,\n",
        "                 novelty_scores, intra_list_similarity_scores):\n",
        "        \"\"\"\n",
        "        Plots the metric plots for a set of models to compare.\n",
        "        ----------\n",
        "        model_names: list\n",
        "            list of model names in same order as coverage_scores\n",
        "            example: ['Model A', 'Model B', 'Model C']\n",
        "        NDCG_scores: list\n",
        "            list of NDCG scores in same order as model_names\n",
        "            example: [0.13, 0.52, 0.36]\n",
        "        precisionTopk_scores: list\n",
        "            list of precisionTopk scores in same order as model_names\n",
        "            example: [0.13, 0.52, 0.36]\n",
        "        accuracy: list\n",
        "            list of accuracy scores in same order as model_names\n",
        "            example: [0.13, 0.52, 0.36]\n",
        "        coverage_scores: list\n",
        "            list of coverage scores in same order as model_names\n",
        "            example: [0.17, 0.25, 0.76]\n",
        "        user_coverage_scores: list\n",
        "            list of user coverage scores in same order as model_names\n",
        "            example: [0.17, 0.25, 0.76]\n",
        "        personalization_scores: list\n",
        "            list of personalization scores in same order as model_names\n",
        "            example: [0.13, 0.52, 0.36]\n",
        "        novelty_scores: list\n",
        "            list of novelty scores in same order as model_names\n",
        "            example: [0.13, 0.52, 0.36]\n",
        "        intra_list_similarity_scores: list\n",
        "            list of intra-list similarity scores in same order as model_names\n",
        "            example: [0.13, 0.52, 0.36]\n",
        "        \"\"\"\n",
        "        self.model_names = model_names\n",
        "        self.NDCG_scores = NDCG_scores\n",
        "        self.precisionTopk_scores = precisionTopk_scores\n",
        "        # self.accuracy=accuracy\n",
        "        self.coverage_scores = coverage_scores\n",
        "        self.user_coverage_scores = user_coverage_scores\n",
        "        self.personalization_scores = personalization_scores\n",
        "        self.novelty_scores = novelty_scores\n",
        "        self.intra_list_similarity_scores = intra_list_similarity_scores\n",
        "\n",
        "    @staticmethod\n",
        "    def show_values_on_bars(axs, h_v=\"v\", space=0.4):\n",
        "        def _show_on_single_plot(ax):\n",
        "            if h_v == \"v\":\n",
        "                for p in ax.patches:\n",
        "                    _x = p.get_x() + p.get_width() / 2\n",
        "                    _y = p.get_y() + p.get_height()\n",
        "                    value = round(p.get_height(), 4)\n",
        "                    ax.text(_x, _y, value, ha=\"center\")\n",
        "            elif h_v == \"h\":\n",
        "                for p in ax.patches:\n",
        "                    _x = p.get_x() + p.get_width() + float(space)\n",
        "                    _y = p.get_y() + p.get_height()\n",
        "                    value = round(p.get_height(), 4)\n",
        "                    ax.text(_x, _y, value, ha=\"left\")\n",
        "\n",
        "        if isinstance(axs, np.ndarray):\n",
        "            for idx, ax in np.ndenumerate(axs):\n",
        "                _show_on_single_plot(ax)\n",
        "        else:\n",
        "            _show_on_single_plot(axs)\n",
        "\n",
        "    @property\n",
        "    def NDCG_plot(self):\n",
        "        \"\"\"\n",
        "        Plots the NDCG for a set of models to compare.\n",
        "        ----------\n",
        "        Returns:\n",
        "        -------\n",
        "            A NDCG plot\n",
        "        \"\"\"\n",
        "        # create palette\n",
        "        plt.figure(figsize=(12, 6))\n",
        "        recommender_palette = [\"#ED2BFF\", \"#14E2C0\",\n",
        "                               \"#FF9F1C\", \"#5E2BFF\", \"#FC5FA3\"]\n",
        "        sns.set_palette(recommender_palette)\n",
        "        # make barplot\n",
        "        ax = sns.barplot(x=self.model_names, y=self.NDCG_scores)\n",
        "        # set labels\n",
        "        ax.set_title(\"NDCG@50\")\n",
        "        ax.set_ylabel(\"NDCG@50\")\n",
        "        self.show_values_on_bars(ax)\n",
        "        plt.show()\n",
        "\n",
        "    @property\n",
        "    def precisionTopk_plot(self):\n",
        "        \"\"\"\n",
        "        Plots the precisionTopk for a set of models to compare.\n",
        "        ----------\n",
        "        Returns:\n",
        "        -------\n",
        "            A precisionTopk plot\n",
        "        \"\"\"\n",
        "        # create palette\n",
        "        plt.figure(figsize=(12, 6))\n",
        "        recommender_palette = [\"#ED2BFF\", \"#14E2C0\",\n",
        "                               \"#FF9F1C\", \"#5E2BFF\", \"#FC5FA3\"]\n",
        "        sns.set_palette(recommender_palette)\n",
        "        # make barplot\n",
        "        ax = sns.barplot(x=self.model_names, y=self.precisionTopk_scores)\n",
        "        # set labels\n",
        "        ax.set_title(\"precision@50\")\n",
        "        ax.set_ylabel(\"precision@50\")\n",
        "        self.show_values_on_bars(ax)\n",
        "        plt.show()\n",
        "\n",
        "    @property\n",
        "    def accuracy_plot(self):\n",
        "        \"\"\"\n",
        "        Plots the accuracy for a set of models to compare.\n",
        "        ----------\n",
        "        Returns:\n",
        "        -------\n",
        "            A accuracy plot\n",
        "        \"\"\"\n",
        "        # create palette\n",
        "        plt.figure(figsize=(12, 6))\n",
        "        recommender_palette = [\"#ED2BFF\", \"#14E2C0\",\n",
        "                               \"#FF9F1C\", \"#5E2BFF\", \"#FC5FA3\"]\n",
        "        sns.set_palette(recommender_palette)\n",
        "        # make barplot\n",
        "        ax = sns.barplot(x=self.model_names, y=self.accuracy_scores)\n",
        "        # set labels\n",
        "        ax.set_title(\" rmse \")\n",
        "        ax.set_ylabel(\" rmse\")\n",
        "        self.show_values_on_bars(ax)\n",
        "        plt.show()\n",
        "\n",
        "    @property\n",
        "    def coverage_plot(self):\n",
        "        \"\"\"\n",
        "        Plots the coverage for a set of models to compare.\n",
        "        ----------\n",
        "        Returns:\n",
        "        -------\n",
        "            A coverage plot\n",
        "        \"\"\"\n",
        "        # create palette\n",
        "        plt.figure(figsize=(12, 6))\n",
        "        recommender_palette = [\"#ED2BFF\", \"#14E2C0\",\n",
        "                               \"#FF9F1C\", \"#5E2BFF\", \"#FC5FA3\"]\n",
        "        sns.set_palette(recommender_palette)\n",
        "        # make barplot\n",
        "        ax = sns.barplot(x=self.model_names, y=self.coverage_scores)\n",
        "        # set labels\n",
        "        ax.set_title('Catalog Coverage in %')\n",
        "        ax.set_ylabel('coverage')\n",
        "        self.show_values_on_bars(ax)\n",
        "        plt.show()\n",
        "\n",
        "    @property\n",
        "    def user_coverage_plot(self):\n",
        "        \"\"\"\n",
        "        Plots the coverage for a set of models to compare.\n",
        "        ----------\n",
        "        Returns:\n",
        "        -------\n",
        "            A coverage plot\n",
        "        \"\"\"\n",
        "        plt.figure(figsize=(12, 6))\n",
        "        # create palette\n",
        "        recommender_palette = [\"#ED2BFF\", \"#14E2C0\",\n",
        "                               \"#FF9F1C\", \"#5E2BFF\", \"#FC5FA3\"]\n",
        "        sns.set_palette(recommender_palette)\n",
        "        # make barplot\n",
        "        ax = sns.barplot(x=self.model_names, y=self.user_coverage_scores)\n",
        "        # set labels\n",
        "        ax.set_title('User Coverage in %')\n",
        "        ax.set_ylabel('coverage')\n",
        "        self.show_values_on_bars(ax)\n",
        "        plt.show()\n",
        "\n",
        "    @property\n",
        "    def personalization_plot(self):\n",
        "        \"\"\"\n",
        "        Plots the personalization for a set of models to compare.\n",
        "        ----------\n",
        "        Returns:\n",
        "        -------\n",
        "            A personalization plot\n",
        "        \"\"\"\n",
        "        # create palette\n",
        "        plt.figure(figsize=(12, 6))\n",
        "        recommender_palette = [\"#ED2BFF\", \"#14E2C0\",\n",
        "                               \"#FF9F1C\", \"#5E2BFF\", \"#FC5FA3\"]\n",
        "        sns.set_palette(recommender_palette)\n",
        "        # make barplot\n",
        "        ax = sns.barplot(x=self.model_names, y=self.personalization_scores)\n",
        "        # set labels\n",
        "        ax.set_title(\"Personalization in %\")\n",
        "        ax.set_ylabel(\"personalization\")\n",
        "        self.show_values_on_bars(ax)\n",
        "        plt.show()\n",
        "\n",
        "    @property\n",
        "    def novelty_plot(self):\n",
        "        \"\"\"\n",
        "        Plots the novelty for a set of models to compare.\n",
        "        ----------\n",
        "        Returns:\n",
        "        -------\n",
        "            A novelty plot\n",
        "        \"\"\"\n",
        "        # create palette\n",
        "        plt.figure(figsize=(12, 6))\n",
        "        recommender_palette = [\"#ED2BFF\", \"#14E2C0\",\n",
        "                               \"#FF9F1C\", \"#5E2BFF\", \"#FC5FA3\"]\n",
        "        sns.set_palette(recommender_palette)\n",
        "        # make barplot\n",
        "        ax = sns.barplot(x=self.model_names, y=self.novelty_scores)\n",
        "        # set labels\n",
        "        ax.set_title(\"novelty\")\n",
        "        ax.set_ylabel(\"novelty\")\n",
        "        # self.show_values_on_bars(ax)\n",
        "        plt.show()\n",
        "\n",
        "    @property\n",
        "    def intra_list_similarity_plot(self):\n",
        "        \"\"\"\n",
        "        Plots the intra-list similarity for a set of models to compare.\n",
        "        ----------\n",
        "        Returns:\n",
        "        -------\n",
        "            A intra-list similarity plot\n",
        "        \"\"\"\n",
        "        # create palette\n",
        "        plt.figure(figsize=(12, 6))\n",
        "        recommender_palette = [\"#ED2BFF\", \"#14E2C0\",\n",
        "                               \"#FF9F1C\", \"#5E2BFF\", \"#FC5FA3\"]\n",
        "        sns.set_palette(recommender_palette)\n",
        "        # make barplot\n",
        "        ax = sns.barplot(x=self.model_names,\n",
        "                         y=self.intra_list_similarity_scores)\n",
        "        # set labels\n",
        "        ax.set_title(\"Diversity in %\")\n",
        "        ax.set_ylabel(\"Diversity in %\")\n",
        "        self.show_values_on_bars(ax)\n",
        "        plt.show()\n",
        "\n",
        "    def make_listy(p):\n",
        "        if isinstance(p, str):\n",
        "            return [p]\n",
        "        try:\n",
        "            _ = iter(p)\n",
        "        except TypeError:\n",
        "            p = [p]\n",
        "        return p\n",
        "\n",
        "    def is_listy(x): return isinstance(x, (tuple, list))\n",
        "\n",
        "    @property\n",
        "    def metrics_plot(self):\n",
        "        \"\"\"\n",
        "        Plots the coverage, personalization and intra-list similarity for a set of models to compare.\n",
        "        ----------\n",
        "        Returns:\n",
        "        -------\n",
        "            An interactive metrics plot\n",
        "        \"\"\"\n",
        "\n",
        "        fig = go.Figure()\n",
        "\n",
        "        for model_name, coverage, personalization, intra_list_similarity in \\\n",
        "            zip(self.model_names, self.coverage_scores, self.personalization_scores,\n",
        "                self.intra_list_similarity_scores):\n",
        "            fig.add_trace(go.Scatterpolar(\n",
        "                r=[coverage, personalization * 100, intra_list_similarity * 100],\n",
        "                theta=['coverage', 'personalization', 'diversity'],\n",
        "                fill='tonext',\n",
        "                name=model_name\n",
        "            ))\n",
        "\n",
        "        fig.update_layout(\n",
        "            polar=dict(\n",
        "                radialaxis=dict(\n",
        "                    visible=True,\n",
        "                    range=[0, 100]\n",
        "                )),\n",
        "            showlegend=True\n",
        "        )\n",
        "\n",
        "        fig.show()"
      ],
      "execution_count": null,
      "outputs": []
    },
    {
      "cell_type": "markdown",
      "metadata": {
        "id": "mXQV6CpIakCl"
      },
      "source": [
        "#Sampling\n",
        "\n",
        "Requirement for different usages:\n",
        "1. at least 20,000 users and 1,000 items (larger dataset for the project)\n",
        "2. about 1,000 users and 200 items (smaller dataset for development)\n",
        "\n",
        "Choices:\n",
        "1. Do you care about choosing popular items or unpopular items?\n",
        "> We want to accomodate both popular and unpopular item with reasonable propoertion in our samples, so we can recommend popular item and at the same time keep novelty. For this reason, we decide to randomly choose items first ignoring how many people rate them, so items in the sample will include randomness. Howerver, considering the development of models, we want these items having at least a minimum number of ratings (for example, each movie must have at least 20 ratings for the larger dataset).\n",
        "\n",
        "2. Do you care about how many items a user has rated?\n",
        "> We will only choose users that rate at least a minimum number of items to get a relative dense matrix (for example if we need to create a sample having at least 20,000 users and 1,000 items, each users we choose must have rated at least 20 items). \n",
        "\n",
        "3. If you merely sample rows randomly from the raw data set, will you be missing relevant data for samples users or items?\n",
        "> Yes, we have already solved this problem in the first two questions.\n",
        "\n",
        "Full Dataset Description:\n",
        "1. 27753444 ratings\n",
        "2. 1108997 tag applications\n",
        "3. 58098 movies\n",
        "4. 283228 users\n",
        "\n",
        "We do not want to leverage any information about test data, so we sample our development dataset only from the train dataset part of the larger dataset.\n",
        "\n"
      ]
    },
    {
      "cell_type": "code",
      "metadata": {
        "id": "64xwihkFz0s4",
        "colab": {
          "base_uri": "https://localhost:8080/"
        },
        "outputId": "f18af4f7-e18d-4b17-ffec-33a873030ed3"
      },
      "source": [
        "!wget http://files.grouplens.org/datasets/movielens/ml-latest.zip\n",
        "!unzip ml-latest.zip\n",
        "!ls ./ml-latest\n",
        "full_dir = \"./ml-latest/\"\n",
        "full_movies = pd.read_csv(full_dir+'movies.csv')\n",
        "full_ratings = pd.read_csv(full_dir+'ratings.csv')\n",
        "full_tags = pd.read_csv(full_dir+'tags.csv')\n",
        "full_genome_scores = pd.read_csv(full_dir+'genome-scores.csv')\n",
        "full_genome_tags = pd.read_csv(full_dir+'genome-tags.csv')"
      ],
      "execution_count": null,
      "outputs": [
        {
          "output_type": "stream",
          "text": [
            "--2020-12-17 17:37:07--  http://files.grouplens.org/datasets/movielens/ml-latest.zip\n",
            "Resolving files.grouplens.org (files.grouplens.org)... 128.101.65.152\n",
            "Connecting to files.grouplens.org (files.grouplens.org)|128.101.65.152|:80... connected.\n",
            "HTTP request sent, awaiting response... 200 OK\n",
            "Length: 277113433 (264M) [application/zip]\n",
            "Saving to: ‘ml-latest.zip’\n",
            "\n",
            "ml-latest.zip       100%[===================>] 264.28M  59.2MB/s    in 4.8s    \n",
            "\n",
            "2020-12-17 17:37:12 (55.2 MB/s) - ‘ml-latest.zip’ saved [277113433/277113433]\n",
            "\n",
            "Archive:  ml-latest.zip\n",
            "   creating: ml-latest/\n",
            "  inflating: ml-latest/links.csv     \n",
            "  inflating: ml-latest/tags.csv      \n",
            "  inflating: ml-latest/genome-tags.csv  \n",
            "  inflating: ml-latest/ratings.csv   \n",
            "  inflating: ml-latest/README.txt    \n",
            "  inflating: ml-latest/genome-scores.csv  \n",
            "  inflating: ml-latest/movies.csv    \n",
            "genome-scores.csv  links.csv   ratings.csv  tags.csv\n",
            "genome-tags.csv    movies.csv  README.txt\n"
          ],
          "name": "stdout"
        }
      ]
    },
    {
      "cell_type": "code",
      "metadata": {
        "id": "1XpJSVZc75rh"
      },
      "source": [
        "sample_items_users = pd.merge(full_movies,full_ratings, how = 'left', on = ['movieId'])\n",
        "\n",
        "def sample_dataset(full_ratings,min_movie_ratings,min_user_ratings,num_user,num_item):\n",
        "    random.seed(1)\n",
        "    sample_items_counts = full_ratings['movieId'].value_counts()>=min_movie_ratings\n",
        "    sample_items_true = random.sample(list(sample_items_counts[sample_items_counts==True].index),int(num_item*1.3))\n",
        "    sample_items_users_new1 = full_ratings[full_ratings['movieId'].isin(sample_items_true)]\n",
        "    sample_users_counts = sample_items_users_new1['userId'].value_counts()>=min_user_ratings\n",
        "    sample_users_true = random.sample(list(sample_users_counts[sample_users_counts==True].index),int(num_user*1.001))\n",
        "    sample_items_users_new2 = sample_items_users_new1[sample_items_users_new1['userId'].isin(sample_users_true)]\n",
        "    sample_items_counts = sample_items_users_new2['movieId'].value_counts()>=min_movie_ratings\n",
        "    sample_items_true = list(sample_items_counts[sample_items_counts==True].index)\n",
        "    sample_items_users_new3 = sample_items_users_new2[sample_items_users_new2['movieId'].isin(sample_items_true)]\n",
        "    return sample_items_users_new3\n",
        "\n",
        "larger_dataset = sample_dataset(sample_items_users,20,20,20000,1000)\n",
        "# larger_dataset.head()"
      ],
      "execution_count": null,
      "outputs": []
    },
    {
      "cell_type": "markdown",
      "metadata": {
        "id": "iZbUGm63gSIu"
      },
      "source": [
        "## Train Test Split\n",
        "\n",
        "For recommender systems, withholding data means withholding user-item pairs. it does not mean holding out a subset of users, or a subset of items,\n",
        "but what if this kind of method creates cold start users or items? \n",
        "\n",
        "Our sampling approaches seek to minimize this possibility:\n",
        "\n",
        "> 1. we have built the algorithm using only users or items with a minimum number of interactions\n",
        "\n",
        "\n",
        "> 2. we leave out the latest interactions of each user to form the test dataset \n",
        "\n",
        "We also found that in our larger dataset there are users who have rated multiple movies at the same time, so we only keep the number of records we want as the test dataset in this case."
      ]
    },
    {
      "cell_type": "code",
      "metadata": {
        "id": "hL5RzMsNh9Ah"
      },
      "source": [
        "def build_train_test_split(full, if_develop=False):\n",
        "    random.seed(1)\n",
        "    if if_develop==True:\n",
        "        new = full.copy()\n",
        "        test = pd.DataFrame()\n",
        "        for i in range(2):\n",
        "            latest_timestamp = new.groupby('userId').timestamp.max().rename('latest')\n",
        "            temp = pd.merge(latest_timestamp, new, how='inner', left_index=True, right_on='userId')\n",
        "            test_ = temp[temp['latest']==temp['timestamp']]\n",
        "            test_.drop(['latest'],axis=1,inplace=True)\n",
        "            test_ = test_.drop_duplicates(subset=['userId'],keep='first')\n",
        "            test = pd.concat([test, test_])\n",
        "            new = new[~new.index.isin(test_.index)]\n",
        "        train = full[~full.index.isin(test.index)].dropna()\n",
        "    else:\n",
        "        new = full.copy()\n",
        "        test = pd.DataFrame()\n",
        "        for i in range(5):\n",
        "            latest_timestamp = new.groupby('userId').timestamp.max().rename('latest')\n",
        "            temp = pd.merge(latest_timestamp, new, how='inner', left_index=True, right_on='userId')\n",
        "            test_ = temp[temp['latest']==temp['timestamp']]\n",
        "            test_.drop(['latest'],axis=1,inplace=True)\n",
        "            test_ = test_.drop_duplicates(subset=['userId'],keep='first')\n",
        "            test = pd.concat([test, test_])\n",
        "            new = new[~new.index.isin(test_.index)]\n",
        "        train = full[~full.index.isin(test.index)].dropna()\n",
        "    return train, test"
      ],
      "execution_count": null,
      "outputs": []
    },
    {
      "cell_type": "code",
      "metadata": {
        "id": "kGJ_-hYs02Vb"
      },
      "source": [
        "def kfold(dataset, n_splits=3):\n",
        "    \"\"\" Iterate from the output of the function could we get n sets of train and test data\"\"\"\n",
        "    kfold_list = list()\n",
        "    stratifiedKFolds = StratifiedKFold(n_splits=n_splits, shuffle=False)\n",
        "    for i, (trn_idx, val_idx) in enumerate(stratifiedKFolds.split(dataset, dataset.userId)):\n",
        "        train = dataset.reset_index().iloc[trn_idx].set_index('index')\n",
        "        train.index.name = None\n",
        "        test = dataset.reset_index().iloc[val_idx].set_index('index')\n",
        "        test.index.name = None\n",
        "        kfold_list.append((train, test))\n",
        "    # kfold_list is a list, length of n_splits. [(train_0, test_0), (train_1, test_1), (train_2, test_2)]\n",
        "    return kfold_list\n",
        "\n",
        "# kfold_dataset = kfold(larger_dataset, 3)"
      ],
      "execution_count": null,
      "outputs": []
    },
    {
      "cell_type": "code",
      "metadata": {
        "id": "GlaLoAN5dTZd"
      },
      "source": [
        "train, test = build_train_test_split(larger_dataset)\n",
        "development_dataset = sample_dataset(larger_dataset,5,12,1000,200)\n",
        "# development_dataset.head()"
      ],
      "execution_count": null,
      "outputs": []
    },
    {
      "cell_type": "code",
      "metadata": {
        "id": "YNZZIwjmPR58"
      },
      "source": [
        "full_dataset = pd.concat([train, test])"
      ],
      "execution_count": null,
      "outputs": []
    },
    {
      "cell_type": "markdown",
      "metadata": {
        "id": "N2jqXK3wxbew"
      },
      "source": [
        "# EDA"
      ]
    },
    {
      "cell_type": "markdown",
      "metadata": {
        "id": "5nFfb7kW5TeH"
      },
      "source": [
        "\bFirst we explored the Long tail effect. We could see the distribution of movies popularity is long tail. Most of movies are rated by smaller set of people."
      ]
    },
    {
      "cell_type": "code",
      "metadata": {
        "colab": {
          "base_uri": "https://localhost:8080/",
          "height": 441
        },
        "id": "GoISP2rrxfdo",
        "outputId": "fbcbd112-fb9d-4c27-90fe-46c6a18192b9"
      },
      "source": [
        "fig = plt.figure(figsize=(15, 7))\n",
        "long_tail_plot(df=larger_dataset, \n",
        "             item_id_column=\"movieId\", \n",
        "             interaction_type=\"movie ratings\", \n",
        "             percentage=0.5,\n",
        "             x_labels=False)"
      ],
      "execution_count": null,
      "outputs": [
        {
          "output_type": "display_data",
          "data": {
            "image/png": "[encoded data removed]",
            "text/plain": [
              "<Figure size 1080x504 with 1 Axes>"
            ]
          },
          "metadata": {
            "tags": [],
            "needs_background": "light"
          }
        }
      ]
    },
    {
      "cell_type": "code",
      "metadata": {
        "colab": {
          "base_uri": "https://localhost:8080/",
          "height": 289
        },
        "id": "tZlUUkxnHNL4",
        "outputId": "12cc5ad8-fae9-488b-d628-34ff318f2877"
      },
      "source": [
        "movies = larger_dataset.copy()\n",
        "movies.set_index(\"movieId\", inplace=True, drop=True)\n",
        "movies = movies.genres.str.split(\"|\", expand=True)\n",
        "movies.reset_index(inplace=True)\n",
        "movies = pd.melt(movies, id_vars='movieId', value_vars=[0, 1, 2, 3, 4])\n",
        "movies.drop_duplicates(\"movieId\", inplace=True)\n",
        "movies.set_index('movieId', inplace=True)\n",
        "\n",
        "movies = pd.get_dummies(movies.value)\n",
        "movies.head()"
      ],
      "execution_count": null,
      "outputs": [
        {
          "output_type": "execute_result",
          "data": {
            "text/html": [
              "<div>\n",
              "<style scoped>\n",
              "    .dataframe tbody tr th:only-of-type {\n",
              "        vertical-align: middle;\n",
              "    }\n",
              "\n",
              "    .dataframe tbody tr th {\n",
              "        vertical-align: top;\n",
              "    }\n",
              "\n",
              "    .dataframe thead th {\n",
              "        text-align: right;\n",
              "    }\n",
              "</style>\n",
              "<table border=\"1\" class=\"dataframe\">\n",
              "  <thead>\n",
              "    <tr style=\"text-align: right;\">\n",
              "      <th></th>\n",
              "      <th>(no genres listed)</th>\n",
              "      <th>Action</th>\n",
              "      <th>Adventure</th>\n",
              "      <th>Animation</th>\n",
              "      <th>Children</th>\n",
              "      <th>Comedy</th>\n",
              "      <th>Crime</th>\n",
              "      <th>Documentary</th>\n",
              "      <th>Drama</th>\n",
              "      <th>Fantasy</th>\n",
              "      <th>Film-Noir</th>\n",
              "      <th>Horror</th>\n",
              "      <th>Musical</th>\n",
              "      <th>Mystery</th>\n",
              "      <th>Romance</th>\n",
              "      <th>Sci-Fi</th>\n",
              "      <th>Thriller</th>\n",
              "      <th>War</th>\n",
              "      <th>Western</th>\n",
              "    </tr>\n",
              "    <tr>\n",
              "      <th>movieId</th>\n",
              "      <th></th>\n",
              "      <th></th>\n",
              "      <th></th>\n",
              "      <th></th>\n",
              "      <th></th>\n",
              "      <th></th>\n",
              "      <th></th>\n",
              "      <th></th>\n",
              "      <th></th>\n",
              "      <th></th>\n",
              "      <th></th>\n",
              "      <th></th>\n",
              "      <th></th>\n",
              "      <th></th>\n",
              "      <th></th>\n",
              "      <th></th>\n",
              "      <th></th>\n",
              "      <th></th>\n",
              "      <th></th>\n",
              "    </tr>\n",
              "  </thead>\n",
              "  <tbody>\n",
              "    <tr>\n",
              "      <th>11</th>\n",
              "      <td>0</td>\n",
              "      <td>0</td>\n",
              "      <td>0</td>\n",
              "      <td>0</td>\n",
              "      <td>0</td>\n",
              "      <td>1</td>\n",
              "      <td>0</td>\n",
              "      <td>0</td>\n",
              "      <td>0</td>\n",
              "      <td>0</td>\n",
              "      <td>0</td>\n",
              "      <td>0</td>\n",
              "      <td>0</td>\n",
              "      <td>0</td>\n",
              "      <td>0</td>\n",
              "      <td>0</td>\n",
              "      <td>0</td>\n",
              "      <td>0</td>\n",
              "      <td>0</td>\n",
              "    </tr>\n",
              "    <tr>\n",
              "      <th>44</th>\n",
              "      <td>0</td>\n",
              "      <td>1</td>\n",
              "      <td>0</td>\n",
              "      <td>0</td>\n",
              "      <td>0</td>\n",
              "      <td>0</td>\n",
              "      <td>0</td>\n",
              "      <td>0</td>\n",
              "      <td>0</td>\n",
              "      <td>0</td>\n",
              "      <td>0</td>\n",
              "      <td>0</td>\n",
              "      <td>0</td>\n",
              "      <td>0</td>\n",
              "      <td>0</td>\n",
              "      <td>0</td>\n",
              "      <td>0</td>\n",
              "      <td>0</td>\n",
              "      <td>0</td>\n",
              "    </tr>\n",
              "    <tr>\n",
              "      <th>71</th>\n",
              "      <td>0</td>\n",
              "      <td>1</td>\n",
              "      <td>0</td>\n",
              "      <td>0</td>\n",
              "      <td>0</td>\n",
              "      <td>0</td>\n",
              "      <td>0</td>\n",
              "      <td>0</td>\n",
              "      <td>0</td>\n",
              "      <td>0</td>\n",
              "      <td>0</td>\n",
              "      <td>0</td>\n",
              "      <td>0</td>\n",
              "      <td>0</td>\n",
              "      <td>0</td>\n",
              "      <td>0</td>\n",
              "      <td>0</td>\n",
              "      <td>0</td>\n",
              "      <td>0</td>\n",
              "    </tr>\n",
              "    <tr>\n",
              "      <th>82</th>\n",
              "      <td>0</td>\n",
              "      <td>0</td>\n",
              "      <td>0</td>\n",
              "      <td>0</td>\n",
              "      <td>0</td>\n",
              "      <td>1</td>\n",
              "      <td>0</td>\n",
              "      <td>0</td>\n",
              "      <td>0</td>\n",
              "      <td>0</td>\n",
              "      <td>0</td>\n",
              "      <td>0</td>\n",
              "      <td>0</td>\n",
              "      <td>0</td>\n",
              "      <td>0</td>\n",
              "      <td>0</td>\n",
              "      <td>0</td>\n",
              "      <td>0</td>\n",
              "      <td>0</td>\n",
              "    </tr>\n",
              "    <tr>\n",
              "      <th>84</th>\n",
              "      <td>0</td>\n",
              "      <td>0</td>\n",
              "      <td>0</td>\n",
              "      <td>0</td>\n",
              "      <td>0</td>\n",
              "      <td>1</td>\n",
              "      <td>0</td>\n",
              "      <td>0</td>\n",
              "      <td>0</td>\n",
              "      <td>0</td>\n",
              "      <td>0</td>\n",
              "      <td>0</td>\n",
              "      <td>0</td>\n",
              "      <td>0</td>\n",
              "      <td>0</td>\n",
              "      <td>0</td>\n",
              "      <td>0</td>\n",
              "      <td>0</td>\n",
              "      <td>0</td>\n",
              "    </tr>\n",
              "  </tbody>\n",
              "</table>\n",
              "</div>"
            ],
            "text/plain": [
              "         (no genres listed)  Action  Adventure  ...  Thriller  War  Western\n",
              "movieId                                         ...                        \n",
              "11                        0       0          0  ...         0    0        0\n",
              "44                        0       1          0  ...         0    0        0\n",
              "71                        0       1          0  ...         0    0        0\n",
              "82                        0       0          0  ...         0    0        0\n",
              "84                        0       0          0  ...         0    0        0\n",
              "\n",
              "[5 rows x 19 columns]"
            ]
          },
          "metadata": {
            "tags": []
          },
          "execution_count": 32
        }
      ]
    },
    {
      "cell_type": "code",
      "metadata": {
        "id": "f1sI8h2QFXad"
      },
      "source": [
        "def string2float(string):\n",
        "    try:\n",
        "        output = float(string)\n",
        "    except ValueError:\n",
        "        output = None\n",
        "    return output\n",
        "# def float2int(float):\n",
        "#     try:\n",
        "#         output = int(float)\n",
        "#     except ValueError:\n",
        "#         output = None\n",
        "#     return output"
      ],
      "execution_count": null,
      "outputs": []
    },
    {
      "cell_type": "markdown",
      "metadata": {
        "id": "4P1LWJ76u8MB"
      },
      "source": [
        "Below is the distribution of the movie released year. We can see from it that The number of movies has exploded after 2000 and the trend continues to 2020."
      ]
    },
    {
      "cell_type": "code",
      "metadata": {
        "colab": {
          "base_uri": "https://localhost:8080/",
          "height": 353
        },
        "id": "lXSsctCw_CS-",
        "outputId": "bedec4c8-dd94-424e-fa9d-3aa93c9abf5a"
      },
      "source": [
        "# Distribution of the Movie Released Year\n",
        "movie_year = full_movies.copy()\n",
        "movie_year['movie_year'] = movie_year.title.map(lambda x:x[-5:-1]).map(lambda x:string2float(x))\n",
        "movie_year = movie_year.groupby(['movie_year']).movieId.count()\n",
        "plt.figure(figsize=(20,6))\n",
        "recommender_palette = [\"#ED2BFF\", \"#14E2C0\", \"#FF9F1C\", \"#5E2BFF\",\"#FC5FA3\"]\n",
        "sns.set_palette(recommender_palette)\n",
        "movie_year = movie_year[1920:]\n",
        "ax = sns.lineplot(x=movie_year.index, y=movie_year.values)\n",
        "ax.set_title(\"Movies Year\")\n",
        "ax.set_ylabel(\"Number of movies\")\n",
        "plt.show()"
      ],
      "execution_count": null,
      "outputs": [
        {
          "output_type": "display_data",
          "data": {
            "image/png": "[encoded data removed]",
            "text/plain": [
              "<Figure size 1440x432 with 1 Axes>"
            ]
          },
          "metadata": {
            "tags": [],
            "needs_background": "light"
          }
        }
      ]
    },
    {
      "cell_type": "markdown",
      "metadata": {
        "id": "cYiRoCWEyftd"
      },
      "source": [
        "Below is the distribution of user's most-watched movie decade. We can see that users watched movie in 2000s most."
      ]
    },
    {
      "cell_type": "code",
      "metadata": {
        "id": "M_5A0hA1CKT7",
        "colab": {
          "base_uri": "https://localhost:8080/",
          "height": 405
        },
        "outputId": "65e604e0-0505-46c5-9f01-12fc83f1c848"
      },
      "source": [
        "# The distribution of user's most-watched movie decade.\n",
        "movie_year = development_dataset.copy()\n",
        "movie_year['movie_year_bucket'] = movie_year.title.map(lambda x:x[-5:-1]).astype(int).map(createUserProfile.year2bucket)\n",
        "movie_year = movie_year.set_index('userId')\n",
        "movie_year = pd.get_dummies(movie_year['movie_year_bucket'])\n",
        "movie_year = movie_year.reset_index()\n",
        "movie_year = movie_year.groupby('userId').sum()\n",
        "movie_year = pd.DataFrame(movie_year.apply(lambda row: movie_year.columns[np.argmax(row.values)], axis=1)).rename(columns={0:'movie_year_most'})\n",
        "movie_year = movie_year.reset_index().groupby(['movie_year_most']).count().userId\n",
        "plt.figure(figsize=(20,6))\n",
        "recommender_palette = [\"#ED2BFF\", \"#14E2C0\", \"#FF9F1C\", \"#5E2BFF\",\"#FC5FA3\"]\n",
        "sns.set_palette(recommender_palette)\n",
        "ax = sns.barplot(x=movie_year.index, y=movie_year.values)\n",
        "ax.set_title(\"Movies Age\")\n",
        "ax.set_ylabel(\"Number of Users\")\n",
        "plt.show()"
      ],
      "execution_count": null,
      "outputs": [
        {
          "output_type": "display_data",
          "data": {
            "image/png": "[encoded data removed]",
            "text/plain": [
              "<Figure size 1440x432 with 1 Axes>"
            ]
          },
          "metadata": {
            "tags": [],
            "needs_background": "light"
          }
        }
      ]
    },
    {
      "cell_type": "markdown",
      "metadata": {
        "id": "Y-kbxlMozQ6R"
      },
      "source": [
        "# Baseline Model\n",
        "Using hw2 two CF models as baseline models."
      ]
    },
    {
      "cell_type": "markdown",
      "metadata": {
        "id": "SSW26E_6OGKS"
      },
      "source": [
        "## Item-based Model"
      ]
    },
    {
      "cell_type": "markdown",
      "metadata": {
        "id": "MV0jpT1MbJVS"
      },
      "source": [
        "### Model Training and Evaluation"
      ]
    },
    {
      "cell_type": "code",
      "metadata": {
        "id": "4-0LKEhhIptO"
      },
      "source": [
        "class ItemCF:\n",
        "\n",
        "    def __init__(self, train_org, dataset, k, n, only_popular=False):\n",
        "        self.dataset = dataset\n",
        "        self.k = k\n",
        "        self.n = n\n",
        "        self.train_org = train_org\n",
        "        self.only_popular = only_popular\n",
        "\n",
        "    def prepare_matrix(self):\n",
        "        full_matrix = self.dataset.pivot(index='userId', columns='movieId', values='rating').to_numpy()\n",
        "        self.full_matrix = full_matrix\n",
        "\n",
        "    def build_train_test_split_itemCF(self):\n",
        "        self.prepare_matrix()\n",
        "        origin = self.dataset.pivot(index='userId', columns='movieId', values='rating')\n",
        "        self.origin = origin\n",
        "        origin = self.origin.replace(list(self.dataset['rating'].unique()),np.nan)\n",
        "        for i in range(len(self.train_org)):\n",
        "            origin.loc[self.train_org.iloc[i]['userId']][self.train_org.iloc[i]['movieId']] = self.train_org.iloc[i]['rating']\n",
        "        self.train = origin.to_numpy()\n",
        "\n",
        "    def centered_matrix(self):\n",
        "        train_matrix = self.train\n",
        "        user_mean = np.nanmean(train_matrix, axis = 1)\n",
        "        centered_train = train_matrix - user_mean[:, np.newaxis]\n",
        "        self.centered_train = centered_train\n",
        "\n",
        "    def adjusted_cosine(self):\n",
        "        centered_train = self.centered_train\n",
        "        where_are_NaNs = np.isnan(centered_train)\n",
        "        new_ = np.copy(centered_train)\n",
        "        new_[where_are_NaNs] = 0\n",
        "        squares = np.square(new_)\n",
        "        inner_product = new_.T.dot(new_)\n",
        "        new_2 = np.copy(centered_train)\n",
        "        new_2[~np.isnan(new_2)] = 0\n",
        "        new_2[np.isnan(new_2)] = 1\n",
        "        new_2 = 1 - new_2\n",
        "        temp_ = squares.T.dot(new_2)\n",
        "        temp_inner_product = temp_.T * temp_\n",
        "        temp_new = np.sqrt(temp_inner_product)\n",
        "        adjusted_cosine = np.divide(inner_product,temp_new)\n",
        "        self.adjusted_cosine = adjusted_cosine\n",
        "\n",
        "    def KNearestNeighbor(self):\n",
        "        adjusted_cosine = self.adjusted_cosine\n",
        "        k = self.k\n",
        "        temp_ = np.copy(adjusted_cosine)\n",
        "        temp_[np.isnan(temp_)] = 0   \n",
        "        ranking = np.argsort(-1 * temp_)[:,1:k+1]\n",
        "        self.ranking = ranking\n",
        "\n",
        "    def predict(self, user, item):\n",
        "        train_matrix = self.train\n",
        "        adjusted_cosine = self.adjusted_cosine\n",
        "        ranking = self.ranking\n",
        "        user_ratings_for_similar_items = train_matrix[user,ranking[item]]\n",
        "        similarity_for_similar_items = adjusted_cosine[item,ranking[item]]\n",
        "        value = np.dot(user_ratings_for_similar_items, similarity_for_similar_items)/sum(np.absolute(similarity_for_similar_items))\n",
        "        if np.isnan(value):\n",
        "            value = np.nanmean(train_matrix[user])\n",
        "            value = round(value * 2) / 2\n",
        "        if np.isnan(value):\n",
        "            value = 3\n",
        "        return value\n",
        "\n",
        "    def user_item_pair(self):\n",
        "        train_matrix = self.train\n",
        "        index = list(np.argwhere(~np.isnan(train_matrix)))\n",
        "        train_user_item_pair = {}\n",
        "        for i in range(len(index)):\n",
        "            if index[i][0] not in train_user_item_pair.keys():\n",
        "                train_user_item_pair[index[i][0]]=[index[i][1]]\n",
        "            else:\n",
        "                train_user_item_pair[index[i][0]].append(index[i][1])\n",
        "        self.train_user_item_pair = train_user_item_pair\n",
        "\n",
        "    def recommend(self, user_idx):\n",
        "        train_matrix = self.train\n",
        "        train_user_item_pair = self.train_user_item_pair\n",
        "        ranking = self.ranking\n",
        "        adjusted_cosine = self.adjusted_cosine\n",
        "        n = self.n\n",
        "        try:\n",
        "            watched_movies = train_user_item_pair[user_idx]\n",
        "        except:\n",
        "            watched_movies = []\n",
        "        # watched_movies = train_user_item_pair[user_idx]\n",
        "        recommendation={}\n",
        "        for item_idx in watched_movies:\n",
        "            nearest_item_idx = ranking[item_idx]\n",
        "            for neighbor_item in nearest_item_idx:\n",
        "                if neighbor_item in watched_movies:\n",
        "                    continue\n",
        "                if neighbor_item not in recommendation:\n",
        "                    recommendation[neighbor_item] = adjusted_cosine[item_idx][neighbor_item]\n",
        "                else:\n",
        "                    if adjusted_cosine[item_idx][neighbor_item] >  recommendation[neighbor_item]:\n",
        "                        recommendation[neighbor_item] = adjusted_cosine[item_idx][neighbor_item]\n",
        "            break\n",
        "        recommendation=sorted(recommendation.items(), key=lambda  x:x[1], reverse=True)\n",
        "        return recommendation\n",
        "\n",
        "    def RMSE(self):\n",
        "        pred = self.pred\n",
        "        act = self.act\n",
        "        self.rmse = np.sqrt(sum(abs((np.array(pred)-np.array(act)))**2)/len(act))\n",
        "\n",
        "    def build_itemCF(self, test_org):\n",
        "        self.prepare_matrix()\n",
        "        self.build_train_test_split_itemCF()\n",
        "        self.user_item_pair()\n",
        "        self.centered_matrix()\n",
        "        self.adjusted_cosine()\n",
        "        self.KNearestNeighbor()\n",
        "        k = self.k\n",
        "        n = self.n\n",
        "        centered_train = self.centered_train\n",
        "        adjcosine_train = self.adjusted_cosine\n",
        "        ranking = self.ranking\n",
        "        train_matrix = self.train\n",
        "        self.test_org = test_org\n",
        "        origin = self.origin.replace(list(self.dataset['rating'].unique()),np.nan)\n",
        "        for i in range(len(self.test_org)):\n",
        "            origin.loc[self.test_org.iloc[i]['userId']][self.test_org.iloc[i]['movieId']] = self.test_org.iloc[i]['rating']\n",
        "        self.test = origin.to_numpy()\n",
        "        self.test_idx = list(np.argwhere(~np.isnan(self.test)))\n",
        "        test_idx = self.test_idx\n",
        "        full_matrix = self.full_matrix\n",
        "        prediction = []\n",
        "        act = []\n",
        "        ## when you run fine-tuning and impact of sample size, ignore the calculation of recommendation\n",
        "        recommendation = {}\n",
        "        for i in test_idx:\n",
        "            prediction.append(self.predict( i[0], i[1] ))\n",
        "            act.append(full_matrix[i[0],i[1]])\n",
        "            recommendation[i[0]] = self.recommend(i[0])\n",
        "        self.pred = prediction\n",
        "        self.act = act\n",
        "        self.rec = recommendation\n",
        "    \n",
        "\n",
        "    def getDCG(self, scores):\n",
        "        return np.sum(\n",
        "            np.divide(np.power(2, scores) - 1, np.log(np.arange(scores.shape[0], dtype=np.float32) + 2)),\n",
        "            dtype=np.float32)\n",
        "\n",
        "\n",
        "    def getNDCG(self, rank_list, pos_items):\n",
        "        relevance = np.ones_like(pos_items)\n",
        "        it2rel = {it: r for it, r in zip(pos_items, relevance)}\n",
        "        rank_scores = np.asarray([it2rel.get(it, 0.0) for it in rank_list], dtype=np.float32)\n",
        "        idcg = self.getDCG(np.sort(relevance)[::-1])\n",
        "        dcg = self.getDCG(rank_scores)\n",
        "        if dcg == 0.0:\n",
        "            return 0.0\n",
        "        ndcg = dcg / idcg\n",
        "        return ndcg\n",
        "\n",
        "    def precision(self):\n",
        "        predicted = self.predicted\n",
        "        pos_item = self.pos_item\n",
        "        precision = []\n",
        "        for i in range(len(pos_item)):\n",
        "            reletive_and_retrieved = len(set(predicted[i]).intersection(set(pos_item[i])))\n",
        "            retrieved = len(predicted[i])\n",
        "            if retrieved == 0:\n",
        "                precision.append(0)\n",
        "            else:\n",
        "                precision.append(reletive_and_retrieved/retrieved)\n",
        "        self.prec = np.mean(np.array(precision))\n",
        "\n",
        "    def prepare_for_ndcg(self):\n",
        "        unpopularity = self.dataset.movieId.value_counts()<10\n",
        "        unpopular = unpopularity[unpopularity==True]\n",
        "        only_popular = self.only_popular\n",
        "        test_idx = self.test_idx\n",
        "        rec = self.rec\n",
        "        origin = self.dataset.pivot(index='userId', columns='movieId', values='rating')\n",
        "        predicted_new = [] \n",
        "        new_rec=[]\n",
        "        for key,value in rec.items():\n",
        "            list_=[]\n",
        "            for item in value:\n",
        "                list_.append(item[0])\n",
        "            new_rec.append(list_)\n",
        "        predicted = new_rec\n",
        "        for i in predicted:\n",
        "            new = []\n",
        "            for item in i:\n",
        "                add = origin.columns[item]\n",
        "                if only_popular==True and add in unpopular:\n",
        "                    continue\n",
        "                else:\n",
        "                    new.append(add)\n",
        "            predicted_new.append(new)\n",
        "        predicted = predicted_new\n",
        "        test_user_item = {}\n",
        "        for i in test_idx:\n",
        "            if i[0] in test_user_item.keys():\n",
        "                test_user_item[i[0]].append(origin.columns[i[1]])\n",
        "            else:\n",
        "                test_user_item[i[0]] = [origin.columns[i[1]]]\n",
        "        pos_item = []\n",
        "        for _,value in test_user_item.items():\n",
        "            pos_item.append(value)\n",
        "        self.predicted = predicted\n",
        "        self.pos_item = pos_item\n",
        "    \n",
        "    def evaluate(self, test_org):\n",
        "        ## rmse\n",
        "        self.build_itemCF(test_org)\n",
        "        full_matrix = self.full_matrix\n",
        "        train_matrix, test_idx = self.train, self.test_idx\n",
        "        pred, act, rank, rec = self.pred, self.act, self.ranking, self.rec\n",
        "        self.RMSE()\n",
        "        ## ndcg\n",
        "        self.prepare_for_ndcg()\n",
        "        predicted, pos_item = self.predicted, self.pos_item\n",
        "        ndcg = []\n",
        "        for i in range(len(pos_item)):\n",
        "            ndcg.append(self.getNDCG(predicted[i],pos_item[i]))\n",
        "        ndcg = np.mean(np.array(ndcg))\n",
        "        self.ndcg = ndcg\n",
        "        ## precision\n",
        "        self.precision()\n",
        "        return self.ndcg, self.prec\n",
        "        return self.rmse"
      ],
      "execution_count": null,
      "outputs": []
    },
    {
      "cell_type": "markdown",
      "metadata": {
        "id": "xcadwXHzhGfc"
      },
      "source": [
        "### Full Pipeline of ItemCF"
      ]
    },
    {
      "cell_type": "code",
      "metadata": {
        "colab": {
          "base_uri": "https://localhost:8080/"
        },
        "id": "-NS57QwJhLO4",
        "outputId": "5412d0c9-97ed-4566-cbdf-ad726b7525be"
      },
      "source": [
        "# full pipeline\n",
        "# Hyper parameter\n",
        "k = 50\n",
        "n = 50\n",
        "# dataset preparation\n",
        "# train, test = build_train_test_split(larger_dataset)\n",
        "\n",
        "# train, test = build_train_test_split(development_dataset)\n",
        "\n",
        "# trainging and evaluation model\n",
        "itemcf_model = ItemCF(train, full_dataset, 50, 50)\n",
        "ndcg_itemcf, precisionTopK_itemcf = itemcf_model.evaluate(test)\n",
        "\n",
        "print('precision at Top {} is {}'.format(k, precisionTopK_itemcf))\n",
        "print('ndcg is {}'.format(ndcg_itemcf))\n",
        "\n",
        "rec_list_itemcf, actual_list_itemcf = itemcf_model.predicted, itemcf_model.pos_item"
      ],
      "execution_count": null,
      "outputs": [
        {
          "output_type": "stream",
          "text": [
            "precision at Top 50 is 0.0021944566748680404\n",
            "ndcg is 0.007377953205922546\n"
          ],
          "name": "stdout"
        }
      ]
    },
    {
      "cell_type": "markdown",
      "metadata": {
        "id": "zAKAYvPrKhNo"
      },
      "source": [
        "## Model-based Model"
      ]
    },
    {
      "cell_type": "markdown",
      "metadata": {
        "id": "OufbrqfHzBH8"
      },
      "source": [
        "### Model Training"
      ]
    },
    {
      "cell_type": "code",
      "metadata": {
        "id": "qPfsYebFCuLC"
      },
      "source": [
        "class MatrixFactorization():\n",
        "    # Prepare dataset, make them proper for spark ml, split the dataset\n",
        "    @staticmethod\n",
        "    def prepare_suitable_dataset(dataset, pct):\n",
        "        dataset.userId = dataset.userId.astype('int')\n",
        "        dataset.movieId = dataset.movieId.astype('int')\n",
        "        dataset.rating = dataset.rating.astype('double')\n",
        "        train, test = build_train_test_split(dataset)\n",
        "        if pct < 1.0:\n",
        "            train = sample_size(train, pct)\n",
        "        ratings_train = spark.createDataFrame(train)\n",
        "        ratings_test = spark.createDataFrame(test)\n",
        "        return ratings_train, ratings_test, unpopular_list\n",
        "        \n",
        "    def train_MF(self):\n",
        "        start = time.time()\n",
        "        als = ALS(maxIter=self.maxIter, regParam=self.regParam, rank=self.rank, userCol=\"userId\", itemCol=\"movieId\", ratingCol=\"rating\",coldStartStrategy='drop')\n",
        "        self.model = als.fit(self.ratings_train)\n",
        "        # end to count the execute time\n",
        "        end = time.time()\n",
        "        predictions = self.model.transform(self.ratings_test)\n",
        "\n",
        "        evaluator = RegressionEvaluator(metricName=self.metricName, \n",
        "                                        labelCol=\"rating\",\n",
        "                                        predictionCol=\"prediction\")\n",
        "        self.metric = evaluator.evaluate(predictions)\n",
        "        self.time = end-start\n",
        "        self.users = self.ratings_test.select(als.getUserCol()).distinct()\n",
        "    \n",
        "    @staticmethod\n",
        "    def getUnpopularList(ratings_train):\n",
        "        data_counts = ratings_train.groupBy('movieId').count()\n",
        "        movieid_df = data_counts[data_counts['count'] < 10].select('movieId')\n",
        "        movieid_list = list(movieid_df.toPandas()['movieId'])\n",
        "        return movieid_list\n",
        "    \n",
        "    @staticmethod\n",
        "    def createDataFrame(data, pct=1.0):\n",
        "        if pct < 1.0:\n",
        "            data = sample_size(data, pct)\n",
        "        ratings_data = spark.createDataFrame(data)\n",
        "        return ratings_data\n",
        "\n",
        "\n"
      ],
      "execution_count": null,
      "outputs": []
    },
    {
      "cell_type": "markdown",
      "metadata": {
        "id": "7fFclY9WzOLJ"
      },
      "source": [
        "### Model Evaluation"
      ]
    },
    {
      "cell_type": "code",
      "metadata": {
        "id": "cpkhSMhE3byw"
      },
      "source": [
        "## Offline Ranking Evaluator\n",
        "## modified based on https://vinta.ws/code/build-a-recommender-system-with-pyspark-implicit-als.html\n",
        "\n",
        "class RankingEvaluator(Evaluator):\n",
        "\n",
        "    @keyword_only\n",
        "    def __init__(self, k=None, metricName=None,isTrain=False):\n",
        "        super(RankingEvaluator, self).__init__()\n",
        "        self.k = Param(self, 'k', 'Top K')\n",
        "        self.metricName = Param(self, 'metricName', 'metricName')\n",
        "        self.isTrain=isTrain\n",
        "        self._setDefault(k=k, metricName=metricName)\n",
        "\n",
        "\n",
        "    @keyword_only\n",
        "    def setParams(self, k=None, metricName=None):\n",
        "        kwargs = self._input_kwargs\n",
        "        return self._set(**kwargs)\n",
        "\n",
        "    def isLargerBetter(self):\n",
        "        return True\n",
        "\n",
        "    def setK(self, value):\n",
        "        self._paramMap[self.k] = value\n",
        "        return self\n",
        "\n",
        "    def getK(self):\n",
        "        return self.getOrDefault(self.k)\n",
        "\n",
        "    def setMetricName(self, value):\n",
        "        self._paramMap[self.metricName] = value\n",
        "        return self\n",
        "\n",
        "    def getMetricName(self):\n",
        "        return self.getOrDefault(self.metricName)\n",
        "\n",
        "    def _evaluate(self, test, recommendationDF, train):\n",
        "\n",
        "        k = self.getK()\n",
        "        metricName = self.getMetricName()\n",
        "\n",
        "\n",
        "        windowSpec = Window.partitionBy('userId').orderBy(F.col('rating').desc())\n",
        "\n",
        "        perUserActualItemsDF = test \\\n",
        "            .select('userId', 'movieId', 'rating', F.rank().over(windowSpec).alias('rank')) \\\n",
        "            .groupBy('userId') \\\n",
        "            .agg(F.expr('collect_list(movieId) as items'))\n",
        "\n",
        "        windowSpec = Window.partitionBy('userId').orderBy(F.col('rating').desc())\n",
        "        exclude_watched_item = train.select('userId', 'movieId', 'rating', F.rank().over(windowSpec).alias('rank')) \\\n",
        "            .groupBy('userId') \\\n",
        "            .agg(F.expr('collect_list(movieId) as items'))\n",
        "        recommendationDF = recommendationDF.join(F.broadcast(exclude_watched_item), 'userId', 'inner')\n",
        "        \n",
        "        perUserItemsRDD = recommendationDF.join(F.broadcast(perUserActualItemsDF), 'userId', 'inner')\n",
        "        \n",
        "        def _k_list(row):\n",
        "          # only recommend items user has not wateched \n",
        "            rec_list=[item for item in row[1] if item not in set(row[2])][:k]\n",
        "            return (rec_list,row[3])    \n",
        "       \n",
        "        perUserItemsRDD=perUserItemsRDD.rdd \\\n",
        "            .map(lambda row: _k_list(row))\n",
        "       \n",
        "        if perUserItemsRDD.isEmpty():\n",
        "            return 0.0\n",
        "\n",
        "        rankingMetrics = RankingMetrics(perUserItemsRDD)\n",
        "        if self.isTrain:\n",
        "            if metricName == 'ndcg':\n",
        "                metric_ndcg = rankingMetrics.ndcgAt(k)\n",
        "                return metric_ndcg\n",
        "          \n",
        "            if metricName == 'precisionTopk':\n",
        "                metric_precisionTopk = rankingMetrics.precisionAt(k)\n",
        "                return metric_precisionTopk\n",
        "        else:\n",
        "            metric_ndcg = rankingMetrics.ndcgAt(k)\n",
        "            metric_precisionTopk = rankingMetrics.precisionAt(k)\n",
        "            return metric_ndcg, metric_precisionTopk\n",
        "        return ValueError('Metric {} not found'.format(metricName))\n"
      ],
      "execution_count": null,
      "outputs": []
    },
    {
      "cell_type": "markdown",
      "metadata": {
        "id": "yzYmD-_-W8zc"
      },
      "source": [
        "###  Full pipeline of MF"
      ]
    },
    {
      "cell_type": "code",
      "metadata": {
        "colab": {
          "base_uri": "https://localhost:8080/",
          "height": 715
        },
        "id": "60xO-3q7H_MB",
        "outputId": "8a5db8fd-0909-479a-f403-d3d07e919c35"
      },
      "source": [
        "# full pipeline\n",
        "# Hyper parameter\n",
        "pct = 1.0\n",
        "k = 50\n",
        "\n",
        "# dataset preparation\n",
        "ratings_train = MatrixFactorization.createDataFrame(train, pct=pct)\n",
        "ratings_test = MatrixFactorization.createDataFrame(test)\n",
        "unpopular_list = MatrixFactorization.getUnpopularList(ratings_train)\n",
        "\n",
        "\n",
        "# train ALS model\n",
        "als_setup = ALS(maxIter=10, rank=100, regParam=0.1,userCol=\"userId\", itemCol=\"movieId\", ratingCol=\"rating\",coldStartStrategy='drop')\n",
        "als_model = als_setup.fit(ratings_train)\n",
        "prediction_df = als_model.transform(ratings_test)\n",
        "recommendation_df = als_model.recommendForUserSubset(prediction_df.select(\"userId\").distinct(), 100 ).select('userId', 'recommendations.movieId')\n",
        "\n",
        "# get metrics for the model\n",
        "rankingEvaluator = RankingEvaluator(k=k)\n",
        "ndcg_MF, precisionTopK_MF = rankingEvaluator._evaluate(prediction_df, recommendation_df, ratings_train)\n",
        "\n",
        "regressionEvaluator = RegressionEvaluator(metricName=\"rmse\", \n",
        "                                        labelCol=\"rating\",\n",
        "                                        predictionCol=\"prediction\")\n",
        "rmse_MF = regressionEvaluator.evaluate(prediction_df.na.drop())\n",
        "\n",
        "print('precision at Top {} is {}'.format(k, precisionTopK_MF))\n",
        "print('ndcg is {}'.format(ndcg_MF))"
      ],
      "execution_count": null,
      "outputs": [
        {
          "output_type": "stream",
          "text": [
            "precision at Top 50 is 0.016225585693591088\n",
            "ndcg is 0.07527816171477562\n"
          ],
          "name": "stdout"
        }
      ]
    },
    {
      "cell_type": "code",
      "metadata": {
        "id": "UypKh0ZPQe6f"
      },
      "source": [
        "def final_recommendation(ratings_test,recommendationDF,k=50):\n",
        "    windowSpec = Window.partitionBy('userId').orderBy(col('rating').desc())\n",
        "    exclude_watched_item = ratings_train.select('userId', 'movieId', 'rating', F.rank().over(windowSpec).alias('rank')) \\\n",
        "            .groupBy('userId') \\\n",
        "            .agg(expr('collect_list(movieId) as items'))\n",
        "    recommendationDF = recommendationDF.join(F.broadcast(exclude_watched_item), 'userId', 'inner')\n",
        "    perUserActualItemsDF=ratings_test \\\n",
        "            .select('userId', 'movieId') \\\n",
        "            .groupBy('userId') \\\n",
        "            .agg(expr('collect_list(movieId) as actual_items'))\n",
        "    \n",
        "    recommendationDF=recommendationDF.join(F.broadcast(perUserActualItemsDF), 'userId', 'inner')\n",
        "    actual_list=recommendationDF.select('actual_items').toPandas().values\n",
        "    def _k_list(row):\n",
        "      # only recommend items user has not wateched \n",
        "        rec_list=[item for item in row[1] if item not in set(row[2])][:k]\n",
        "        return rec_list   \n",
        "    \n",
        "    recommendationDF=recommendationDF.rdd \\\n",
        "            .map(lambda row: _k_list(row)) \n",
        "    \n",
        "    return recommendationDF.collect(), [l[0] for l in actual_list]\n",
        "    "
      ],
      "execution_count": null,
      "outputs": []
    },
    {
      "cell_type": "code",
      "metadata": {
        "id": "UBMzis4Fp1Mp"
      },
      "source": [
        "rec_list_MF, actual_list_MF = final_recommendation(prediction_df,recommendation_df)"
      ],
      "execution_count": null,
      "outputs": []
    },
    {
      "cell_type": "markdown",
      "metadata": {
        "id": "8W2Jdk5aBdpt"
      },
      "source": [
        "# The detailed building and Analysis of each model in new hybrid system"
      ]
    },
    {
      "cell_type": "markdown",
      "metadata": {
        "id": "Rc2alf4cXh9G"
      },
      "source": [
        "## User Feature Engineering\n",
        "Based on information from training data frame ratings, tags and genres, we build user profiles. \n",
        "These features could be useful to extract user’s preferences and bais on rating. Some users preferred to rate high and some may prefer rate lower, however maybe both of them feel good toward this movie. \n",
        "Also we try to dig some demographic information of users based on information we had. For example, with the help of timestamp, we could know the participation age of users and participation duration of users.\n",
        "\n",
        "Features are:\n",
        "\n",
        "* rating_count: this measures how many movies this user has rated.\n",
        "* recent_title: the recent movie user rated.\n",
        "* recent_rating_tag: the recent rated movie’s tag.\n",
        "* movie_age_most : for each user, which year bucket most of rated movies are in.\n",
        "* rating_mean: the mean of rating for each user. \n",
        "* rating_std: the standard deviation of rating for each user.\n",
        "* rating_min: the minimum rating for each user.\n",
        "* rating_max: the maximum rating for each user.\n",
        "* rating_genre_most: users rated which genres most. \n",
        "* most_rating_tag: users rated which tags most. \n",
        "* tag_per_user: number of tags per user.\n",
        "* participate_age: when the user began to rate movies.\n",
        "* participate_last: when is the user’s recent rating.\n",
        "* movie_year_mean,movie_year_std,movie_year_min,movie_year_max: statistical information about the year of  movies were rated for a user.\n",
        "* 1970s, 1980s, 1990s,2000s,2020s, ls1970:  number of rated movies for a user, based on released year.\n",
        "* genre_Action, genre_Adventure, genre_Animation, genre_Children, genre_Comedy, genre_Crime, genre_Documentary, genre_Drama,genre_Fantasy, genre_Horror, genre_Thriller : the number of movies in each genre. \n",
        "\n",
        "We also created some cross categorical features as well. \n"
      ]
    },
    {
      "cell_type": "code",
      "metadata": {
        "id": "CjvlpXBaXgKU"
      },
      "source": [
        "class createUserProfile():\n",
        "\n",
        "    def __init__(self, dataset):\n",
        "        self.dataset = dataset\n",
        "\n",
        "    def combine(self):\n",
        "        rating_count_df = self.rating_count()\n",
        "        rating_score_df = self.rating_score()\n",
        "        rating_genre_most_df = self.rating_genre_most()\n",
        "        participate_df = self.participation()\n",
        "\n",
        "        # user打分过的电影上映时间stat数据（max\\min\\avg\\std）\n",
        "        movie_year_stat_df = self.movie_year_stat()\n",
        "        # user最近打分过的电影（电影名）\n",
        "        movie_year_recent_df = self.movie_year_recent()\n",
        "        # user最近打过的tag（tag名字）\n",
        "        recent_tag_df = self.recent_tag()\n",
        "        # user打过最多的tag（tag名字）\n",
        "        most_rate_tag_df = self.most_rate_tag()\n",
        "        # user打分过的电影年代分布（ls1970,1970s,1980s,1990s,2000s,2010s)\n",
        "        movie_year_buckets_df = self.movie_year_buckets()\n",
        "        # user打分过的电影题材计数（action等）\n",
        "        genre_buckets_df = self.genre_buckets()\n",
        "        return rating_count_df.join(rating_score_df).join(rating_genre_most_df).join(participate_df).join(movie_year_stat_df).join(movie_year_recent_df).join(recent_tag_df).join(most_rate_tag_df).join(movie_year_buckets_df).join(genre_buckets_df)\n",
        "\n",
        "    def rating_count(self):\n",
        "        rating_count_df = pd.DataFrame(self.dataset.groupby('userId').rating.count()).rename(columns={'rating': 'rating_count'})\n",
        "        return rating_count_df\n",
        "\n",
        "    def rating_score(self):\n",
        "        rating_mean_df = pd.DataFrame(self.dataset.groupby('userId').rating.mean()).rename(columns={'rating': 'rating_mean'})\n",
        "        rating_variance_df = pd.DataFrame(self.dataset.groupby('userId').rating.std()).rename(columns={'rating': 'rating_std'})\n",
        "        rating_min_df = pd.DataFrame(self.dataset.groupby('userId').rating.min()).rename(columns={'rating': 'rating_min'})\n",
        "        rating_max_df = pd.DataFrame(self.dataset.groupby('userId').rating.max()).rename(columns={'rating': 'rating_max'})\n",
        "        return rating_mean_df.join(rating_variance_df).join(rating_min_df).join(rating_max_df)\n",
        "\n",
        "    def rating_genre_most(self):\n",
        "        movies = self.dataset.copy()\n",
        "        movies.set_index(\"movieId\", inplace=True, drop=True)\n",
        "        movies = movies.genres.str.split(\"|\", expand=True)\n",
        "        movies.reset_index(inplace=True)\n",
        "        movies = pd.melt(movies, id_vars='movieId', value_vars=[0, 1, 2, 3, 4])\n",
        "        movies.drop_duplicates(\"movieId\", inplace=True)\n",
        "        movies.set_index('movieId', inplace=True)\n",
        "        movies = pd.get_dummies(movies.value)\n",
        "        try:\n",
        "            movies = movies.drop('(no genres listed)', axis=1)\n",
        "        except:\n",
        "            pass\n",
        "        development_dataset = self.dataset.drop(['genres'], axis=1)\n",
        "\n",
        "        def sort_values_return_name(row):\n",
        "            return movies.columns[np.argmax(row.values)]\n",
        "        rating_genre_most_df = development_dataset.merge(movies, left_on='movieId', right_on='movieId')\n",
        "        rating_genre_most_df = rating_genre_most_df.groupby('userId')[movies.columns].sum()\n",
        "        rating_genre_most_df = pd.DataFrame(rating_genre_most_df.apply(lambda row: sort_values_return_name(row), axis=1)).rename(columns={0: 'rating_genre_most'})\n",
        "        return rating_genre_most_df\n",
        "\n",
        "    def participation(self):\n",
        "        participate_age = pd.DataFrame(self.dataset.groupby('userId').apply(lambda row: pd.to_datetime(row.timestamp.min(), unit='s'))).rename(columns={0: 'participate_age'})\n",
        "        participate_age.participate_age = participate_age.participate_age.dt.year\n",
        "        participate_age.participate_age = 2020-participate_age.participate_age\n",
        "\n",
        "        participate_last = pd.DataFrame(self.dataset.groupby('userId').apply(lambda row: pd.to_datetime(row.timestamp.max(), unit='s'))).rename(columns={0: 'participate_last'})\n",
        "        participate_last.participate_last = participate_last.participate_last.dt.year\n",
        "        participate_last.participate_last = 2020-participate_last.participate_last\n",
        "        return participate_age.join(participate_last)\n",
        "\n",
        "    ## ------菜鸡补充的分割线------\n",
        "\n",
        "    def movie_year_stat(self):\n",
        "        movie_year = self.dataset.copy()\n",
        "        \n",
        "        p1 = re.compile(r'[(](\\d+)[)]', re.S)\n",
        "        movie_year['movie_year'] = movie_year.title.map(lambda x: re.findall(p1, x)[0] if re.findall(p1, x) else 0).astype(int)\n",
        "        movie_year_mean_df = pd.DataFrame(movie_year.groupby('userId').movie_year.mean()).rename(columns={'movie_year': 'movie_year_mean'})\n",
        "        movie_year_variance_df = pd.DataFrame(movie_year.groupby('userId').movie_year.std()).rename(columns={'movie_year': 'movie_year_std'})\n",
        "        movie_year_min_df = pd.DataFrame(movie_year.groupby('userId').movie_year.min()).rename(columns={'movie_year': 'movie_year_min'})\n",
        "        movie_year_max_df = pd.DataFrame(movie_year.groupby('userId').movie_year.max()).rename(columns={'movie_year': 'movie_year_max'})\n",
        "        return movie_year_mean_df.join(movie_year_variance_df).join(movie_year_min_df).join(movie_year_max_df)\n",
        "\n",
        "    def movie_year_recent(self):\n",
        "        movie_year = self.dataset.copy()\n",
        "        p1 = re.compile(r'[(](\\d+)[)]', re.S)\n",
        "        movie_year['movie_year'] = movie_year.title.map(lambda x: re.findall(p1, x)[0] if re.findall(p1, x) else 0 ).astype(int)\n",
        "        movie_year['rn'] = movie_year.groupby(['userId']).movie_year.rank(ascending=0,method='first').astype(int)\n",
        "        movie_year = movie_year[movie_year['rn'] == 1].set_index(['userId'])[['title']].rename(columns={'title':'recent_title'})\n",
        "        return movie_year\n",
        "        \n",
        "    def recent_tag(self):\n",
        "        recent_tag = full_tags.copy()\n",
        "        recent_tag['rn'] = recent_tag.groupby(['userId']).timestamp.rank(ascending=0,method='first').astype(int)\n",
        "        recent_tag = recent_tag[recent_tag['rn'] == 1].set_index(['userId']).rename(columns={'tag':'recent_rating_tag'})\n",
        "        return recent_tag['recent_rating_tag']\n",
        "    \n",
        "    def most_rate_tag(self):\n",
        "        max_tag = full_tags.copy()\n",
        "        max_tag['count'] = max_tag.groupby(['userId','tag']).tag.transform('count')\n",
        "        max_tag['rn'] = max_tag.groupby(['userId'])[['count']].rank(ascending=0,method='first')\n",
        "        max_tag = max_tag[max_tag['rn'] == 1].set_index(['userId']).rename(columns={'tag':'most_rating_tag'})\n",
        "        return max_tag['most_rating_tag']\n",
        "\n",
        "    @staticmethod\n",
        "    def year2bucket(year):\n",
        "        \"\"\"convert movie year into feature buckets\"\"\"\n",
        "        if year < 1970:\n",
        "            return 'ls1970'\n",
        "        elif year < 1980:\n",
        "            return '1970s'\n",
        "        elif year < 1980:\n",
        "            return '1970s'\n",
        "        elif year < 1990:\n",
        "            return '1980s'\n",
        "        elif year < 2000:\n",
        "            return '1990s'\n",
        "        elif year < 2010:\n",
        "            return '2000s'\n",
        "        else:\n",
        "            return '2020s'\n",
        "                   \n",
        "    def movie_year_buckets(self):\n",
        "        movie_year = self.dataset.copy()\n",
        "        p1 = re.compile(r'[(](\\d+)[)]', re.S)\n",
        "        movie_year['movie_year_bucket'] = movie_year.title.map(lambda x: re.findall(p1, x)[0] if re.findall(p1, x) else 0 ).astype(int).map(self.year2bucket)\n",
        "        movie_year = movie_year.set_index('userId')\n",
        "        movie_year = pd.get_dummies(movie_year['movie_year_bucket'])\n",
        "        movie_year = movie_year.reset_index()\n",
        "        movie_year = movie_year.groupby('userId').sum()\n",
        "        movie_year['movie_age_most'] = pd.DataFrame(movie_year.apply(lambda row: movie_year.columns[np.argmax(row.values)], axis=1))\n",
        "        return movie_year\n",
        "\n",
        "    def genre_buckets(self):\n",
        "        \"\"\"采用genre_raing_most的逻辑\"\"\"\n",
        "        movies = self.dataset.copy()\n",
        "        movies.set_index(\"movieId\", inplace=True, drop=True)\n",
        "        movies = movies.genres.str.split(\"|\", expand=True)\n",
        "        movies.reset_index(inplace=True)\n",
        "        movies = pd.melt(movies, id_vars='movieId', value_vars=[0, 1, 2, 3, 4])\n",
        "        movies.drop_duplicates(\"movieId\", inplace=True)\n",
        "        movies.set_index('movieId', inplace=True)\n",
        "        movies = pd.get_dummies(movies.value)\n",
        "        try:\n",
        "            movies = movies.drop('(no genres listed)', axis=1)\n",
        "        except:\n",
        "            pass\n",
        "        test_set = self.dataset.drop(['genres'], axis=1)\n",
        "        def sort_values_return_name(row):\n",
        "            return movies.columns[np.argmax(row.values)]\n",
        "        rating_genre_most_df = test_set.merge(movies, left_on='movieId', right_on='movieId')\n",
        "        rating_genre_most_df = rating_genre_most_df.groupby('userId')[movies.columns].sum()\n",
        "#         该函数与genre_raing_most直到这里都是相同的\n",
        "        return rating_genre_most_df.rename(columns={x:'genre_'+x for x in movies.columns})"
      ],
      "execution_count": null,
      "outputs": []
    },
    {
      "cell_type": "code",
      "metadata": {
        "colab": {
          "base_uri": "https://localhost:8080/",
          "height": 670
        },
        "id": "agWnZf4KujPf",
        "outputId": "44cb4ec0-e711-4b86-c317-42471c2d6eca"
      },
      "source": [
        "createUserProfile(development_dataset).combine()"
      ],
      "execution_count": null,
      "outputs": [
        {
          "output_type": "execute_result",
          "data": {
            "text/html": [
              "<div>\n",
              "<style scoped>\n",
              "    .dataframe tbody tr th:only-of-type {\n",
              "        vertical-align: middle;\n",
              "    }\n",
              "\n",
              "    .dataframe tbody tr th {\n",
              "        vertical-align: top;\n",
              "    }\n",
              "\n",
              "    .dataframe thead th {\n",
              "        text-align: right;\n",
              "    }\n",
              "</style>\n",
              "<table border=\"1\" class=\"dataframe\">\n",
              "  <thead>\n",
              "    <tr style=\"text-align: right;\">\n",
              "      <th></th>\n",
              "      <th>rating_count</th>\n",
              "      <th>rating_mean</th>\n",
              "      <th>rating_std</th>\n",
              "      <th>rating_min</th>\n",
              "      <th>rating_max</th>\n",
              "      <th>rating_genre_most</th>\n",
              "      <th>participate_age</th>\n",
              "      <th>participate_last</th>\n",
              "      <th>movie_year_mean</th>\n",
              "      <th>movie_year_std</th>\n",
              "      <th>...</th>\n",
              "      <th>genre_Comedy</th>\n",
              "      <th>genre_Crime</th>\n",
              "      <th>genre_Documentary</th>\n",
              "      <th>genre_Drama</th>\n",
              "      <th>genre_Fantasy</th>\n",
              "      <th>genre_Horror</th>\n",
              "      <th>genre_Musical</th>\n",
              "      <th>genre_Mystery</th>\n",
              "      <th>genre_Romance</th>\n",
              "      <th>genre_Thriller</th>\n",
              "    </tr>\n",
              "    <tr>\n",
              "      <th>userId</th>\n",
              "      <th></th>\n",
              "      <th></th>\n",
              "      <th></th>\n",
              "      <th></th>\n",
              "      <th></th>\n",
              "      <th></th>\n",
              "      <th></th>\n",
              "      <th></th>\n",
              "      <th></th>\n",
              "      <th></th>\n",
              "      <th></th>\n",
              "      <th></th>\n",
              "      <th></th>\n",
              "      <th></th>\n",
              "      <th></th>\n",
              "      <th></th>\n",
              "      <th></th>\n",
              "      <th></th>\n",
              "      <th></th>\n",
              "      <th></th>\n",
              "      <th></th>\n",
              "    </tr>\n",
              "  </thead>\n",
              "  <tbody>\n",
              "    <tr>\n",
              "      <th>408.0</th>\n",
              "      <td>12</td>\n",
              "      <td>3.000000</td>\n",
              "      <td>0.738549</td>\n",
              "      <td>2.0</td>\n",
              "      <td>4.0</td>\n",
              "      <td>Drama</td>\n",
              "      <td>21</td>\n",
              "      <td>21</td>\n",
              "      <td>1985.166667</td>\n",
              "      <td>13.148338</td>\n",
              "      <td>...</td>\n",
              "      <td>3</td>\n",
              "      <td>0</td>\n",
              "      <td>0</td>\n",
              "      <td>8</td>\n",
              "      <td>0</td>\n",
              "      <td>0</td>\n",
              "      <td>0</td>\n",
              "      <td>0</td>\n",
              "      <td>0</td>\n",
              "      <td>0</td>\n",
              "    </tr>\n",
              "    <tr>\n",
              "      <th>491.0</th>\n",
              "      <td>14</td>\n",
              "      <td>3.571429</td>\n",
              "      <td>1.016350</td>\n",
              "      <td>2.0</td>\n",
              "      <td>5.0</td>\n",
              "      <td>Comedy</td>\n",
              "      <td>20</td>\n",
              "      <td>20</td>\n",
              "      <td>1995.142857</td>\n",
              "      <td>4.521013</td>\n",
              "      <td>...</td>\n",
              "      <td>9</td>\n",
              "      <td>1</td>\n",
              "      <td>0</td>\n",
              "      <td>2</td>\n",
              "      <td>0</td>\n",
              "      <td>0</td>\n",
              "      <td>0</td>\n",
              "      <td>0</td>\n",
              "      <td>0</td>\n",
              "      <td>0</td>\n",
              "    </tr>\n",
              "    <tr>\n",
              "      <th>526.0</th>\n",
              "      <td>14</td>\n",
              "      <td>3.214286</td>\n",
              "      <td>1.204388</td>\n",
              "      <td>0.5</td>\n",
              "      <td>5.0</td>\n",
              "      <td>Drama</td>\n",
              "      <td>5</td>\n",
              "      <td>5</td>\n",
              "      <td>1997.857143</td>\n",
              "      <td>11.468064</td>\n",
              "      <td>...</td>\n",
              "      <td>1</td>\n",
              "      <td>1</td>\n",
              "      <td>1</td>\n",
              "      <td>5</td>\n",
              "      <td>1</td>\n",
              "      <td>1</td>\n",
              "      <td>0</td>\n",
              "      <td>0</td>\n",
              "      <td>0</td>\n",
              "      <td>0</td>\n",
              "    </tr>\n",
              "    <tr>\n",
              "      <th>549.0</th>\n",
              "      <td>19</td>\n",
              "      <td>4.315789</td>\n",
              "      <td>0.820070</td>\n",
              "      <td>2.0</td>\n",
              "      <td>5.0</td>\n",
              "      <td>Drama</td>\n",
              "      <td>11</td>\n",
              "      <td>11</td>\n",
              "      <td>1989.105263</td>\n",
              "      <td>14.869412</td>\n",
              "      <td>...</td>\n",
              "      <td>3</td>\n",
              "      <td>2</td>\n",
              "      <td>0</td>\n",
              "      <td>7</td>\n",
              "      <td>0</td>\n",
              "      <td>0</td>\n",
              "      <td>0</td>\n",
              "      <td>0</td>\n",
              "      <td>0</td>\n",
              "      <td>0</td>\n",
              "    </tr>\n",
              "    <tr>\n",
              "      <th>605.0</th>\n",
              "      <td>23</td>\n",
              "      <td>2.565217</td>\n",
              "      <td>1.576131</td>\n",
              "      <td>0.5</td>\n",
              "      <td>4.5</td>\n",
              "      <td>Action</td>\n",
              "      <td>9</td>\n",
              "      <td>7</td>\n",
              "      <td>1995.347826</td>\n",
              "      <td>11.523134</td>\n",
              "      <td>...</td>\n",
              "      <td>4</td>\n",
              "      <td>1</td>\n",
              "      <td>0</td>\n",
              "      <td>5</td>\n",
              "      <td>0</td>\n",
              "      <td>1</td>\n",
              "      <td>0</td>\n",
              "      <td>0</td>\n",
              "      <td>0</td>\n",
              "      <td>0</td>\n",
              "    </tr>\n",
              "    <tr>\n",
              "      <th>...</th>\n",
              "      <td>...</td>\n",
              "      <td>...</td>\n",
              "      <td>...</td>\n",
              "      <td>...</td>\n",
              "      <td>...</td>\n",
              "      <td>...</td>\n",
              "      <td>...</td>\n",
              "      <td>...</td>\n",
              "      <td>...</td>\n",
              "      <td>...</td>\n",
              "      <td>...</td>\n",
              "      <td>...</td>\n",
              "      <td>...</td>\n",
              "      <td>...</td>\n",
              "      <td>...</td>\n",
              "      <td>...</td>\n",
              "      <td>...</td>\n",
              "      <td>...</td>\n",
              "      <td>...</td>\n",
              "      <td>...</td>\n",
              "      <td>...</td>\n",
              "    </tr>\n",
              "    <tr>\n",
              "      <th>281631.0</th>\n",
              "      <td>37</td>\n",
              "      <td>3.189189</td>\n",
              "      <td>0.690726</td>\n",
              "      <td>1.5</td>\n",
              "      <td>5.0</td>\n",
              "      <td>Drama</td>\n",
              "      <td>11</td>\n",
              "      <td>11</td>\n",
              "      <td>1989.351351</td>\n",
              "      <td>19.090743</td>\n",
              "      <td>...</td>\n",
              "      <td>6</td>\n",
              "      <td>2</td>\n",
              "      <td>0</td>\n",
              "      <td>15</td>\n",
              "      <td>0</td>\n",
              "      <td>2</td>\n",
              "      <td>0</td>\n",
              "      <td>0</td>\n",
              "      <td>0</td>\n",
              "      <td>1</td>\n",
              "    </tr>\n",
              "    <tr>\n",
              "      <th>282119.0</th>\n",
              "      <td>16</td>\n",
              "      <td>2.906250</td>\n",
              "      <td>1.098768</td>\n",
              "      <td>0.5</td>\n",
              "      <td>5.0</td>\n",
              "      <td>Action</td>\n",
              "      <td>14</td>\n",
              "      <td>3</td>\n",
              "      <td>1990.250000</td>\n",
              "      <td>26.210685</td>\n",
              "      <td>...</td>\n",
              "      <td>4</td>\n",
              "      <td>1</td>\n",
              "      <td>0</td>\n",
              "      <td>2</td>\n",
              "      <td>0</td>\n",
              "      <td>0</td>\n",
              "      <td>0</td>\n",
              "      <td>0</td>\n",
              "      <td>1</td>\n",
              "      <td>0</td>\n",
              "    </tr>\n",
              "    <tr>\n",
              "      <th>282203.0</th>\n",
              "      <td>18</td>\n",
              "      <td>3.555556</td>\n",
              "      <td>0.661747</td>\n",
              "      <td>2.5</td>\n",
              "      <td>5.0</td>\n",
              "      <td>Drama</td>\n",
              "      <td>5</td>\n",
              "      <td>2</td>\n",
              "      <td>1996.055556</td>\n",
              "      <td>21.571965</td>\n",
              "      <td>...</td>\n",
              "      <td>1</td>\n",
              "      <td>0</td>\n",
              "      <td>0</td>\n",
              "      <td>8</td>\n",
              "      <td>1</td>\n",
              "      <td>0</td>\n",
              "      <td>0</td>\n",
              "      <td>0</td>\n",
              "      <td>0</td>\n",
              "      <td>0</td>\n",
              "    </tr>\n",
              "    <tr>\n",
              "      <th>282263.0</th>\n",
              "      <td>13</td>\n",
              "      <td>3.000000</td>\n",
              "      <td>1.040833</td>\n",
              "      <td>0.5</td>\n",
              "      <td>4.0</td>\n",
              "      <td>Action</td>\n",
              "      <td>6</td>\n",
              "      <td>6</td>\n",
              "      <td>2002.846154</td>\n",
              "      <td>6.269585</td>\n",
              "      <td>...</td>\n",
              "      <td>1</td>\n",
              "      <td>2</td>\n",
              "      <td>0</td>\n",
              "      <td>3</td>\n",
              "      <td>0</td>\n",
              "      <td>0</td>\n",
              "      <td>0</td>\n",
              "      <td>0</td>\n",
              "      <td>0</td>\n",
              "      <td>0</td>\n",
              "    </tr>\n",
              "    <tr>\n",
              "      <th>282332.0</th>\n",
              "      <td>21</td>\n",
              "      <td>3.595238</td>\n",
              "      <td>0.717967</td>\n",
              "      <td>2.0</td>\n",
              "      <td>4.5</td>\n",
              "      <td>Action</td>\n",
              "      <td>15</td>\n",
              "      <td>10</td>\n",
              "      <td>2000.571429</td>\n",
              "      <td>6.946736</td>\n",
              "      <td>...</td>\n",
              "      <td>2</td>\n",
              "      <td>2</td>\n",
              "      <td>0</td>\n",
              "      <td>5</td>\n",
              "      <td>1</td>\n",
              "      <td>1</td>\n",
              "      <td>0</td>\n",
              "      <td>0</td>\n",
              "      <td>0</td>\n",
              "      <td>0</td>\n",
              "    </tr>\n",
              "  </tbody>\n",
              "</table>\n",
              "<p>1000 rows × 36 columns</p>\n",
              "</div>"
            ],
            "text/plain": [
              "          rating_count  rating_mean  rating_std  rating_min  rating_max  \\\n",
              "userId                                                                    \n",
              "408.0               12     3.000000    0.738549         2.0         4.0   \n",
              "491.0               14     3.571429    1.016350         2.0         5.0   \n",
              "526.0               14     3.214286    1.204388         0.5         5.0   \n",
              "549.0               19     4.315789    0.820070         2.0         5.0   \n",
              "605.0               23     2.565217    1.576131         0.5         4.5   \n",
              "...                ...          ...         ...         ...         ...   \n",
              "281631.0            37     3.189189    0.690726         1.5         5.0   \n",
              "282119.0            16     2.906250    1.098768         0.5         5.0   \n",
              "282203.0            18     3.555556    0.661747         2.5         5.0   \n",
              "282263.0            13     3.000000    1.040833         0.5         4.0   \n",
              "282332.0            21     3.595238    0.717967         2.0         4.5   \n",
              "\n",
              "         rating_genre_most  participate_age  participate_last  \\\n",
              "userId                                                          \n",
              "408.0                Drama               21                21   \n",
              "491.0               Comedy               20                20   \n",
              "526.0                Drama                5                 5   \n",
              "549.0                Drama               11                11   \n",
              "605.0               Action                9                 7   \n",
              "...                    ...              ...               ...   \n",
              "281631.0             Drama               11                11   \n",
              "282119.0            Action               14                 3   \n",
              "282203.0             Drama                5                 2   \n",
              "282263.0            Action                6                 6   \n",
              "282332.0            Action               15                10   \n",
              "\n",
              "          movie_year_mean  movie_year_std  ...  genre_Comedy  genre_Crime  \\\n",
              "userId                                     ...                              \n",
              "408.0         1985.166667       13.148338  ...             3            0   \n",
              "491.0         1995.142857        4.521013  ...             9            1   \n",
              "526.0         1997.857143       11.468064  ...             1            1   \n",
              "549.0         1989.105263       14.869412  ...             3            2   \n",
              "605.0         1995.347826       11.523134  ...             4            1   \n",
              "...                   ...             ...  ...           ...          ...   \n",
              "281631.0      1989.351351       19.090743  ...             6            2   \n",
              "282119.0      1990.250000       26.210685  ...             4            1   \n",
              "282203.0      1996.055556       21.571965  ...             1            0   \n",
              "282263.0      2002.846154        6.269585  ...             1            2   \n",
              "282332.0      2000.571429        6.946736  ...             2            2   \n",
              "\n",
              "         genre_Documentary genre_Drama genre_Fantasy  genre_Horror  \\\n",
              "userId                                                               \n",
              "408.0                    0           8             0             0   \n",
              "491.0                    0           2             0             0   \n",
              "526.0                    1           5             1             1   \n",
              "549.0                    0           7             0             0   \n",
              "605.0                    0           5             0             1   \n",
              "...                    ...         ...           ...           ...   \n",
              "281631.0                 0          15             0             2   \n",
              "282119.0                 0           2             0             0   \n",
              "282203.0                 0           8             1             0   \n",
              "282263.0                 0           3             0             0   \n",
              "282332.0                 0           5             1             1   \n",
              "\n",
              "          genre_Musical  genre_Mystery  genre_Romance  genre_Thriller  \n",
              "userId                                                                 \n",
              "408.0                 0              0              0               0  \n",
              "491.0                 0              0              0               0  \n",
              "526.0                 0              0              0               0  \n",
              "549.0                 0              0              0               0  \n",
              "605.0                 0              0              0               0  \n",
              "...                 ...            ...            ...             ...  \n",
              "281631.0              0              0              0               1  \n",
              "282119.0              0              0              1               0  \n",
              "282203.0              0              0              0               0  \n",
              "282263.0              0              0              0               0  \n",
              "282332.0              0              0              0               0  \n",
              "\n",
              "[1000 rows x 36 columns]"
            ]
          },
          "metadata": {
            "tags": []
          },
          "execution_count": 13
        }
      ]
    },
    {
      "cell_type": "markdown",
      "metadata": {
        "id": "ZgZyRWg811PL"
      },
      "source": [
        "## Movie Feature Engineering\n",
        "\n",
        "Except for features for the user side, features for the movie side are also needed for our models to build interaction and feature matrices. This part of the features are more for movie information like to define the tags per movie, genres per movie. Moreover, these features are more like features prepared for a content based model.\n",
        "\n",
        "\n",
        "Movie features are:\n",
        "* tag_per_movie: number of tags per movie\n",
        "* genre_per_movie: number of genres per movie\n",
        "* tagId: highest relevant tag per movie\n",
        "* rating_per_movie: number of ratings per movie\n",
        "* highest_rating: highest rating per movie\n",
        "* lowest_rating: lowest rating per movie\n",
        "* rated_last: (last time being rated) (need to bin values)\n",
        "* rated_first: (first time being rated) (need to bin values)\n",
        "* rating_mean: mean rating per movie\n",
        "* rating_std: std_dev of rating per movie\n",
        "* rating_duration: rating duration per movie\n"
      ]
    },
    {
      "cell_type": "code",
      "metadata": {
        "id": "gbR5idfnH_sI"
      },
      "source": [
        "class createProfile(object): \n",
        "    def __init__(self, dataset, full_tags, full_genome_scores):\n",
        "        self.full_tags = full_tags\n",
        "        self.full_genome_scores = full_genome_scores\n",
        "        self.dataset = dataset\n",
        "        self.user()\n",
        "        self.movie()\n",
        "        \n",
        "    ## bin values into 20 buckets\n",
        "    def bin_values(self, x):\n",
        "        x = x.astype(float)\n",
        "        bin = list(np.arange(20+1)*(1/20))\n",
        "        bin = x.quantile(bin)\n",
        "        bin[0] = bin[0]-0.01\n",
        "        return pd.cut(x, bin)\n",
        "\n",
        "    def user(self):\n",
        "        self.user_feature = self.full_tags.userId.value_counts().to_frame().rename(columns={'userId':'tag_per_user'})\n",
        "        new = pd.Series(self.dataset.userId.unique()).to_frame().rename(columns={0:'userId'})\n",
        "        idx = self.user_feature.index.rename('userId')\n",
        "        self.user_feature.index = idx\n",
        "        self.user_feature = pd.merge(self.user_feature, new, how='right', left_index=True, right_on='userId').fillna(0).set_index('userId')\n",
        "\n",
        "\n",
        "    def movie(self):\n",
        "        self.tag_per_movie = self.full_tags.movieId.value_counts().to_frame().rename(columns={'movieId':'tag_per_movie'})\n",
        "        idx = self.tag_per_movie.index.rename('movieId')\n",
        "        self.tag_per_movie.index = idx\n",
        "\n",
        "        new = self.dataset[['movieId','genres']].drop_duplicates(subset=None, keep='first', inplace=False).set_index('movieId')\n",
        "        new = new.genres.apply(lambda x: len(x.split(\"|\")))\n",
        "        self.genre_per_movie = new.to_frame().rename(columns={'genres':'genre_per_movie'})\n",
        "\n",
        "        max_ = self.full_genome_scores.sort_values(['movieId','relevance']).drop_duplicates(['movieId'], keep='last').set_index('movieId')\n",
        "        self.highest_relevant_tag = max_[\"tagId\"].to_frame()\n",
        "\n",
        "        self.rating_per_movie = self.dataset.groupby('movieId').rating.count().to_frame().rename(columns={'rating':'rating_per_movie'})\n",
        "\n",
        "        self.highest_rating = self.dataset.groupby('movieId').rating.max().to_frame().rename(columns={'rating':'highest_rating'})\n",
        "\n",
        "        self.lowest_rating = self.dataset.groupby('movieId').rating.min().to_frame().rename(columns={'rating':'lowest_rating'})\n",
        "\n",
        "        self.rated_last = self.bin_values(self.dataset.groupby('movieId').timestamp.max()).to_frame().rename(columns={'timestamp':'rated_last'})\n",
        "\n",
        "        self.rated_first = self.bin_values(self.dataset.groupby('movieId').timestamp.min()).to_frame().rename(columns={'timestamp':'rated_first'})\n",
        "\n",
        "        self.rating_mean = self.dataset.groupby('movieId').rating.mean().to_frame().rename(columns={'rating':'rating_mean'})\n",
        "\n",
        "        self.rating_std = self.dataset.groupby('movieId').rating.std().to_frame().rename(columns={'rating':'rating_std'})\n",
        "\n",
        "        self.rating_duration = self.bin_values(self.dataset.groupby('movieId').timestamp.max()-self.dataset.groupby('movieId').timestamp.min()).to_frame().rename(columns={'timestamp':'rating_duration'})\n",
        "\n",
        "        self.movie_feature = pd.merge(self.tag_per_movie, self.genre_per_movie, how='right', left_index=True, right_index=True).fillna(0)\n",
        "        self.movie_feature = pd.merge(self.movie_feature, self.highest_relevant_tag, how='left', left_index=True, right_index=True).fillna(0)\n",
        "        self.movie_feature = pd.merge(self.movie_feature, self.rating_per_movie, how='inner', left_index=True, right_index=True)\n",
        "        self.movie_feature = pd.merge(self.movie_feature, self.highest_rating, how='inner', left_index=True, right_index=True)\n",
        "        self.movie_feature = pd.merge(self.movie_feature, self.lowest_rating, how='inner', left_index=True, right_index=True)\n",
        "        self.movie_feature = pd.merge(self.movie_feature, self.rating_mean, how='inner', left_index=True, right_index=True)\n",
        "        self.movie_feature = pd.merge(self.movie_feature, self.rating_std, how='inner', left_index=True, right_index=True)        \n",
        "        self.movie_feature = pd.merge(self.movie_feature, self.rated_last, how='inner', left_index=True, right_index=True)\n",
        "        self.movie_feature = pd.merge(self.movie_feature, self.rated_first, how='inner', left_index=True, right_index=True)\n",
        "        self.movie_feature = pd.merge(self.movie_feature, self.rating_duration, how='inner', left_index=True, right_index=True)"
      ],
      "execution_count": null,
      "outputs": []
    },
    {
      "cell_type": "code",
      "metadata": {
        "id": "0niWnOdTONme"
      },
      "source": [
        "## deal with movie cold-start problem\n",
        "## for all the movie features, only number of tags per movie, number of generes per movie, and highest relevent tag per movie will have values\n",
        "\n",
        "class movie_coldstart(object):\n",
        "    def __init__(self, full, train, full_tags, full_genome_scores, if_develop=False):\n",
        "        self.full = full\n",
        "        self.train = train\n",
        "        self.full_tags = full_tags\n",
        "        self.full_genome_scores = full_genome_scores\n",
        "        a = createProfile(self.train, full_tags, full_genome_scores)\n",
        "        self.movie_feature = a.movie_feature\n",
        "        self.user_feature = a.user_feature\n",
        "        feature_df = createUserProfile(self.train).combine()\n",
        "        # add user features in user_profile\n",
        "        self.user_feature = pd.merge(self.user_feature, feature_df, how='inner', left_index=True, right_index=True).fillna(0)\n",
        "    \n",
        "    \n",
        "    def ifexist(self):\n",
        "        all_movie = set(self.full.movieId.unique())\n",
        "        train_movie = set(self.train.movieId.unique())\n",
        "        missing_movie = list(all_movie - train_movie)\n",
        "        self.missing_movie = missing_movie\n",
        "        self.not_exist_coldstart = len(missing_movie)==0\n",
        "        self.no_missingmovie = len(missing_movie)\n",
        "\n",
        "    def form(self):\n",
        "        self.ifexist()\n",
        "        if self.not_exist_coldstart==False:\n",
        "            tag_per_movie = self.full_tags.movieId.value_counts().to_frame().rename(columns={'movieId':'tag_per_movie'})\n",
        "            idx = tag_per_movie.index.rename('movieId')\n",
        "            tag_per_movie.index = idx\n",
        "\n",
        "            new = self.full[['movieId','genres']].drop_duplicates(subset=None, keep='first', inplace=False).set_index('movieId')\n",
        "            new = new.genres.apply(lambda x: len(x.split(\"|\")))\n",
        "            genre_per_movie = new.to_frame().rename(columns={'genres':'genre_per_movie'})\n",
        "\n",
        "            max = self.full_genome_scores.sort_values(['movieId','relevance']).drop_duplicates(['movieId'], keep='last').set_index('movieId')\n",
        "            highest_relevant_tag = max[\"tagId\"].to_frame()\n",
        "\n",
        "            new_feature = pd.merge(tag_per_movie, genre_per_movie, how='right', left_index=True, right_index=True).fillna(0)\n",
        "            new_feature = pd.merge(new_feature, highest_relevant_tag, how='left', left_index=True, right_index=True).fillna(0)\n",
        "\n",
        "            nan_value = [np.nan] * 8 ## 8 columns of movie features will be np.nan\n",
        "            new = pd.DataFrame()\n",
        "            values = []\n",
        "            for i in self.missing_movie:\n",
        "                value = [i]\n",
        "                try:\n",
        "                    value.append(tag_per_movie.loc[i].values[0])\n",
        "                except:\n",
        "                    value.append(np.nan)\n",
        "                try:\n",
        "                    value.append(genre_per_movie.loc[i].values[0])\n",
        "                except:\n",
        "                    value.append(np.nan)\n",
        "                try:\n",
        "                    value.append(highest_relevant_tag.loc[i].values[0])\n",
        "                except:\n",
        "                    value.append(np.nan)\n",
        "                value.extend(nan_value)\n",
        "                values.append(value)\n",
        "\n",
        "            col = ['movieId']\n",
        "            col.extend(list(self.movie_feature.columns.values))\n",
        "\n",
        "            missing = pd.DataFrame(values,columns=col).set_index('movieId')\n",
        "            self.movie_feature = pd.concat([self.movie_feature, missing])"
      ],
      "execution_count": null,
      "outputs": []
    },
    {
      "cell_type": "markdown",
      "metadata": {
        "id": "K1CQjBwQ1xFR"
      },
      "source": [
        "## LightFM Model\n",
        "\n",
        "For this part, we use LightFM as our basic recommendation model.  LightFM is a hybrid matrix factorisation model representing users and items as linear combinations of their content features’ latent factors. The model outperforms both collaborative and content-based models in cold-start or sparse interaction data scenarios (using both user and item data), and performs at least as well as a pure collaborative matrix factorisation model where interaction data is abundant.\n",
        "\n",
        "In LightFM, like in a collaborative filtering model, users and items are represented as latent vectors (embeddings). However,these are entirely defined by functions of embeddings of the content features that describe each movie or user."
      ]
    },
    {
      "cell_type": "markdown",
      "metadata": {
        "id": "bYlTOSaaC8_Z"
      },
      "source": [
        "### Model Buiding\n",
        "\n",
        "At the beginning of the model building process, we have to deal with the movie cold-start problem. For all the movie features, only the number of tags per movie, number of genres per movie, and highest relevant tag per movie will have values according to our setting in advance.\n",
        "Thus, after finding out the difference between the feature list gained from the training set and the full data set, we will get a list of missing movies because of the cold-start problem. After adding these values to the missing movies and concat them to the original feature list gained from the training set, we are ready to work on building the model. \n",
        "\n",
        "Firstly, we will transform our training and testing set to coo matrix format before putting them into our model. At the same time, we also need to prepare our feature list and feature data frame for both movie features and user features. \n"
      ]
    },
    {
      "cell_type": "code",
      "metadata": {
        "id": "ShiHCtubjWeS"
      },
      "source": [
        "def coo_matrix_transform(full, train_org, test_org, if_develop=False):\n",
        "    origin = full.pivot(index='userId', columns='movieId', values='rating')\n",
        "    test = origin.copy()\n",
        "    train_idx = train_org[['userId','movieId']].to_numpy()\n",
        "    for i in range(len(train_idx)):\n",
        "        test.loc[train_idx[i][0]][train_idx[i][1]] = np.nan\n",
        "    train = origin.copy()\n",
        "    test_idx = test_org[['userId','movieId']].to_numpy()\n",
        "    for i in range(len(test_idx)):\n",
        "        train.loc[test_idx[i][0]][test_idx[i][1]] = np.nan\n",
        "    train = train.fillna(0)\n",
        "    test = test.fillna(0)\n",
        "    return csr_matrix(train.values).tocoo(copy=True),csr_matrix(test.values).tocoo(copy=True)\n",
        "\n",
        "def generate_feature_list(dataframe, features_name):\n",
        "    uf = []\n",
        "    col = []\n",
        "    unique = []\n",
        "    for i in features_name:\n",
        "        col += [i]*len(dataframe[i].unique())\n",
        "        unique += list(dataframe[i].unique())\n",
        "    for x,y in zip(col, unique):\n",
        "        res = str(x)+ \":\" +str(y)\n",
        "        uf.append(res)\n",
        "    return uf\n",
        "\n",
        "def create_features(dataframe, features_name):\n",
        "    uf = []\n",
        "    for j in range(len(dataframe)):\n",
        "        col = []\n",
        "        for i in features_name:\n",
        "            col += [str(i)+\":\"+str(dataframe[i].iloc[j])]\n",
        "        uf.append((dataframe.index[j],col))\n",
        "    return uf"
      ],
      "execution_count": null,
      "outputs": []
    },
    {
      "cell_type": "markdown",
      "metadata": {
        "id": "nuKeYe_fcE8m"
      },
      "source": [
        "The next step is for our model set up. Apart from the training dataset, testing dataset, full dataset, features from the sides of the user and movie, we also need to put no_components, the dimensionality of the feature latent embeddings, into our consideration as a hyperparameter. When we train our model, we choose fit_partial rather than fit. In this way, repeated calls to this method will cause training to resume from the current model state and thus we can add new users as well as new features during training. After training to return our fitted model, the fitted model will produce the user embeddings and feature embeddings for future use in the Wide and Deep model. \n",
        "\n",
        "The Evaluation will be based on AUC score and precision @ k which will be returned by our fitted LightFM model directly. \n"
      ]
    },
    {
      "cell_type": "code",
      "metadata": {
        "id": "jH7ZVpjoV8um"
      },
      "source": [
        "class lightFM(object):\n",
        "    def __init__(self, train, train_org, full_tags, full_genome_scores, dataset, dimension, only_popular=False, if_develop=False):\n",
        "        self.if_develop = if_develop\n",
        "        a = movie_coldstart(dataset, train_org, full_tags, full_genome_scores, if_develop=self.if_develop)\n",
        "        a.form()\n",
        "        self.user_feature = a.user_feature\n",
        "        self.movie_feature = a.movie_feature\n",
        "        self.user_feature_list = generate_feature_list(self.user_feature,list(self.user_feature.columns))\n",
        "        self.movie_feature_list = generate_feature_list(self.movie_feature,list(self.movie_feature.columns))\n",
        "        self.df_movie = create_features(self.movie_feature, list(self.movie_feature.columns))\n",
        "        self.df_user = create_features(self.user_feature, list(self.user_feature.columns))\n",
        "        self.dataset = dataset\n",
        "        self.only_popular = only_popular\n",
        "        self.train = train\n",
        "        self.train_org = train_org\n",
        "        self.origin = self.dataset.pivot(index='userId', columns='movieId', values='rating')\n",
        "        self.dimension = dimension\n",
        "\n",
        "    def model_setup(self):\n",
        "        dataset = Dataset()\n",
        "        dataset.fit(\n",
        "            set(self.user_feature.index), \n",
        "            set(self.movie_feature.index),\n",
        "            item_features=self.movie_feature_list, \n",
        "            user_features=self.user_feature_list)\n",
        "        self.movie = dataset.build_item_features(self.df_movie)\n",
        "        self.user = dataset.build_user_features(self.df_user)\n",
        "        model = LightFM(no_components=self.dimension, loss='warp')\n",
        "        model.fit_partial(self.train, user_features=self.user, item_features=self.movie, epochs=30, num_threads=4)\n",
        "        self.model = model\n",
        "        self.user_embedding = self.model.user_embeddings \n",
        "        self.movie_embedding = self.model.item_embeddings \n",
        "\n",
        "    def eval(self, test, k):\n",
        "        self.model_setup()\n",
        "        self.test = test\n",
        "        self.train_auc = auc_score(self.model, self.train, item_features=self.movie, user_features = self.user, num_threads=4).mean()\n",
        "        self.test_auc = auc_score(self.model, self.test, item_features=self.movie, user_features = self.user, num_threads=4).mean()\n",
        "        self.train_prec = precision_at_k(self.model, self.train, item_features=self.movie, user_features = self.user, num_threads=4, k=k).mean()\n",
        "        self.test_prec = precision_at_k(self.model, self.test, item_features=self.movie, user_features = self.user, num_threads=4, k=k).mean()\n",
        "        # print('Precision@%s: train %.2f, test %.2f.' % (k, self.train_prec, self.test_prec))\n",
        "        # print('AUC: train %.2f, test %.2f.' % (self.train_auc, self.test_auc))\n",
        "        return self.test_auc, self.test_prec"
      ],
      "execution_count": null,
      "outputs": []
    },
    {
      "cell_type": "markdown",
      "metadata": {
        "id": "7XgJGm5V5kGq"
      },
      "source": [
        "### Full pipeline"
      ]
    },
    {
      "cell_type": "code",
      "metadata": {
        "id": "P8gtZugq5Qs2"
      },
      "source": [
        "# # use full_dataset to represent input data, no need to change between development dataset and full dataset\n",
        "full_dataset = pd.concat([train, test])\n",
        "\n",
        "train_coo, test_coo = coo_matrix_transform(full_dataset, train, test, if_develop=False)\n",
        "\n",
        "dimension = 150\n",
        "lightfm_model = lightFM(train_coo, train, full_tags, full_genome_scores, full_dataset, dimension, only_popular=False, if_develop=False)\n",
        "lightfm_model.model_setup()\n",
        "\n",
        "k = 50\n",
        "metrics = lightfm_model.eval(test_coo, k)"
      ],
      "execution_count": null,
      "outputs": []
    },
    {
      "cell_type": "markdown",
      "metadata": {
        "id": "BjO8OcQ85m3a"
      },
      "source": [
        "### Cross Validation\n",
        "\n",
        "Here we use the StratifiedKFold Cross Validation to find out our best hyperparameter  of LightFM model with our current dataset with the ranking metric precision@50 as priority.\n"
      ]
    },
    {
      "cell_type": "markdown",
      "metadata": {
        "id": "tZ2xcU7TBNaD"
      },
      "source": [
        "Fine Tuning -- no_components d\n",
        "\n",
        "The hyperparameter no_components d of lightFM model means the dimension of feature embeddings."
      ]
    },
    {
      "cell_type": "code",
      "metadata": {
        "id": "bssNEhHl5qN4"
      },
      "source": [
        "def cross_val_lightfm(dataset, d, k, if_develop=True):\n",
        "    auc = []\n",
        "    prec = []\n",
        "    for (train_org, test_org) in kfold(dataset):\n",
        "        train, test = coo_matrix_transform(dataset, train_org, test_org, if_develop=if_develop)\n",
        "\n",
        "        dimension = d\n",
        "        lightfm_model = lightFM(train, train_org, full_tags, full_genome_scores, dataset, dimension, only_popular=False, if_develop=if_develop)\n",
        "\n",
        "        metrics = lightfm_model.eval(test, k)\n",
        "        auc.append(metrics[0])\n",
        "        prec.append(metrics[1])\n",
        "\n",
        "    return np.mean(auc), np.mean(prec)"
      ],
      "execution_count": null,
      "outputs": []
    },
    {
      "cell_type": "code",
      "metadata": {
        "id": "i1Oe87mUAfAk"
      },
      "source": [
        "k = 50\n",
        "dims = [50,100,150,200]\n",
        "auc = []\n",
        "prec = []\n",
        "for d in dims:\n",
        "    a, p = cross_val_lightfm(development_dataset, d, k, if_develop=True)\n",
        "    auc.append(a)\n",
        "    prec.append(p)"
      ],
      "execution_count": null,
      "outputs": []
    },
    {
      "cell_type": "code",
      "metadata": {
        "colab": {
          "base_uri": "https://localhost:8080/",
          "height": 282
        },
        "id": "zWq4Loi9Acr2",
        "outputId": "a2928b81-c19f-4b38-84cf-dac135d7d94e"
      },
      "source": [
        "print(\"best d for auc:\",dims[np.argmax(auc)])\n",
        "plt.plot(dims,auc)\n",
        "plt.plot(dims[np.argmax(auc)],np.max(auc),'ro')\n",
        "plt.show()"
      ],
      "execution_count": null,
      "outputs": [
        {
          "output_type": "stream",
          "text": [
            "best d for auc: 150\n"
          ],
          "name": "stdout"
        },
        {
          "output_type": "display_data",
          "data": {
            "image/png": "[encoded data removed]",
            "text/plain": [
              "<Figure size 432x288 with 1 Axes>"
            ]
          },
          "metadata": {
            "tags": [],
            "needs_background": "light"
          }
        }
      ]
    },
    {
      "cell_type": "code",
      "metadata": {
        "colab": {
          "base_uri": "https://localhost:8080/",
          "height": 282
        },
        "id": "sy0qEm6kA8V0",
        "outputId": "adb57946-f53d-479f-978b-cdcd93d1c304"
      },
      "source": [
        "print(\"best d for prec:\",dims[np.argmax(prec)])\n",
        "plt.plot(dims,prec)\n",
        "plt.plot(dims[np.argmax(prec)],np.max(prec),'ro')\n",
        "plt.show()"
      ],
      "execution_count": null,
      "outputs": [
        {
          "output_type": "stream",
          "text": [
            "best d for prec: 100\n"
          ],
          "name": "stdout"
        },
        {
          "output_type": "display_data",
          "data": {
            "image/png": "[encoded data removed]",
            "text/plain": [
              "<Figure size 432x288 with 1 Axes>"
            ]
          },
          "metadata": {
            "tags": [],
            "needs_background": "light"
          }
        }
      ]
    },
    {
      "cell_type": "markdown",
      "metadata": {
        "id": "4JF1dsKdBrMu"
      },
      "source": [
        "Considering ranking metric precision@50 as priority, we choose no_components=150 as the best parameter."
      ]
    },
    {
      "cell_type": "code",
      "metadata": {
        "id": "jFtgpFvaDxhE"
      },
      "source": [
        "k = 50\n",
        "dims = [50,100,150,200]\n",
        "auc = []\n",
        "prec = []\n",
        "for d in dims:\n",
        "    a, p = cross_val_lightfm(development_dataset, d, k, if_develop=True)\n",
        "    auc.append(a)\n",
        "    prec.append(p)"
      ],
      "execution_count": null,
      "outputs": []
    },
    {
      "cell_type": "markdown",
      "metadata": {
        "id": "KidRDftHbOUh"
      },
      "source": [
        "## Ann\n",
        "In order to set up an efficient system, we build ANN between retrieval models and reorder models. Approximate nearest neighbor is a fast and memory saving way to find movie candidates for a uses, so the online searching will be fast, and so the Wide & Deep model could respond more efficiently. \n",
        "\n",
        "With embedding vectors LightFM provided, we use Bucket Random Projection LSH to find candidates set for each user because it could accept dense vectors as input. \n",
        "\n",
        "Bucketed Random Projection is an LSH family for Euclidean distance. Its LSH family projects feature vectors x onto a random unit vector v and portions the projected results into hash buckets\n",
        "\n",
        "where r is a user-defined bucket length. The bucket length can be used to control the average size of hash buckets (and thus the number of buckets). A larger bucket length (i.e., fewer buckets) increases the probability of features being hashed to the same bucket (increasing the numbers of true and false positives).\n",
        "\n"
      ]
    },
    {
      "cell_type": "code",
      "metadata": {
        "id": "wds1kmWhbQgR"
      },
      "source": [
        "# dataset preparation\n",
        "ratings_train = MatrixFactorization.createDataFrame(train, pct=1)\n",
        "ratings_test = MatrixFactorization.createDataFrame(test)"
      ],
      "execution_count": null,
      "outputs": []
    },
    {
      "cell_type": "markdown",
      "metadata": {
        "id": "tvvQRln2Gfex"
      },
      "source": [
        "We should first transform the embedding data frame for users and movies as spark dataframe and appropriate data format, ID as int type and vectors as DenseVector. \n",
        "\n",
        "The parameters for Bucketed Random Projection are bucket length and number of hash tables. These two parameters are carefully chosen in order to make sure we could get a reasonable number of candidates for each user. \n",
        "\n",
        "Unlike usual hashing, we want to encourage collision in each bucket. The longer the bucket length, the smaller the number of buckets where the number of buckets equal to max( ||x||^2) // length of bucket, hence increasing the number of items in each bucket. \n",
        "\n",
        "According to the formula, max( ||x||^2) in users’ embedding space is around 26, so setting the  length of the bucket equal to 2 will give 13 buckets for each hash table. Ideally,  on average each bucket will have 1500 items. And in order to decrease the false negative and make it more robust, we set the hash table number equal to 5. \n"
      ]
    },
    {
      "cell_type": "code",
      "metadata": {
        "id": "SJteKnWPD9_H"
      },
      "source": [
        "# using embedding from lightfm\n",
        "user_embedding = []\n",
        "for i in range(len(lightfm_model.origin)):\n",
        "    user_embedding.append([item.astype('double') for item in lightfm_model.user_embedding[i]])\n",
        "userembed_lightfm = pd.DataFrame(zip(pd.Series(lightfm_model.origin.index),pd.Series(user_embedding)),columns=[\"userId\",\"features\"])\n",
        "\n",
        "\n",
        "movie_embedding = []\n",
        "for i in range(lightfm_model.origin.shape[1]):\n",
        "    movie_embedding.append([item.astype('double') for item in lightfm_model.movie_embedding[i]])\n",
        "movieembed_lightfm = pd.DataFrame(zip(pd.Series(lightfm_model.origin.columns),pd.Series(movie_embedding)),columns=[\"movieId\",\"features\"])\n",
        "\n",
        "\n",
        "user_latent = spark.createDataFrame(\n",
        "    [(int(tup[0]), Vectors.dense([float(item) for item in tup[1]])) for tup in userembed_lightfm.values], \n",
        "    [\"userId\", \"features\"]\n",
        ")\n",
        "movie_latent = spark.createDataFrame(\n",
        "    [(int(tup[0]), Vectors.dense([float(item) for item in tup[1]])) for tup in movieembed_lightfm.values], \n",
        "    [\"movieId\", \"features\"]\n",
        ")"
      ],
      "execution_count": null,
      "outputs": []
    },
    {
      "cell_type": "code",
      "metadata": {
        "id": "esvYFvkfbba8"
      },
      "source": [
        "brp = BucketedRandomProjectionLSH(inputCol=\"features\", outputCol=\"hashes\", bucketLength=2.0,\n",
        "                                  numHashTables=5)\n",
        "model = brp.fit(user_latent)"
      ],
      "execution_count": null,
      "outputs": []
    },
    {
      "cell_type": "markdown",
      "metadata": {
        "id": "NtDmFHHXGnga"
      },
      "source": [
        "After training, we could easily find 100 candidates for each user by ANN search or find nearest candidates for batch users. These user-movie id pairs (and their embedding vectors) will become major components of  input for wide & deep models in online recommendation. \n",
        "Usually we will predict for batch users, the way to quickly find candidates for batch users is to utilize Approximate similarity join. It takes two datasets and approximately returns pairs of rows in the datasets whose distance is smaller than a user-defined threshold.  As we want to make sure each user has at least over 100 candidates for the next model to reorder, setting similarity threshold is 5 for Euclidean distance could make sure the minimum candidates number is over 100 (139 in in our experiment). If with higher computer power, we could increase this nubmer accordingly, which will make candidates set larger. \n",
        "\n",
        "Now without reordering, the ndcg and precision @ k is low.\n"
      ]
    },
    {
      "cell_type": "code",
      "metadata": {
        "id": "iMTmns8wbfE5"
      },
      "source": [
        "# quick evaluation of ann\n",
        "windowSpec = Window.partitionBy(\"datasetA.userId\").orderBy(col('distCol').desc())\n",
        "recommenddf=model.approxSimilarityJoin(user_latent, movie_latent, 5, distCol=\"distCol\")\\\n",
        "    .select(col(\"datasetA.userId\").alias(\"userId\"),\n",
        "            col(\"datasetB.movieId\").alias(\"movieId\"),\n",
        "            col(\"distCol\"),\n",
        "            F.rank().over(windowSpec).alias('rank')).groupBy('userId') \\\n",
        "            .agg(expr('collect_list(movieId) as items'))\n"
      ],
      "execution_count": null,
      "outputs": []
    },
    {
      "cell_type": "code",
      "metadata": {
        "colab": {
          "base_uri": "https://localhost:8080/"
        },
        "id": "T7i-kh-dSgKp",
        "outputId": "36dee262-9090-489b-802e-99512756bd55"
      },
      "source": [
        "# minimum number of recommendation\n",
        "temprecommendlist=recommenddf.select('items').collect()\n",
        "np.min([len(l[0]) for l in temprecommendlist])"
      ],
      "execution_count": null,
      "outputs": [
        {
          "output_type": "execute_result",
          "data": {
            "text/plain": [
              "139"
            ]
          },
          "metadata": {
            "tags": []
          },
          "execution_count": 25
        }
      ]
    },
    {
      "cell_type": "code",
      "metadata": {
        "id": "GYJCsu_JTxsC",
        "colab": {
          "base_uri": "https://localhost:8080/"
        },
        "outputId": "006e3026-47b9-4e91-c55d-a1a5db118d5f"
      },
      "source": [
        "# get metrics for the model \n",
        "rankingEvaluator = RankingEvaluator(k=50)\n",
        "ndcg_ann, precisionTopK_ann = rankingEvaluator._evaluate(ratings_test, recommenddf, ratings_train)\n",
        "print('precision at Top {} is {}'.format(50, precisionTopK_ann))\n",
        "print('ndcg is {}'.format(ndcg_ann))"
      ],
      "execution_count": null,
      "outputs": [
        {
          "output_type": "stream",
          "text": [
            "precision at Top 50 is 0.0021761658031088085\n",
            "ndcg is 0.009728477671707305\n"
          ],
          "name": "stdout"
        }
      ]
    },
    {
      "cell_type": "markdown",
      "metadata": {
        "id": "wSARxWJqTydS"
      },
      "source": [
        "## Wide and Deep Reorder model\n",
        "\n",
        "In this part, we are going to use a powerful model, Wide & Deep to reorder our recommendation. \n",
        "Wide and Deep could  jointly train a wide linear model (for memorization) alongside a deep neural network (for generalization), one can combine the strengths of both. The wide part could be useful when we have a cold-start user or movie.  \n",
        "\n",
        "For trainning part,\n",
        "\n",
        "First, the wide model. A linear model in TensorFlow is trained with a wide set of cross-product feature transformations to capture how the co-occurrence of a query-item feature pair correlates with the target label (whether or not a movie is rated). The features we used are created by our user profile and movie profile. \n",
        "\n",
        "Then for the deep model. This is able to generalize by matching movies to users that are close to each other in the embedding space. This part may generate serendipity results for a user.  We fit embeddings we trained from lightFM and set it as trainable to improve the results. If the sample size increases in future, we could simply set it as not trainable to improve training efficiency. \n",
        "\n",
        "All the parameters, for example, the learning rate, regularization and deep layers numbers are carefully selected by cross validation. \n",
        "\n",
        "In offline training, we trained our models through batch. Each batch_size will be 2000 and will be sampled randomly from the whole dataset, the whole process is repeated. We use regularization in case of overfitting. \n",
        "\n",
        "The Evaluation will be based on NDCG and precision @ k, reusing the evaluation module we created for MF in hw2.  When preparing for batch prediction as we may face in practice, we will prepare dataframe called df_ann, this dataframe will contain user_item pairs and each user/item's profile. The user-item pair are provided by our ANN algorithm. \n",
        "\n",
        "In online recommendation, we fit the user-movie pairs where movies are from candidates set we generated from ANN, along with the user and movie profile. So this re-order will be faster than retrieving from the whole movie set.\n"
      ]
    },
    {
      "cell_type": "markdown",
      "metadata": {
        "id": "MCpKXbNtYxLD"
      },
      "source": [
        "### Model Building"
      ]
    },
    {
      "cell_type": "code",
      "metadata": {
        "id": "s2mbR4Ju9umv"
      },
      "source": [
        "def create_dataframe(data, pct=1.0):\n",
        "    if pct < 1.0:\n",
        "        data = sample_size(data, pct)\n",
        "    ratings_data = spark.createDataFrame(data)\n",
        "    return ratings_data\n",
        "\n",
        "class wide_and_deep_input(object):\n",
        "    \"\"\"handle input function for wide and deep model\n",
        "    \"\"\"\n",
        "    LABEL_COLUMN = 'rating'\n",
        "    CATEGORICAL_COLUMNS = ['userId', 'movieId', 'rating_genre_most',\n",
        "                           \"recent_title\", 'movie_age_most', 'most_rating_tag', 'recent_rating_tag']\n",
        "    CONTINUOUS_COLUMNS_WHOLE = ['tag_per_user', 'rating_count', 'rating_mean', 'rating_std', 'rating_min',\n",
        "                                'rating_max', 'participate_age',\n",
        "                                'participate_last', 'participate_last',\n",
        "                                'movie_year_mean', 'movie_year_std', 'movie_year_min', 'movie_year_max', '1970s',\n",
        "                                '1980s', '1990s', '2000s', '2020s', 'ls1970', 'genre_Action', 'genre_Adventure', 'genre_Animation', 'genre_Children',\n",
        "                                'genre_Comedy', 'genre_Crime', 'genre_Documentary', 'genre_Drama',\n",
        "                                'genre_Fantasy', 'genre_Horror', 'genre_Thriller', 'tag_per_movie', 'genre_per_movie', 'tagId',\n",
        "                                'rating_per_movie', 'highest_rating', 'lowest_rating',\n",
        "                                'rating_mean_movie', 'rating_std_movie']\n",
        "\n",
        "    @classmethod\n",
        "    def input_fn(cls, df, mode='train', batch_size=2000):\n",
        "      # Creates a dictionary mapping from each continuous feature column name (k) to\n",
        "      # the values of that column stored in a constant Tensor.\n",
        "        continuous_cols = {k: tf.constant(df[k].values, dtype=tf.float64)\n",
        "                           for k in cls().CONTINUOUS_COLUMNS_WHOLE}\n",
        "      # Creates a dictionary mapping from each categorical feature column name (k)\n",
        "      # to the values of that column stored in a tf.SparseTensor.\n",
        "        categorical_cols = {k: tf.SparseTensor(indices=[[i, 0] for i in range(df[k].size)], values=df[k].values, dense_shape=[df[k].size, 1])\n",
        "                            for k in cls().CATEGORICAL_COLUMNS}\n",
        "      # Merges the two dictionaries into one.\n",
        "        feature_cols = {**continuous_cols, **categorical_cols}\n",
        "\n",
        "        if mode == 'predict':\n",
        "            return tf.data.Dataset.from_tensor_slices(feature_cols).batch(df.shape[0])\n",
        "      # Converts the label column into a constant Tensor.\n",
        "      # Returns the feature columns and the label.\n",
        "\n",
        "        label = tf.constant(df[cls().LABEL_COLUMN].values)\n",
        "        dataset = tf.data.Dataset.from_tensor_slices((feature_cols, label))\n",
        "        if mode == 'train':\n",
        "            dataset = dataset.shuffle(batch_size).repeat()\n",
        "\n",
        "        return dataset.batch(batch_size)\n",
        "\n",
        "    @classmethod\n",
        "    def wrapping_input_fn(cls, df, mode='train'):\n",
        "        def input_fn_inside():\n",
        "            return cls().input_fn(df, mode=mode)\n",
        "        return input_fn_inside\n",
        "\n",
        "class wide_and_deep_model(object):\n",
        "    \"\"\"wide and deep model\"\"\"\n",
        "    def __init__(self, estimator, user_feature, movie_feature):\n",
        "        self.estimator = estimator\n",
        "        self.user_feature = user_feature\n",
        "        self.movie_feature = movie_feature\n",
        "    \n",
        "    def evaluate(self, test):\n",
        "        user_feature = self.user_feature\n",
        "        movie_feature = self.movie_feature\n",
        "        estimator = self.estimator\n",
        "\n",
        "        ratings_test = create_dataframe(test)\n",
        "        # data processing, from ratings_train and user_feature and movie_feature to df_train\n",
        "        test_pd_df = ratings_test.toPandas()[['userId', 'movieId', 'rating']]\n",
        "        test_pd_df.userId = test_pd_df.userId.astype(int)\n",
        "        test_pd_df.movieId = test_pd_df.movieId.astype(int)\n",
        "        \n",
        "        df_eval = test_pd_df\\\n",
        "            .merge(user_feature, left_on='userId', right_on='userId', how='left')\\\n",
        "            .merge(movie_feature, left_on='movieId', right_on='movieId', how='left')\n",
        "        \n",
        "        results = estimator.evaluate(input_fn=wide_and_deep_input.wrapping_input_fn(df_eval, mode='eval'), steps=10)\n",
        "\n",
        "        for key in sorted(results):\n",
        "            print(\"%s: %s\" % (key, results[key]))\n",
        "        return results\n",
        "        \n",
        "    def predict(self, df, test):\n",
        "        user_feature = self.user_feature\n",
        "        movie_feature = self.movie_feature\n",
        "        estimator = self.estimator\n",
        "        \n",
        "        df_ann = df\\\n",
        "                    .merge(user_feature, left_on='userId', right_on='userId', how='left')\\\n",
        "                    .merge(movie_feature, left_on='movieId', right_on='movieId', how='left')\n",
        "\n",
        "        predictions = estimator.predict(\n",
        "            input_fn=wide_and_deep_input.wrapping_input_fn(df_ann, mode='predict'), yield_single_examples=False)\n",
        "\n",
        "        finalrecommend = pd.DataFrame(\n",
        "            next(predictions)['predictions'], index=df_ann.userId)\n",
        "        finalrecommend['items'] = df_ann.movieId.values\n",
        "        finalrecommend = finalrecommend.rename(columns={0: 'predictions'})\n",
        "        finalrecommend.reset_index(inplace=True)\n",
        "\n",
        "        recommendation_df_reordered = pd.DataFrame(finalrecommend.sort_values(\n",
        "            ['userId', 'predictions'], ascending=False).groupby(\"userId\")['items'].apply(list))\n",
        "        rc_reorder = spark.createDataFrame(\n",
        "            recommendation_df_reordered.reset_index())\n",
        "        actual_df_hybrid = pd.DataFrame(test[['userId', 'movieId', 'rating']].sort_values(\n",
        "            ['userId', 'rating'], ascending=False).groupby(\"userId\")['movieId'].apply(list))\n",
        "        actual_list_hybrid = [l[0] for l in actual_df_hybrid.loc[list(\n",
        "            recommendation_df_reordered.index)].values]\n",
        "        rec_list_hybrid = [l[0] for l in recommendation_df_reordered.values]\n",
        "        return rc_reorder, actual_df_hybrid, rec_list_hybrid\n",
        "\n",
        "\n",
        "def create_dataframe(data, pct=1.0):\n",
        "    if pct < 1.0:\n",
        "        data = sample_size(data, pct)\n",
        "    ratings_data = spark.createDataFrame(data)\n",
        "    return ratings_data\n",
        "\n",
        "    \n",
        "class wide_and_deep(object):\n",
        "    LABEL_COLUMN = 'rating'\n",
        "    CATEGORICAL_COLUMNS = ['userId', 'movieId', 'rating_genre_most',\n",
        "                           \"recent_title\", 'movie_age_most', 'most_rating_tag', 'recent_rating_tag']\n",
        "    CONTINUOUS_COLUMNS_WHOLE = ['tag_per_user', 'rating_count', 'rating_mean', 'rating_std', 'rating_min',\n",
        "                                'rating_max', 'participate_age',\n",
        "                                'participate_last', 'participate_last',\n",
        "                                'movie_year_mean', 'movie_year_std', 'movie_year_min', 'movie_year_max', '1970s',\n",
        "                                '1980s', '1990s', '2000s', '2020s', 'ls1970', 'genre_Action', 'genre_Adventure', 'genre_Animation', 'genre_Children',\n",
        "                                'genre_Comedy', 'genre_Crime', 'genre_Documentary', 'genre_Drama',\n",
        "                                'genre_Fantasy', 'genre_Horror', 'genre_Thriller', 'tag_per_movie', 'genre_per_movie', 'tagId',\n",
        "                                'rating_per_movie', 'highest_rating', 'lowest_rating',\n",
        "                                'rating_mean_movie', 'rating_std_movie']\n",
        "\n",
        "    def __init__(self,\n",
        "                 user_latent,\n",
        "                 movie_latent,\n",
        "                 feature_voclist,\n",
        "                 user_feature,\n",
        "                 movie_feature,\n",
        "                 recommendation_df,\n",
        "                 batch_size=2000,\n",
        "                 item_num=50,\n",
        "                 linear_learning_rate=0.001,\n",
        "                 deep_learning_rate=0.001,\n",
        "                 linear_l1_strength=0.0,\n",
        "                 linear_l2_strength=0.0,\n",
        "                 embedding_dim=150):\n",
        "\n",
        "        self.user_latent = user_latent\n",
        "        self.movie_latent = movie_latent\n",
        "        self.feature_voclist = feature_voclist\n",
        "        self.user_feature = user_feature\n",
        "        self.movie_feature = movie_feature\n",
        "        self.recommendation_df = recommendation_df\n",
        "        self.batch_size = batch_size\n",
        "        self.item_num = item_num\n",
        "        self.linear_learning_rate = linear_learning_rate\n",
        "        self.deep_learning_rate = deep_learning_rate\n",
        "        self.linear_l1_strength = linear_l1_strength\n",
        "        self.linear_l2_strength = linear_l2_strength\n",
        "        self.embedding_dim = embedding_dim\n",
        "        self.metric = dict()\n",
        "\n",
        "    def train(self, train):\n",
        "        # get resource from initialization\n",
        "        user_latent = self.user_latent\n",
        "        movie_latent = self.movie_latent\n",
        "        feature_voclist = self.feature_voclist\n",
        "        user_feature = self.user_feature\n",
        "        movie_feature = self.movie_feature\n",
        "        recommend_pd_df = self.recommendation_df\n",
        "        BATCH_SIZE = self.batch_size\n",
        "        ITEM_NUM = self.item_num\n",
        "        LINEAR_LEARNING_RATE = self.linear_learning_rate\n",
        "        DEEP_LEARNING_RATE = self.deep_learning_rate\n",
        "        LINEAR_L1_STRENGTH = self.linear_l1_strength\n",
        "        LINEAR_L2_STRENGTH = self.linear_l2_strength\n",
        "        EMBEDDING_DIM = self.embedding_dim\n",
        "\n",
        "        LABEL_COLUMN = self.LABEL_COLUMN\n",
        "        CATEGORICAL_COLUMNS = self.CATEGORICAL_COLUMNS\n",
        "        CONTINUOUS_COLUMNS_WHOLE = self.CONTINUOUS_COLUMNS_WHOLE\n",
        "\n",
        "        # feature preparation\n",
        "        # create spark dataframe from data\n",
        "        ratings_train = create_dataframe(train)\n",
        "        # data processing, from ratings_train and user_feature and movie_feature to df_train\n",
        "        train_pd_df = ratings_train.toPandas()[['userId', 'movieId', 'rating']]\n",
        "        train_pd_df.userId = train_pd_df.userId.astype(int)\n",
        "        train_pd_df.movieId = train_pd_df.movieId.astype(int)\n",
        "\n",
        "        df_train = user_feature.merge(\n",
        "            train_pd_df, left_on='userId', right_on='userId', how='right')\n",
        "        df_train = movie_feature.merge(\n",
        "            df_train, left_on='movieId', right_on='movieId', how='right')\n",
        "\n",
        "        recent_title_voclist = feature_voclist['recent_title']\n",
        "        recent_rating_tag_voclist = feature_voclist['recent_rating_tag']\n",
        "        most_rating_tag_voclist = feature_voclist['most_rating_tag']\n",
        "        movie_age_most_voclist = feature_voclist['movie_age_most']\n",
        "        # tf feature generation\n",
        "        # Categorical base columns.\n",
        "        rating_genre_most = tf.feature_column.categorical_column_with_vocabulary_list(\n",
        "            \"rating_genre_most\", ['Drama', 'Comedy', 'Action', 'Horror', 'Adventure'])\n",
        "        recent_title = tf.feature_column.categorical_column_with_vocabulary_list(\n",
        "            \"recent_title\", recent_title_voclist)\n",
        "        recent_rating_tag = tf.feature_column.categorical_column_with_vocabulary_list(\n",
        "            \"recent_rating_tag\", recent_rating_tag_voclist)\n",
        "        most_rating_tag = tf.feature_column.categorical_column_with_vocabulary_list(\n",
        "            \"most_rating_tag\", most_rating_tag_voclist)\n",
        "        movie_age_most = tf.feature_column.categorical_column_with_vocabulary_list(\n",
        "            \"movie_age_most\", movie_age_most_voclist)\n",
        "        # Continuous base columns.\n",
        "        # user part\n",
        "        rating_count = tf.feature_column.numeric_column(\"rating_count\")\n",
        "        rating_count_buckets = tf.feature_column.bucketized_column(\n",
        "            rating_count, boundaries=[10, 20, 30, 40, 60, 80])\n",
        "        rating_mean = tf.feature_column.numeric_column(\"rating_mean\")\n",
        "        rating_std = tf.feature_column.numeric_column(\"rating_std\")\n",
        "        rating_min = tf.feature_column.numeric_column(\"rating_min\")\n",
        "        rating_max = tf.feature_column.numeric_column(\"rating_max\")\n",
        "        participate_age = tf.feature_column.numeric_column(\"participate_age\")\n",
        "        participate_age_buckets = tf.feature_column.bucketized_column(\n",
        "            participate_age, boundaries=[3, 10, 20, 30])\n",
        "        participate_last = tf.feature_column.numeric_column(\"participate_last\")\n",
        "        participate_last_buckets = tf.feature_column.bucketized_column(\n",
        "            participate_age, boundaries=[3, 10, 20, 30, 40])\n",
        "        movie_year_mean = tf.feature_column.numeric_column(\"movie_year_mean\")\n",
        "        movie_year_std = tf.feature_column.numeric_column('movie_year_std')\n",
        "        movie_year_min = tf.feature_column.numeric_column('movie_year_min')\n",
        "        movie_year_max = tf.feature_column.numeric_column('movie_year_max')\n",
        "        s1970s = tf.feature_column.numeric_column('1970s')\n",
        "        s1980s = tf.feature_column.numeric_column('1980s')\n",
        "        s1990s = tf.feature_column.numeric_column('1990s')\n",
        "        s2000s = tf.feature_column.numeric_column(\"2000s\")\n",
        "        s2020s = tf.feature_column.numeric_column(\"2020s\")\n",
        "        ls1970 = tf.feature_column.numeric_column(\"ls1970\")\n",
        "        genre_Action = tf.feature_column.numeric_column(\"genre_Action\")\n",
        "        genre_Adventure = tf.feature_column.numeric_column(\"genre_Adventure\")\n",
        "        genre_Animation = tf.feature_column.numeric_column(\"genre_Animation\")\n",
        "        genre_Children = tf.feature_column.numeric_column(\"genre_Children\")\n",
        "        genre_Comedy = tf.feature_column.numeric_column(\"genre_Comedy\")\n",
        "        genre_Crime = tf.feature_column.numeric_column(\"genre_Crime\")\n",
        "        genre_Documentary = tf.feature_column.numeric_column(\n",
        "            \"genre_Documentary\")\n",
        "        genre_Drama = tf.feature_column.numeric_column(\"genre_Drama\")\n",
        "        genre_Fantasy = tf.feature_column.numeric_column(\"genre_Fantasy\")\n",
        "        genre_Horror = tf.feature_column.numeric_column(\"genre_Horror\")\n",
        "        genre_Thriller = tf.feature_column.numeric_column(\"genre_Thriller\")\n",
        "        # movie part\n",
        "        tag_per_movie = tf.feature_column.numeric_column('tag_per_movie')\n",
        "        genre_per_movie = tf.feature_column.numeric_column('genre_per_movie')\n",
        "        rating_per_movie = tf.feature_column.numeric_column('rating_per_movie')\n",
        "        highest_rating = tf.feature_column.numeric_column('highest_rating')\n",
        "        lowest_rating = tf.feature_column.numeric_column('lowest_rating')\n",
        "        rating_mean_movie = tf.feature_column.numeric_column(\n",
        "            'rating_mean_movie')\n",
        "        rating_std_movie = tf.feature_column.numeric_column('rating_std_movie')\n",
        "        # cross_catogoric base columns.\n",
        "        genre_tag = tf.feature_column.crossed_column(\n",
        "            [rating_genre_most, most_rating_tag], hash_bucket_size=int(1e4))\n",
        "        age_genre = tf.feature_column.crossed_column(\n",
        "            [movie_age_most, rating_genre_most], hash_bucket_size=int(1e4))\n",
        "        age_tag = tf.feature_column.crossed_column(\n",
        "            [movie_age_most, most_rating_tag], hash_bucket_size=int(1e4))\n",
        "\n",
        "        # wide colunm\n",
        "        widecol = [rating_count, rating_mean, rating_std, rating_min, rating_max,\n",
        "                   rating_genre_most, participate_age, participate_last,\n",
        "                   movie_year_mean, movie_year_std, movie_year_min, movie_year_max,\n",
        "                   recent_title, recent_rating_tag, most_rating_tag, s1970s,\n",
        "                   s1980s, s1990s, s2000s, s2020s, ls1970, movie_age_most,\n",
        "                   genre_Action, genre_Adventure, genre_Animation, genre_Children,\n",
        "                   genre_Comedy, genre_Crime, genre_Documentary, genre_Drama,\n",
        "                   genre_Fantasy, genre_Horror, genre_Thriller, genre_tag, age_genre, age_tag,\n",
        "                   tag_per_movie, genre_per_movie, rating_per_movie,\n",
        "                   highest_rating, lowest_rating, rating_mean_movie, rating_std_movie]\n",
        "\n",
        "        # Loading embedding features for deep part\n",
        "        user_vocab = user_latent.toPandas()\n",
        "        embedding_matrix_user = np.zeros(\n",
        "            (np.max(user_vocab.userId.values)+1, EMBEDDING_DIM))\n",
        "        useridvocab = np.arange(np.max(user_vocab.userId.values)+1).tolist()\n",
        "        for line in user_vocab.values:\n",
        "            embedding_vector = np.asarray(line[1], dtype='float32')\n",
        "            embedding_matrix_user[line[0]] = embedding_vector\n",
        "        useridvocab = np.arange(np.max(user_vocab.userId.values)+1).tolist()\n",
        "        userid = tf.feature_column.categorical_column_with_vocabulary_list(\n",
        "            \"userId\", useridvocab)\n",
        "\n",
        "        embedding_initializer = None\n",
        "        has_pretrained_embedding = True\n",
        "        if has_pretrained_embedding:\n",
        "            embedding_initializer = embedding_matrix_user\n",
        "        else:\n",
        "            embedding_initializer = tf.random_uniform_initializer(-1.0, 1.0)\n",
        "\n",
        "        userid_embed = tf.feature_column.embedding_column(\n",
        "            categorical_column=userid,\n",
        "            dimension=EMBEDDING_DIM,  # this is your pre-trained embedding dimension\n",
        "            initializer=tf.keras.initializers.Constant(\n",
        "                embedding_initializer.T),\n",
        "            trainable=True)\n",
        "\n",
        "        movie_vocab = movie_latent.toPandas()\n",
        "        embedding_matrix_movie = np.zeros(\n",
        "            (np.max(movie_vocab.movieId.values)+1, EMBEDDING_DIM))\n",
        "        movieidvocab = np.arange(np.max(movie_vocab.movieId.values)+1).tolist()\n",
        "        movieid = tf.feature_column.categorical_column_with_vocabulary_list(\n",
        "            \"movieId\", movieidvocab)\n",
        "\n",
        "        for line in movie_vocab.values:\n",
        "            embedding_vector = np.asarray(line[1], dtype='float32')\n",
        "            embedding_matrix_movie[line[0]] = embedding_vector\n",
        "\n",
        "        embedding_initializer = None\n",
        "        has_pretrained_embedding = True\n",
        "\n",
        "        if has_pretrained_embedding:\n",
        "            embedding_initializer = embedding_matrix_movie\n",
        "        else:\n",
        "            embedding_initializer = tf.random_uniform_initializer(-1.0, 1.0)\n",
        "\n",
        "        movieid_embed = tf.feature_column.embedding_column(\n",
        "            categorical_column=movieid,\n",
        "            dimension=EMBEDDING_DIM,  # this is pre-trained embedding dimension\n",
        "            initializer=tf.keras.initializers.Constant(\n",
        "                embedding_initializer.T),\n",
        "            trainable=True)\n",
        "\n",
        "        deep_columns = [userid_embed, movieid_embed]\n",
        "\n",
        "        # define optimizer for linear and deep part\n",
        "        linear_optimizer = tf.keras.optimizers.Ftrl(\n",
        "            learning_rate=LINEAR_LEARNING_RATE, learning_rate_power=-0.5, initial_accumulator_value=0.1,\n",
        "            l1_regularization_strength=LINEAR_L1_STRENGTH, l2_regularization_strength=LINEAR_L2_STRENGTH, name='Ftrl',\n",
        "        )\n",
        "        # for deep optimizer, ProximalAdagradOptimizer not working in the regressor. Replaced with Adagrad\n",
        "        deep_optimizer = tf.keras.optimizers.Adagrad(\n",
        "            learning_rate=DEEP_LEARNING_RATE, initial_accumulator_value=0.1, epsilon=1e-07,\n",
        "            name='Adagrad'\n",
        "        )\n",
        "\n",
        "        # define estimator with wide and deep parts.\n",
        "        estimator = tf.estimator.DNNLinearCombinedRegressor(\n",
        "            # wide settings\n",
        "            linear_feature_columns=widecol,\n",
        "            linear_optimizer=linear_optimizer,\n",
        "            # deep settings\n",
        "            dnn_feature_columns=deep_columns,\n",
        "            dnn_hidden_units=[300, 100, 20],\n",
        "            dnn_optimizer=deep_optimizer\n",
        "        )\n",
        "\n",
        "        num_epoch = df_train.shape[0] // BATCH_SIZE + 1\n",
        "\n",
        "        estimator.train(input_fn=wide_and_deep_input.wrapping_input_fn(\n",
        "            df_train), steps=10 * num_epoch)\n",
        "\n",
        "        wnd_estimator = wide_and_deep_model(estimator, user_feature, movie_feature)\n",
        "        return wnd_estimator\n"
      ],
      "execution_count": null,
      "outputs": []
    },
    {
      "cell_type": "markdown",
      "metadata": {
        "id": "T2gYu9xJY1O2"
      },
      "source": [
        "### Cross Validation"
      ]
    },
    {
      "cell_type": "markdown",
      "metadata": {
        "id": "OV1QWK8Rcawr"
      },
      "source": [
        "Here we use the StratifiedKFold Cross-Validation to find out our best hyperparameter of Wide and Deep model with our current dataset with the ranking metric precision@50 as a priority.\n",
        " \n",
        "However, the memory could easily be run out if we perform each fold in a single python file. Instead, we save our pipeline into python files and use a shell script to iterate from each hyperparameter combination, and save our metric result into a CSV file.\n",
        " \n",
        "We tuned five hyperparameters here for Wide and Deep,  *DNN_STRUCTURE, LINEAR_LEARNING_RATE, DEEP_LEARNING_RATE, LINEAR_L1_STRENGTH, LINEAR_L2_STRENGTH*. And we use NDCG@50 and PrecisionTop50 to select the best hyperparameter.\n",
        " \n",
        "The best result for *DNN_STRUCTURE* is [300, 200, 100, 20]. It performed better compared to the fewer layer model. However, to guarantee efficiency we did not add more layers to our model. For other hyperparameters, the best combination is *LINEAR_LEARNING_RATE = 0.001, DEEP_LEARNING_RATE = 0.001, LINEAR_L1_STRENGTH=0, LINEAR_L2_STRENGTH=0*. We can see the line and bar plot below which compares different hyperparameters to each other.\n"
      ]
    },
    {
      "cell_type": "code",
      "metadata": {
        "id": "5LrXxVJSZdvg"
      },
      "source": [
        "# df_cv = pd.read_csv('cv.csv')"
      ],
      "execution_count": null,
      "outputs": []
    },
    {
      "cell_type": "code",
      "metadata": {
        "id": "Hs6dema9Y7IW"
      },
      "source": [
        "df_LINEAR_LEARNING_RATE = df_cv[(df_cv['dnn_structure_mode']=='[300, 100, 20]')&(df_cv['DEEP_LEARNING_RATE']==0.001)&(df_cv['LINEAR_L1_STRENGTH']==0)&(df_cv['LINEAR_L2_STRENGTH']==0)]"
      ],
      "execution_count": null,
      "outputs": []
    },
    {
      "cell_type": "code",
      "metadata": {
        "colab": {
          "base_uri": "https://localhost:8080/",
          "height": 286
        },
        "id": "k6SxaIgtZH07",
        "outputId": "41339a1a-c884-4586-f0c8-966a4a6b9a39"
      },
      "source": [
        "print(\"cross validation for LINEAR_LEARNING_RATE\")\n",
        "plt.plot(df_LINEAR_LEARNING_RATE['LINEAR_LEARNING_RATE'], df_LINEAR_LEARNING_RATE['ndcg_MF'])\n",
        "plt.show()"
      ],
      "execution_count": null,
      "outputs": [
        {
          "output_type": "stream",
          "text": [
            "cross validation for LINEAR_LEARNING_RATE\n"
          ],
          "name": "stdout"
        },
        {
          "output_type": "display_data",
          "data": {
            "image/png": "[encoded data removed]",
            "text/plain": [
              "<Figure size 432x288 with 1 Axes>"
            ]
          },
          "metadata": {
            "tags": [],
            "needs_background": "light"
          }
        }
      ]
    },
    {
      "cell_type": "code",
      "metadata": {
        "colab": {
          "base_uri": "https://localhost:8080/",
          "height": 282
        },
        "id": "NTmVbMGHZH3a",
        "outputId": "19eb1482-9f52-4201-e481-310ac6e6419e"
      },
      "source": [
        "print(\"cross validation for LINEAR_LEARNING_RATE\")\n",
        "plt.plot(df_LINEAR_LEARNING_RATE['LINEAR_LEARNING_RATE'], df_LINEAR_LEARNING_RATE['precisionTopK_MF'])\n",
        "plt.show()"
      ],
      "execution_count": null,
      "outputs": [
        {
          "output_type": "stream",
          "text": [
            "cross validation for LINEAR_LEARNING_RATE\n"
          ],
          "name": "stdout"
        },
        {
          "output_type": "display_data",
          "data": {
            "image/png": "[encoded data removed]",
            "text/plain": [
              "<Figure size 432x288 with 1 Axes>"
            ]
          },
          "metadata": {
            "tags": [],
            "needs_background": "light"
          }
        }
      ]
    },
    {
      "cell_type": "code",
      "metadata": {
        "id": "0g9Ecu8lZH5q"
      },
      "source": [
        "df_DEEP_LEARNING_RATE = df_cv[(df_cv['dnn_structure_mode']=='[300, 100, 20]')&(df_cv['LINEAR_LEARNING_RATE']==0.001)&(df_cv['LINEAR_L1_STRENGTH']==0)&(df_cv['LINEAR_L2_STRENGTH']==0)]"
      ],
      "execution_count": null,
      "outputs": []
    },
    {
      "cell_type": "code",
      "metadata": {
        "colab": {
          "base_uri": "https://localhost:8080/",
          "height": 282
        },
        "id": "HkmIhn6bZH7p",
        "outputId": "8acb6875-0df7-4e65-8020-6b0ce5b257c3"
      },
      "source": [
        "print(\"cross validation for DEEP_LEARNING_RATE\")\n",
        "plt.plot(df_DEEP_LEARNING_RATE['DEEP_LEARNING_RATE'], df_DEEP_LEARNING_RATE['ndcg_MF'])\n",
        "plt.show()"
      ],
      "execution_count": null,
      "outputs": [
        {
          "output_type": "stream",
          "text": [
            "cross validation for DEEP_LEARNING_RATE\n"
          ],
          "name": "stdout"
        },
        {
          "output_type": "display_data",
          "data": {
            "image/png": "[encoded data removed]",
            "text/plain": [
              "<Figure size 432x288 with 1 Axes>"
            ]
          },
          "metadata": {
            "tags": [],
            "needs_background": "light"
          }
        }
      ]
    },
    {
      "cell_type": "code",
      "metadata": {
        "colab": {
          "base_uri": "https://localhost:8080/",
          "height": 282
        },
        "id": "6ZuEW7B9ZH9-",
        "outputId": "3353b020-0357-42fc-d6d4-0b26831a9837"
      },
      "source": [
        "print(\"cross validation for DEEP_LEARNING_RATE\")\n",
        "plt.plot(df_DEEP_LEARNING_RATE['DEEP_LEARNING_RATE'], df_DEEP_LEARNING_RATE['precisionTopK_MF'])\n",
        "plt.show()"
      ],
      "execution_count": null,
      "outputs": [
        {
          "output_type": "stream",
          "text": [
            "cross validation for DEEP_LEARNING_RATE\n"
          ],
          "name": "stdout"
        },
        {
          "output_type": "display_data",
          "data": {
            "image/png": "[encoded data removed]",
            "text/plain": [
              "<Figure size 432x288 with 1 Axes>"
            ]
          },
          "metadata": {
            "tags": [],
            "needs_background": "light"
          }
        }
      ]
    },
    {
      "cell_type": "code",
      "metadata": {
        "id": "JUoUoMvuZH_2"
      },
      "source": [
        "df_LINEAR_L1_STRENGTH = df_cv[(df_cv['dnn_structure_mode']=='[300, 100, 20]')&(df_cv['LINEAR_LEARNING_RATE']==0.001)&(df_cv['DEEP_LEARNING_RATE']==0.001)&(df_cv['LINEAR_L2_STRENGTH']==0)]"
      ],
      "execution_count": null,
      "outputs": []
    },
    {
      "cell_type": "code",
      "metadata": {
        "colab": {
          "base_uri": "https://localhost:8080/",
          "height": 282
        },
        "id": "U2rvYw0qZIIm",
        "outputId": "3a71c28c-5d18-49b1-adef-5fe740d6d183"
      },
      "source": [
        "print(\"cross validation for LINEAR_L1_STRENGTH\")\n",
        "plt.plot(df_LINEAR_L1_STRENGTH['LINEAR_L1_STRENGTH'], df_LINEAR_L1_STRENGTH['ndcg_MF'])\n",
        "plt.show()"
      ],
      "execution_count": null,
      "outputs": [
        {
          "output_type": "stream",
          "text": [
            "cross validation for LINEAR_L1_STRENGTH\n"
          ],
          "name": "stdout"
        },
        {
          "output_type": "display_data",
          "data": {
            "image/png": "[encoded data removed]",
            "text/plain": [
              "<Figure size 432x288 with 1 Axes>"
            ]
          },
          "metadata": {
            "tags": [],
            "needs_background": "light"
          }
        }
      ]
    },
    {
      "cell_type": "code",
      "metadata": {
        "colab": {
          "base_uri": "https://localhost:8080/",
          "height": 286
        },
        "id": "rVpYFe90ZIK1",
        "outputId": "8b477fa3-de11-44d7-beab-087c10f206c4"
      },
      "source": [
        "print(\"cross validation for LINEAR_L1_STRENGTH\")\n",
        "plt.plot(df_LINEAR_L1_STRENGTH['LINEAR_L1_STRENGTH'], df_LINEAR_L1_STRENGTH['precisionTopK_MF'])\n",
        "plt.show()"
      ],
      "execution_count": null,
      "outputs": [
        {
          "output_type": "stream",
          "text": [
            "cross validation for LINEAR_L1_STRENGTH\n"
          ],
          "name": "stdout"
        },
        {
          "output_type": "display_data",
          "data": {
            "image/png": "[encoded data removed]",
            "text/plain": [
              "<Figure size 432x288 with 1 Axes>"
            ]
          },
          "metadata": {
            "tags": [],
            "needs_background": "light"
          }
        }
      ]
    },
    {
      "cell_type": "code",
      "metadata": {
        "id": "bTOS8gphZIMm"
      },
      "source": [
        "df_dnn_structure_mode = df_cv[(df_cv['LINEAR_LEARNING_RATE']==0.001)&(df_cv['DEEP_LEARNING_RATE']==0.001)&(df_cv['LINEAR_L1_STRENGTH']==0)&(df_cv['LINEAR_L2_STRENGTH']==0)]"
      ],
      "execution_count": null,
      "outputs": []
    },
    {
      "cell_type": "code",
      "metadata": {
        "colab": {
          "base_uri": "https://localhost:8080/",
          "height": 282
        },
        "id": "vqHogPVDZZYl",
        "outputId": "db1f93d8-a0c4-4e55-9bca-7691c6e5e155"
      },
      "source": [
        "print(\"cross validation for DNN STRUCTURES\")\n",
        "plt.bar(x=[0,1], height=df_dnn_structure_mode['ndcg_MF']-0.26,tick_label = df_dnn_structure_mode['dnn_structure_mode'], color = 'steelblue')  #指定条形图的填充色)\n",
        "plt.show()"
      ],
      "execution_count": null,
      "outputs": [
        {
          "output_type": "stream",
          "text": [
            "cross validation for DNN STRUCTURES\n"
          ],
          "name": "stdout"
        },
        {
          "output_type": "display_data",
          "data": {
            "image/png": "[encoded data removed]",
            "text/plain": [
              "<Figure size 432x288 with 1 Axes>"
            ]
          },
          "metadata": {
            "tags": [],
            "needs_background": "light"
          }
        }
      ]
    },
    {
      "cell_type": "code",
      "metadata": {
        "colab": {
          "base_uri": "https://localhost:8080/",
          "height": 282
        },
        "id": "J62wATwvZZay",
        "outputId": "4b2f9f87-bfc6-4ec7-a077-2dcf8a92eea9"
      },
      "source": [
        "print(\"cross validation for DNN STRUCTURES\")\n",
        "plt.bar(x=[0,1], height=df_dnn_structure_mode['precisionTopK_MF']-0.07,tick_label = df_dnn_structure_mode['dnn_structure_mode'], color = 'steelblue')  #指定条形图的填充色)\n",
        "plt.show()"
      ],
      "execution_count": null,
      "outputs": [
        {
          "output_type": "stream",
          "text": [
            "cross validation for DNN STRUCTURES\n"
          ],
          "name": "stdout"
        },
        {
          "output_type": "display_data",
          "data": {
            "image/png": "[encoded data removed]",
            "text/plain": [
              "<Figure size 432x288 with 1 Axes>"
            ]
          },
          "metadata": {
            "tags": [],
            "needs_background": "light"
          }
        }
      ]
    },
    {
      "cell_type": "markdown",
      "metadata": {
        "id": "5QkC4jsL0ZJH"
      },
      "source": [
        "# Whole pipeline of new hybrid system\n",
        "\n",
        "For easy use, we could sequentially call all the class and methods we provided above. The procedure is following: "
      ]
    },
    {
      "cell_type": "markdown",
      "metadata": {
        "id": "veEi_t2Q7s9L"
      },
      "source": [
        "## Train/Test split"
      ]
    },
    {
      "cell_type": "code",
      "metadata": {
        "id": "StVN-Ybx7ptK"
      },
      "source": [
        "train, test = build_train_test_split(larger_dataset)"
      ],
      "execution_count": null,
      "outputs": []
    },
    {
      "cell_type": "markdown",
      "metadata": {
        "id": "nNZoXOqCuKRe"
      },
      "source": [
        "## Feature Genelization"
      ]
    },
    {
      "cell_type": "code",
      "metadata": {
        "id": "9kjtWbBkuKRe"
      },
      "source": [
        "feature_df = createUserProfile(train).combine()"
      ],
      "execution_count": null,
      "outputs": []
    },
    {
      "cell_type": "markdown",
      "metadata": {
        "id": "x1JUjZH07-71"
      },
      "source": [
        "## Train lightfm model\n"
      ]
    },
    {
      "cell_type": "code",
      "metadata": {
        "id": "lK1YlhqB8FmV"
      },
      "source": [
        "# full_dataset = pd.concat([train, test])\n",
        "train_coo, test_coo = coo_matrix_transform(full_dataset, train, test, if_develop=False)\n",
        "dimension = 150\n",
        "lightfm_model = lightFM(train_coo, train, full_tags, full_genome_scores, full_dataset, dimension, only_popular=False, if_develop=False)\n",
        "lightfm_model.model_setup()"
      ],
      "execution_count": null,
      "outputs": []
    },
    {
      "cell_type": "markdown",
      "metadata": {
        "id": "APj0ASVh8LIx"
      },
      "source": [
        "## Create user and movie embedding"
      ]
    },
    {
      "cell_type": "code",
      "metadata": {
        "id": "wg0zxmK58LfJ"
      },
      "source": [
        "user_embedding = []\n",
        "for i in range(len(lightfm_model.origin)):\n",
        "    user_embedding.append([item.astype('double') for item in lightfm_model.user_embedding[i]])\n",
        "userembed_lightfm = pd.DataFrame(zip(pd.Series(lightfm_model.origin.index),pd.Series(user_embedding)),columns=[\"userId\",\"features\"])\n",
        "\n",
        "\n",
        "movie_embedding = []\n",
        "for i in range(lightfm_model.origin.shape[1]):\n",
        "    movie_embedding.append([item.astype('double') for item in lightfm_model.movie_embedding[i]])\n",
        "movieembed_lightfm = pd.DataFrame(zip(pd.Series(lightfm_model.origin.columns),pd.Series(movie_embedding)),columns=[\"movieId\",\"features\"])\n",
        "\n",
        "\n",
        "user_latent = spark.createDataFrame(\n",
        "    [(int(tup[0]), Vectors.dense([float(item) for item in tup[1]])) for tup in userembed_lightfm.values], \n",
        "    [\"userId\", \"features\"]\n",
        ")\n",
        "movie_latent = spark.createDataFrame(\n",
        "    [(int(tup[0]), Vectors.dense([float(item) for item in tup[1]])) for tup in movieembed_lightfm.values], \n",
        "    [\"movieId\", \"features\"]\n",
        ")\n"
      ],
      "execution_count": null,
      "outputs": []
    },
    {
      "cell_type": "markdown",
      "metadata": {
        "id": "cb3nwTxb8P5f"
      },
      "source": [
        "## Use ann to select items"
      ]
    },
    {
      "cell_type": "code",
      "metadata": {
        "id": "-0AC63mW8T3C"
      },
      "source": [
        "brp = BucketedRandomProjectionLSH(inputCol=\"features\", outputCol=\"hashes\", bucketLength=2.0,\n",
        "                                  numHashTables=5)\n",
        "ann_model = brp.fit(user_latent)\n",
        "recommend_pd_df = ann_model.approxSimilarityJoin(user_latent, movie_latent, 5, distCol=\"distCol\")\\\n",
        "    .select(col(\"datasetA.userId\").alias(\"userId\"),\n",
        "            col(\"datasetB.movieId\").alias(\"movieId\")).toPandas()"
      ],
      "execution_count": null,
      "outputs": []
    },
    {
      "cell_type": "markdown",
      "metadata": {
        "id": "XcfE-Aud7z-z"
      },
      "source": [
        "\n",
        "## Create features for Wide and Deep"
      ]
    },
    {
      "cell_type": "code",
      "metadata": {
        "id": "zVVw-nHP8ig4"
      },
      "source": [
        "a = createProfile(train, full_tags, full_genome_scores)\n",
        "movie_feature = a.movie_feature\n",
        "user_feature = a.user_feature\n",
        "user_feature_new = pd.merge(user_feature, feature_df, how='inner', left_index=True, right_index=True)\n",
        "LABEL_COLUMN = 'rating'\n",
        "CATEGORICAL_COLUMNS = ['userId','movieId','rating_genre_most',\"recent_title\",'movie_age_most','most_rating_tag','recent_rating_tag']\n",
        "CONTINUOUS_COLUMNS = [ 'tag_per_user','rating_count', 'rating_mean', 'rating_std', 'rating_min',\n",
        "       'rating_max', 'participate_age',\n",
        "       'participate_last','participate_last',\n",
        "       'movie_year_mean', 'movie_year_std', 'movie_year_min', 'movie_year_max','1970s',\n",
        "       '1980s', '1990s', '2000s', '2020s', 'ls1970','genre_Action', 'genre_Adventure', 'genre_Animation', 'genre_Children',\n",
        "       'genre_Comedy', 'genre_Crime', 'genre_Documentary', 'genre_Drama',\n",
        "       'genre_Fantasy', 'genre_Horror', 'genre_Thriller' ]\n",
        "\n",
        "# Read the training and test data sets into Pandas dataframe.\n",
        "user_feature_new[CONTINUOUS_COLUMNS] = user_feature_new[CONTINUOUS_COLUMNS].fillna(0)\n",
        "user_feature_new[['rating_genre_most',\"recent_title\",'movie_age_most','most_rating_tag','recent_rating_tag']]= user_feature_new[['rating_genre_most',\"recent_title\",'movie_age_most','most_rating_tag','recent_rating_tag']].fillna('No Information')\n",
        "\n",
        "# preparing for the tensors\n",
        "recent_title_voclist = user_feature_new.recent_title.unique().tolist()\n",
        "recent_rating_tag_voclist = user_feature_new.recent_rating_tag.unique().tolist()\n",
        "most_rating_tag_voclist = user_feature_new.most_rating_tag.unique().tolist()\n",
        "movie_age_most_voclist = user_feature_new.movie_age_most.unique().tolist()\n",
        "# use feature_voclist to define categorical feature range\n",
        "feature_voclist = dict()\n",
        "feature_voclist['recent_title'] = recent_title_voclist\n",
        "feature_voclist['recent_rating_tag'] = recent_rating_tag_voclist\n",
        "feature_voclist['most_rating_tag'] = most_rating_tag_voclist\n",
        "feature_voclist['movie_age_most'] = movie_age_most_voclist\n",
        "\n",
        "movie_feature_new = movie_feature\n",
        "user_feature_new.reset_index(inplace=True)\n",
        "user_feature_new.userId = user_feature_new.userId.astype(int)\n",
        "movie_feature_new.reset_index(inplace=True)\n",
        "movie_feature_new.rename(columns={\n",
        "                         'rating_mean': 'rating_mean_movie', 'rating_std': 'rating_std_movie'}, inplace=True)\n",
        "\n",
        "# remove the cat features ['rated_last', 'rated_first', 'rating_duration']\n",
        "movie_feature_new = movie_feature_new[['movieId', 'tag_per_movie', 'genre_per_movie', 'tagId',\n",
        "       'rating_per_movie', 'highest_rating', 'lowest_rating',\n",
        "       'rating_mean_movie', 'rating_std_movie']].fillna(0)\n",
        "movie_feature_new.movieId = movie_feature_new.movieId.astype(int)"
      ],
      "execution_count": null,
      "outputs": []
    },
    {
      "cell_type": "markdown",
      "metadata": {
        "id": "betvqZDQ84mI"
      },
      "source": [
        "## Trainning Wide & Deep"
      ]
    },
    {
      "cell_type": "code",
      "metadata": {
        "id": "aTpf0Kk90p3Z",
        "scrolled": true,
        "outputId": "cdabc8dd-297f-4596-f8a4-9fa17430f0fb"
      },
      "source": [
        "wnd_model = wide_and_deep(user_latent=user_latent,\n",
        "                          movie_latent=movie_latent,\n",
        "                          feature_voclist=feature_voclist,\n",
        "                          user_feature=user_feature_new,\n",
        "                          movie_feature=movie_feature_new,\n",
        "                          recommendation_df=recommend_pd_df)\n",
        "\n",
        "# train model with train data\n",
        "wnd_model.train(train)\n",
        "\n",
        "# evaluate model\n",
        "wnd_estimator.evaluate(test)"
      ],
      "execution_count": null,
      "outputs": [
        {
          "output_type": "stream",
          "text": [
            "INFO:tensorflow:Using default config.\n",
            "WARNING:tensorflow:Using temporary folder as model directory: /var/folders/b6/yskn7_x90g94dyfzmm_5tzt00000gn/T/tmpgxtiecpi\n",
            "INFO:tensorflow:Using config: {'_model_dir': '/var/folders/b6/yskn7_x90g94dyfzmm_5tzt00000gn/T/tmpgxtiecpi', '_tf_random_seed': None, '_save_summary_steps': 100, '_save_checkpoints_steps': None, '_save_checkpoints_secs': 600, '_session_config': allow_soft_placement: true\n",
            "graph_options {\n",
            "  rewrite_options {\n",
            "    meta_optimizer_iterations: ONE\n",
            "  }\n",
            "}\n",
            ", '_keep_checkpoint_max': 5, '_keep_checkpoint_every_n_hours': 10000, '_log_step_count_steps': 100, '_train_distribute': None, '_device_fn': None, '_protocol': None, '_eval_distribute': None, '_experimental_distribute': None, '_experimental_max_worker_delay_secs': None, '_session_creation_timeout_secs': 7200, '_service': None, '_cluster_spec': <tensorflow.python.training.server_lib.ClusterSpec object at 0x7fceee5ea590>, '_task_type': 'worker', '_task_id': 0, '_global_id_in_cluster': 0, '_master': '', '_evaluation_master': '', '_is_chief': True, '_num_ps_replicas': 0, '_num_worker_replicas': 1}\n",
            "WARNING:tensorflow:From /Users/yaochen/opt/anaconda3/envs/rs_movie_py37/lib/python3.7/site-packages/tensorflow_core/python/ops/resource_variable_ops.py:1630: calling BaseResourceVariable.__init__ (from tensorflow.python.ops.resource_variable_ops) with constraint is deprecated and will be removed in a future version.\n",
            "Instructions for updating:\n",
            "If using Keras pass *_constraint arguments to layers.\n",
            "WARNING:tensorflow:From /Users/yaochen/opt/anaconda3/envs/rs_movie_py37/lib/python3.7/site-packages/tensorflow_core/python/training/training_util.py:236: Variable.initialized_value (from tensorflow.python.ops.variables) is deprecated and will be removed in a future version.\n",
            "Instructions for updating:\n",
            "Use Variable.read_value. Variables in 2.X are initialized automatically both in eager and graph (inside tf.defun) contexts.\n",
            "INFO:tensorflow:Calling model_fn.\n",
            "WARNING:tensorflow:Layer dnn is casting an input tensor from dtype float64 to the layer's dtype of float32, which is new behavior in TensorFlow 2.  The layer has dtype float32 because it's dtype defaults to floatx.\n",
            "\n",
            "If you intended to run this layer in float32, you can safely ignore this warning. If in doubt, this warning is likely only an issue if you are porting a TensorFlow 1.X model to TensorFlow 2.\n",
            "\n",
            "To change all layers to have dtype float64 by default, call `tf.keras.backend.set_floatx('float64')`. To change just this layer, pass dtype='float64' to the layer constructor. If you are the author of this layer, you can disable autocasting by passing autocast=False to the base Layer constructor.\n",
            "\n",
            "WARNING:tensorflow:Layer linear/linear_model is casting an input tensor from dtype float64 to the layer's dtype of float32, which is new behavior in TensorFlow 2.  The layer has dtype float32 because it's dtype defaults to floatx.\n",
            "\n",
            "If you intended to run this layer in float32, you can safely ignore this warning. If in doubt, this warning is likely only an issue if you are porting a TensorFlow 1.X model to TensorFlow 2.\n",
            "\n",
            "To change all layers to have dtype float64 by default, call `tf.keras.backend.set_floatx('float64')`. To change just this layer, pass dtype='float64' to the layer constructor. If you are the author of this layer, you can disable autocasting by passing autocast=False to the base Layer constructor.\n",
            "\n",
            "WARNING:tensorflow:From /Users/yaochen/opt/anaconda3/envs/rs_movie_py37/lib/python3.7/site-packages/tensorflow_core/python/feature_column/feature_column_v2.py:518: Layer.add_variable (from tensorflow.python.keras.engine.base_layer) is deprecated and will be removed in a future version.\n",
            "Instructions for updating:\n",
            "Please use `layer.add_weight` method instead.\n",
            "WARNING:tensorflow:From /Users/yaochen/opt/anaconda3/envs/rs_movie_py37/lib/python3.7/site-packages/tensorflow_estimator/python/estimator/canned/linear.py:308: to_float (from tensorflow.python.ops.math_ops) is deprecated and will be removed in a future version.\n",
            "Instructions for updating:\n",
            "Use `tf.cast` instead.\n",
            "WARNING:tensorflow:From /Users/yaochen/opt/anaconda3/envs/rs_movie_py37/lib/python3.7/site-packages/tensorflow_core/python/keras/optimizer_v2/adagrad.py:108: calling Constant.__init__ (from tensorflow.python.ops.init_ops) with dtype is deprecated and will be removed in a future version.\n",
            "Instructions for updating:\n",
            "Call initializer instance with the dtype argument instead of passing it to the constructor\n",
            "INFO:tensorflow:Done calling model_fn.\n",
            "INFO:tensorflow:Create CheckpointSaverHook.\n",
            "INFO:tensorflow:Graph was finalized.\n",
            "INFO:tensorflow:Running local_init_op.\n",
            "INFO:tensorflow:Done running local_init_op.\n",
            "INFO:tensorflow:Saving checkpoints for 0 into /var/folders/b6/yskn7_x90g94dyfzmm_5tzt00000gn/T/tmpgxtiecpi/model.ckpt.\n",
            "INFO:tensorflow:loss = 12.633379, step = 0\n",
            "INFO:tensorflow:global_step/sec: 3.8626\n",
            "INFO:tensorflow:loss = 0.94379157, step = 100 (25.888 sec)\n",
            "INFO:tensorflow:global_step/sec: 4.99611\n",
            "INFO:tensorflow:loss = 0.9333076, step = 200 (20.004 sec)\n",
            "INFO:tensorflow:global_step/sec: 4.98829\n",
            "INFO:tensorflow:loss = 1.0167207, step = 300 (20.046 sec)\n",
            "INFO:tensorflow:global_step/sec: 4.99817\n",
            "INFO:tensorflow:loss = 1.0361325, step = 400 (20.007 sec)\n",
            "INFO:tensorflow:global_step/sec: 4.98201\n",
            "INFO:tensorflow:loss = 0.9669624, step = 500 (20.074 sec)\n",
            "INFO:tensorflow:global_step/sec: 5.00459\n",
            "INFO:tensorflow:loss = 1.086981, step = 600 (19.980 sec)\n",
            "INFO:tensorflow:global_step/sec: 5.13192\n",
            "INFO:tensorflow:loss = 1.2613034, step = 700 (19.486 sec)\n",
            "INFO:tensorflow:global_step/sec: 5.09865\n",
            "INFO:tensorflow:loss = 1.0626605, step = 800 (19.613 sec)\n",
            "INFO:tensorflow:global_step/sec: 5.02642\n",
            "INFO:tensorflow:loss = 0.7994155, step = 900 (19.897 sec)\n",
            "INFO:tensorflow:global_step/sec: 5.00242\n",
            "INFO:tensorflow:loss = 0.8229435, step = 1000 (19.988 sec)\n",
            "INFO:tensorflow:global_step/sec: 5.06904\n",
            "INFO:tensorflow:loss = 0.9356799, step = 1100 (19.728 sec)\n",
            "INFO:tensorflow:global_step/sec: 5.09114\n",
            "INFO:tensorflow:loss = 0.94177806, step = 1200 (19.642 sec)\n",
            "INFO:tensorflow:global_step/sec: 5.10975\n",
            "INFO:tensorflow:loss = 0.79407495, step = 1300 (19.570 sec)\n",
            "INFO:tensorflow:global_step/sec: 5.12488\n",
            "INFO:tensorflow:loss = 0.7785723, step = 1400 (19.513 sec)\n",
            "INFO:tensorflow:global_step/sec: 5.1067\n",
            "INFO:tensorflow:loss = 1.5456811, step = 1500 (19.582 sec)\n",
            "INFO:tensorflow:global_step/sec: 4.96567\n",
            "INFO:tensorflow:loss = 0.8711033, step = 1600 (20.141 sec)\n",
            "INFO:tensorflow:global_step/sec: 5.02825\n",
            "INFO:tensorflow:loss = 0.94542956, step = 1700 (19.885 sec)\n",
            "INFO:tensorflow:global_step/sec: 5.06391\n",
            "INFO:tensorflow:loss = 1.0823395, step = 1800 (19.748 sec)\n",
            "INFO:tensorflow:global_step/sec: 5.04625\n",
            "INFO:tensorflow:loss = 1.0686809, step = 1900 (19.817 sec)\n",
            "INFO:tensorflow:global_step/sec: 4.98762\n",
            "INFO:tensorflow:loss = 0.94536173, step = 2000 (20.050 sec)\n",
            "INFO:tensorflow:global_step/sec: 5.06247\n",
            "INFO:tensorflow:loss = 1.0898193, step = 2100 (19.753 sec)\n",
            "INFO:tensorflow:global_step/sec: 4.9851\n",
            "INFO:tensorflow:loss = 1.450237, step = 2200 (20.060 sec)\n",
            "INFO:tensorflow:global_step/sec: 4.95677\n",
            "INFO:tensorflow:loss = 0.9885147, step = 2300 (20.174 sec)\n",
            "INFO:tensorflow:global_step/sec: 4.95307\n",
            "INFO:tensorflow:loss = 0.74716556, step = 2400 (20.189 sec)\n",
            "INFO:tensorflow:global_step/sec: 4.92387\n",
            "INFO:tensorflow:loss = 1.0959576, step = 2500 (20.309 sec)\n",
            "INFO:tensorflow:global_step/sec: 4.94395\n",
            "INFO:tensorflow:loss = 0.95104957, step = 2600 (20.227 sec)\n",
            "INFO:tensorflow:Saving checkpoints for 2658 into /var/folders/b6/yskn7_x90g94dyfzmm_5tzt00000gn/T/tmpgxtiecpi/model.ckpt.\n",
            "INFO:tensorflow:global_step/sec: 3.0354\n",
            "INFO:tensorflow:loss = 1.0000001, step = 2700 (32.947 sec)\n",
            "INFO:tensorflow:global_step/sec: 4.78401\n",
            "INFO:tensorflow:loss = 0.6989978, step = 2800 (20.901 sec)\n",
            "INFO:tensorflow:global_step/sec: 4.76699\n",
            "INFO:tensorflow:loss = 0.8361775, step = 2900 (20.978 sec)\n",
            "INFO:tensorflow:global_step/sec: 4.83806\n",
            "INFO:tensorflow:loss = 1.0232433, step = 3000 (20.669 sec)\n",
            "INFO:tensorflow:global_step/sec: 4.91172\n",
            "INFO:tensorflow:loss = 0.9343594, step = 3100 (20.359 sec)\n",
            "INFO:tensorflow:global_step/sec: 4.89466\n",
            "INFO:tensorflow:loss = 0.89963686, step = 3200 (20.431 sec)\n",
            "INFO:tensorflow:global_step/sec: 4.92221\n"
          ],
          "name": "stdout"
        },
        {
          "output_type": "stream",
          "text": [
            "INFO:tensorflow:loss = 0.9390221, step = 3300 (20.316 sec)\n",
            "INFO:tensorflow:global_step/sec: 4.81117\n",
            "INFO:tensorflow:loss = 0.89473325, step = 3400 (20.787 sec)\n",
            "INFO:tensorflow:global_step/sec: 4.6931\n",
            "INFO:tensorflow:loss = 0.9617078, step = 3500 (21.309 sec)\n",
            "INFO:tensorflow:global_step/sec: 4.78554\n",
            "INFO:tensorflow:loss = 1.248924, step = 3600 (20.894 sec)\n",
            "INFO:tensorflow:global_step/sec: 4.8093\n",
            "INFO:tensorflow:loss = 0.99524754, step = 3700 (20.793 sec)\n",
            "INFO:tensorflow:Saving checkpoints for 3750 into /var/folders/b6/yskn7_x90g94dyfzmm_5tzt00000gn/T/tmpgxtiecpi/model.ckpt.\n",
            "INFO:tensorflow:Loss for final step: 0.96690035.\n",
            "INFO:tensorflow:Calling model_fn.\n",
            "WARNING:tensorflow:Layer dnn is casting an input tensor from dtype float64 to the layer's dtype of float32, which is new behavior in TensorFlow 2.  The layer has dtype float32 because it's dtype defaults to floatx.\n",
            "\n",
            "If you intended to run this layer in float32, you can safely ignore this warning. If in doubt, this warning is likely only an issue if you are porting a TensorFlow 1.X model to TensorFlow 2.\n",
            "\n",
            "To change all layers to have dtype float64 by default, call `tf.keras.backend.set_floatx('float64')`. To change just this layer, pass dtype='float64' to the layer constructor. If you are the author of this layer, you can disable autocasting by passing autocast=False to the base Layer constructor.\n",
            "\n",
            "WARNING:tensorflow:Layer linear/linear_model is casting an input tensor from dtype float64 to the layer's dtype of float32, which is new behavior in TensorFlow 2.  The layer has dtype float32 because it's dtype defaults to floatx.\n",
            "\n",
            "If you intended to run this layer in float32, you can safely ignore this warning. If in doubt, this warning is likely only an issue if you are porting a TensorFlow 1.X model to TensorFlow 2.\n",
            "\n",
            "To change all layers to have dtype float64 by default, call `tf.keras.backend.set_floatx('float64')`. To change just this layer, pass dtype='float64' to the layer constructor. If you are the author of this layer, you can disable autocasting by passing autocast=False to the base Layer constructor.\n",
            "\n",
            "INFO:tensorflow:Done calling model_fn.\n",
            "INFO:tensorflow:Starting evaluation at 2020-12-16T23:36:23Z\n",
            "INFO:tensorflow:Graph was finalized.\n",
            "INFO:tensorflow:Restoring parameters from /var/folders/b6/yskn7_x90g94dyfzmm_5tzt00000gn/T/tmpgxtiecpi/model.ckpt-3750\n",
            "INFO:tensorflow:Running local_init_op.\n",
            "INFO:tensorflow:Done running local_init_op.\n",
            "INFO:tensorflow:Evaluation [1/10]\n",
            "INFO:tensorflow:Evaluation [2/10]\n",
            "INFO:tensorflow:Evaluation [3/10]\n",
            "INFO:tensorflow:Evaluation [4/10]\n",
            "INFO:tensorflow:Evaluation [5/10]\n",
            "INFO:tensorflow:Evaluation [6/10]\n",
            "INFO:tensorflow:Evaluation [7/10]\n",
            "INFO:tensorflow:Evaluation [8/10]\n",
            "INFO:tensorflow:Evaluation [9/10]\n",
            "INFO:tensorflow:Evaluation [10/10]\n",
            "INFO:tensorflow:Finished evaluation at 2020-12-16-23:36:42\n",
            "INFO:tensorflow:Saving dict for global step 3750: average_loss = 1.1646812, global_step = 3750, label/mean = 3.51915, loss = 1.1646812, prediction/mean = 3.0452693\n",
            "INFO:tensorflow:Saving 'checkpoint_path' summary for global step 3750: /var/folders/b6/yskn7_x90g94dyfzmm_5tzt00000gn/T/tmpgxtiecpi/model.ckpt-3750\n",
            "average_loss: 1.1646812\n",
            "global_step: 3750\n",
            "label/mean: 3.51915\n",
            "loss: 1.1646812\n",
            "prediction/mean: 3.0452693\n"
          ],
          "name": "stdout"
        }
      ]
    },
    {
      "cell_type": "markdown",
      "metadata": {
        "id": "pQFmwJ_JPr34"
      },
      "source": [
        "## Predict Test Data (batch user recommendation) with Wide and Deep Model"
      ]
    },
    {
      "cell_type": "code",
      "metadata": {
        "id": "Wm5VhT22PdKj"
      },
      "source": [
        "rc_reorder, actual_df_hybrid, rec_list_hybrid = wnd_estimator.predict(recommend_pd_df, test)"
      ],
      "execution_count": null,
      "outputs": []
    },
    {
      "cell_type": "markdown",
      "metadata": {
        "id": "yJHZqmut89fi"
      },
      "source": [
        "## Evaluation of hybrid Model"
      ]
    },
    {
      "cell_type": "code",
      "metadata": {
        "id": "NCBixMxG0rh7",
        "outputId": "af6f9239-8d2c-40df-8ceb-84eb5dd84326"
      },
      "source": [
        "rankingEvaluator = RankingEvaluator(k=50)\n",
        "ratings_train = create_dataframe(train)\n",
        "ratings_test = create_dataframe(test)\n",
        "ndcg_hybrid, precisionTopK_hybrid = rankingEvaluator._evaluate(\n",
        "    ratings_test, rc_reorder, ratings_train)\n",
        "\n",
        "print(\"NDCG is {} and precision is {}\".format(ndcg_hybrid, precisionTopK_hybrid))"
      ],
      "execution_count": null,
      "outputs": [
        {
          "output_type": "stream",
          "text": [
            "NDCG is 0.24549026978431873 and precision is 0.06270039187744925\n"
          ],
          "name": "stdout"
        }
      ]
    },
    {
      "cell_type": "code",
      "metadata": {
        "id": "HhitqjA5aW0_"
      },
      "source": [
        "# generating rec list for userId 408\n",
        "userId = 408\n",
        "use_case_embedding = user_latent.where(\n",
        "    user_latent.userId == userId).select('features').collect()\n",
        "candidates = model.approxNearestNeighbors(\n",
        "    movie_latent, use_case_embedding[0][0], 100).select('movieId').collect()\n",
        "candidates = [item[0] for item in candidates]\n",
        "recommend_pd_df = pd.DataFrame([pd.Series(\n",
        "    [userId]*100), pd.Series(candidates)]).T.rename(columns={0: 'userId', 1: 'movieId'})\n",
        "rc_reorder, _, _ = wnd_estimator.predict(recommend_pd_df, test)\n",
        "print(rc_reorder.collect())"
      ],
      "execution_count": null,
      "outputs": []
    },
    {
      "cell_type": "markdown",
      "metadata": {
        "id": "HBbFyNmIal4j"
      },
      "source": [
        "# Model Comparision\n",
        "\n",
        "Plot the metrics comparasion for baseline models and new system . "
      ]
    },
    {
      "cell_type": "code",
      "metadata": {
        "id": "4xLbx1XE-U87"
      },
      "source": [
        "def prepare_metrices_para(dataset):\n",
        "    catalog = dataset.movieId.unique().tolist()\n",
        "    nov = dataset.movieId.value_counts()\n",
        "    pop = dict(nov)\n",
        "    users_number=dataset.userId.nunique()\n",
        "    return catalog,pop,users_number\n",
        "    \n",
        "catalog, pop, users_number = prepare_metrices_para(larger_dataset)"
      ],
      "execution_count": null,
      "outputs": []
    },
    {
      "cell_type": "code",
      "metadata": {
        "id": "PLGtjLbgf4rQ"
      },
      "source": [
        "model_names = [ 'Collaborative Filter - item-based CF','Collaborative Filter - model-based CF','Hybrid sequence recommendation system']\n"
      ],
      "execution_count": null,
      "outputs": []
    },
    {
      "cell_type": "code",
      "metadata": {
        "id": "bxuLDRZL672P"
      },
      "source": [
        "metric_present_itemCF = metricPresent(itemcf_model.predicted,\n",
        "                                      pop, users_number, 50, catalog,\n",
        "                                      movieembed_lightfm.set_index(['movieId']),\n",
        "                                      itemcf_model.pos_item)"
      ],
      "execution_count": null,
      "outputs": []
    },
    {
      "cell_type": "code",
      "metadata": {
        "id": "h2cUc7fJ99Pd"
      },
      "source": [
        "metric_present_MF = metricPresent(rec_list_MF,\n",
        "                                  pop, users_number, 50, catalog,\n",
        "                                  movieembed_lightfm.set_index(['movieId']),\n",
        "                                  actual_list_MF)"
      ],
      "execution_count": null,
      "outputs": []
    },
    {
      "cell_type": "code",
      "metadata": {
        "id": "aVE6abxsJZ0u"
      },
      "source": [
        "metric_present_hybrid = metricPresent(rec_list_hybrid,\n",
        "                                      pop, users_number, 50, catalog,\n",
        "                                      movieembed_lightfm.set_index(['movieId']),\n",
        "                                      actual_list_hybrid)"
      ],
      "execution_count": null,
      "outputs": []
    },
    {
      "cell_type": "code",
      "metadata": {
        "id": "pQttl6A9-vGb"
      },
      "source": [
        "NDCG_scores = [ndcg_itemcf, ndcg_MF, ndcg_hybrid]\n",
        "precisionTopk_scores = [precisionTopK_itemcf,\n",
        "                        precisionTopK_MF, precisionTopK_hybrid]\n",
        "novelty_scores = [metric_present_itemCF.novelty[0],\n",
        "                  metric_present_MF.novelty[0], metric_present_hybrid.novelty[0]]\n",
        "personalization_scores = [metric_present_itemCF.personalization,\n",
        "                          metric_present_MF.personalization, metric_present_hybrid.personalization]\n",
        "diversity = [1-metric_present_itemCF.intra_list_similarity, 1 -\n",
        "             metric_present_MF.intra_list_similarity, 1-metric_present_hybrid.intra_list_similarity]\n",
        "user_coverage_scores = [metric_present_itemCF.user_coverage,\n",
        "                        metric_present_MF.user_coverage, metric_present_hybrid.user_coverage]\n",
        "coverage_scores = [metric_present_itemCF.prediction_coverage,\n",
        "                   metric_present_MF.prediction_coverage, metric_present_hybrid.prediction_coverage]"
      ],
      "execution_count": null,
      "outputs": []
    },
    {
      "cell_type": "code",
      "metadata": {
        "id": "lzvTOMYp-DoX"
      },
      "source": [
        "metric_plot = metricPlot(model_names, NDCG_scores, precisionTopk_scores,\n",
        "                         coverage_scores, user_coverage_scores, personalization_scores,\n",
        "                         novelty_scores, diversity)"
      ],
      "execution_count": null,
      "outputs": []
    },
    {
      "cell_type": "markdown",
      "metadata": {
        "id": "OYkzUENWCh0J"
      },
      "source": [
        "With the best parameters, the metics we got here are:\n",
        "\n",
        " * NDCG and Precision @ K\n",
        "\n",
        "  Based on the hybrid model, NDCG and precision which are our key metrics performs dramatically better than baseline models. So the sequence model with powerful reorder model could significantly improve user experience.\n",
        " * Novelty. \n",
        "  \n",
        "  New system will achieve extremly higher performance in exploring novelty for our valuable members. Which is one of our main goals in setting up this project.By combining content information for movie and user, their profiles help us to better match.\n",
        "\n",
        "* Personalization.\n",
        "  Three models all could do personalized recommendations. And MF and new system could achieve 100% personalization scores. \n",
        "\n",
        "\n",
        " * Diversity.  \n",
        "\n",
        "  Our model and MF will achieve similar and higher diversity based on embedding space defined by lightFM. \n",
        " * User coverage. \n",
        "  \n",
        "  Compared with MF, we might not achieve thats higher user coverage. The potential reason could be from we have trade-off between efficiency and user coverage. We utilized ANN so we only have candidates movie set which is significantly smaller than whole movie dataset. \n",
        "  But it sitll is higher than item-CF model.\n",
        "\n",
        "Overall speeking, by seeing the radar chart in the end, we could see the new sequential hybrid model could beat baseline models in several aspects. \n"
      ]
    },
    {
      "cell_type": "code",
      "metadata": {
        "colab": {
          "base_uri": "https://localhost:8080/",
          "height": 1000
        },
        "id": "PjtEugBBgHMF",
        "outputId": "a861626f-2343-4aaa-f40e-5f901ff9e7c1"
      },
      "source": [
        "metric_plot.NDCG_plot\n",
        "metric_plot.precisionTopk_plot\n",
        "metric_plot.novelty_plot\n",
        "metric_plot.personalization_plot\n",
        "metric_plot.user_coverage_plot\n",
        "metric_plot.intra_list_similarity_plot\n",
        "metric_plot.metrics_plot"
      ],
      "execution_count": null,
      "outputs": [
        {
          "output_type": "display_data",
          "data": {
            "image/png": "[encoded data removed]",
            "text/plain": [
              "<Figure size 864x432 with 1 Axes>"
            ]
          },
          "metadata": {
            "tags": [],
            "needs_background": "light"
          }
        },
        {
          "output_type": "display_data",
          "data": {
            "image/png": "[encoded data removed]",
            "text/plain": [
              "<Figure size 864x432 with 1 Axes>"
            ]
          },
          "metadata": {
            "tags": [],
            "needs_background": "light"
          }
        },
        {
          "output_type": "display_data",
          "data": {
            "image/png": "[encoded data removed]",
            "text/plain": [
              "<Figure size 864x432 with 1 Axes>"
            ]
          },
          "metadata": {
            "tags": [],
            "needs_background": "light"
          }
        },
        {
          "output_type": "display_data",
          "data": {
            "image/png": "[encoded data removed]",
            "text/plain": [
              "<Figure size 864x432 with 1 Axes>"
            ]
          },
          "metadata": {
            "tags": [],
            "needs_background": "light"
          }
        },
        {
          "output_type": "display_data",
          "data": {
            "image/png": "[encoded data removed]",
            "text/plain": [
              "<Figure size 864x432 with 1 Axes>"
            ]
          },
          "metadata": {
            "tags": [],
            "needs_background": "light"
          }
        },
        {
          "output_type": "display_data",
          "data": {
            "image/png": "[encoded data removed]",
            "text/plain": [
              "<Figure size 864x432 with 1 Axes>"
            ]
          },
          "metadata": {
            "tags": [],
            "needs_background": "light"
          }
        },
        {
          "output_type": "display_data",
          "data": {
            "text/html": [
              "<html>\n",
              "<head><meta charset=\"utf-8\" /></head>\n",
              "<body>\n",
              "    <div>\n",
              "            <script src=\"https://cdnjs.cloudflare.com/ajax/libs/mathjax/2.7.5/MathJax.js?config=TeX-AMS-MML_SVG\"></script><script type=\"text/javascript\">if (window.MathJax) {MathJax.Hub.Config({SVG: {font: \"STIX-Web\"}});}</script>\n",
              "                <script type=\"text/javascript\">window.PlotlyConfig = {MathJaxConfig: 'local'};</script>\n",
              "        <script src=\"https://cdn.plot.ly/plotly-latest.min.js\"></script>    \n",
              "            <div id=\"f2f7894b-cb85-43cb-a00c-d2f1664ab158\" class=\"plotly-graph-div\" style=\"height:525px; width:100%;\"></div>\n",
              "            <script type=\"text/javascript\">\n",
              "                \n",
              "                    window.PLOTLYENV=window.PLOTLYENV || {};\n",
              "                    \n",
              "                if (document.getElementById(\"f2f7894b-cb85-43cb-a00c-d2f1664ab158\")) {\n",
              "                    Plotly.newPlot(\n",
              "                        'f2f7894b-cb85-43cb-a00c-d2f1664ab158',\n",
              "                        [{\"fill\": \"tonext\", \"name\": \"Collaborative Filter - item-based CF\", \"r\": [71.55, 90.63640016557156, 61.846204908526644], \"theta\": [\"coverage\", \"personalization\", \"diversity\"], \"type\": \"scatterpolar\"}, {\"fill\": \"tonext\", \"name\": \"Collaborative Filter - model-based CF\", \"r\": [89.03, 100.0, 70.71918746549335], \"theta\": [\"coverage\", \"personalization\", \"diversity\"], \"type\": \"scatterpolar\"}, {\"fill\": \"tonext\", \"name\": \"Hybrid sequence recommendation system\", \"r\": [84.55, 100.0, 72.27598669736483], \"theta\": [\"coverage\", \"personalization\", \"diversity\"], \"type\": \"scatterpolar\"}],\n",
              "                        {\"polar\": {\"radialaxis\": {\"range\": [0, 100], \"visible\": true}}, \"showlegend\": true, \"template\": {\"data\": {\"bar\": [{\"error_x\": {\"color\": \"#2a3f5f\"}, \"error_y\": {\"color\": \"#2a3f5f\"}, \"marker\": {\"line\": {\"color\": \"#E5ECF6\", \"width\": 0.5}}, \"type\": \"bar\"}], \"barpolar\": [{\"marker\": {\"line\": {\"color\": \"#E5ECF6\", \"width\": 0.5}}, \"type\": \"barpolar\"}], \"carpet\": [{\"aaxis\": {\"endlinecolor\": \"#2a3f5f\", \"gridcolor\": \"white\", \"linecolor\": \"white\", \"minorgridcolor\": \"white\", \"startlinecolor\": \"#2a3f5f\"}, \"baxis\": {\"endlinecolor\": \"#2a3f5f\", \"gridcolor\": \"white\", \"linecolor\": \"white\", \"minorgridcolor\": \"white\", \"startlinecolor\": \"#2a3f5f\"}, \"type\": \"carpet\"}], \"choropleth\": [{\"colorbar\": {\"outlinewidth\": 0, \"ticks\": \"\"}, \"type\": \"choropleth\"}], \"contour\": [{\"colorbar\": {\"outlinewidth\": 0, \"ticks\": \"\"}, \"colorscale\": [[0.0, \"#0d0887\"], [0.1111111111111111, \"#46039f\"], [0.2222222222222222, \"#7201a8\"], [0.3333333333333333, \"#9c179e\"], [0.4444444444444444, \"#bd3786\"], [0.5555555555555556, \"#d8576b\"], [0.6666666666666666, \"#ed7953\"], [0.7777777777777778, \"#fb9f3a\"], [0.8888888888888888, \"#fdca26\"], [1.0, \"#f0f921\"]], \"type\": \"contour\"}], \"contourcarpet\": [{\"colorbar\": {\"outlinewidth\": 0, \"ticks\": \"\"}, \"type\": \"contourcarpet\"}], \"heatmap\": [{\"colorbar\": {\"outlinewidth\": 0, \"ticks\": \"\"}, \"colorscale\": [[0.0, \"#0d0887\"], [0.1111111111111111, \"#46039f\"], [0.2222222222222222, \"#7201a8\"], [0.3333333333333333, \"#9c179e\"], [0.4444444444444444, \"#bd3786\"], [0.5555555555555556, \"#d8576b\"], [0.6666666666666666, \"#ed7953\"], [0.7777777777777778, \"#fb9f3a\"], [0.8888888888888888, \"#fdca26\"], [1.0, \"#f0f921\"]], \"type\": \"heatmap\"}], \"heatmapgl\": [{\"colorbar\": {\"outlinewidth\": 0, \"ticks\": \"\"}, \"colorscale\": [[0.0, \"#0d0887\"], [0.1111111111111111, \"#46039f\"], [0.2222222222222222, \"#7201a8\"], [0.3333333333333333, \"#9c179e\"], [0.4444444444444444, \"#bd3786\"], [0.5555555555555556, \"#d8576b\"], [0.6666666666666666, \"#ed7953\"], [0.7777777777777778, \"#fb9f3a\"], [0.8888888888888888, \"#fdca26\"], [1.0, \"#f0f921\"]], \"type\": \"heatmapgl\"}], \"histogram\": [{\"marker\": {\"colorbar\": {\"outlinewidth\": 0, \"ticks\": \"\"}}, \"type\": \"histogram\"}], \"histogram2d\": [{\"colorbar\": {\"outlinewidth\": 0, \"ticks\": \"\"}, \"colorscale\": [[0.0, \"#0d0887\"], [0.1111111111111111, \"#46039f\"], [0.2222222222222222, \"#7201a8\"], [0.3333333333333333, \"#9c179e\"], [0.4444444444444444, \"#bd3786\"], [0.5555555555555556, \"#d8576b\"], [0.6666666666666666, \"#ed7953\"], [0.7777777777777778, \"#fb9f3a\"], [0.8888888888888888, \"#fdca26\"], [1.0, \"#f0f921\"]], \"type\": \"histogram2d\"}], \"histogram2dcontour\": [{\"colorbar\": {\"outlinewidth\": 0, \"ticks\": \"\"}, \"colorscale\": [[0.0, \"#0d0887\"], [0.1111111111111111, \"#46039f\"], [0.2222222222222222, \"#7201a8\"], [0.3333333333333333, \"#9c179e\"], [0.4444444444444444, \"#bd3786\"], [0.5555555555555556, \"#d8576b\"], [0.6666666666666666, \"#ed7953\"], [0.7777777777777778, \"#fb9f3a\"], [0.8888888888888888, \"#fdca26\"], [1.0, \"#f0f921\"]], \"type\": \"histogram2dcontour\"}], \"mesh3d\": [{\"colorbar\": {\"outlinewidth\": 0, \"ticks\": \"\"}, \"type\": \"mesh3d\"}], \"parcoords\": [{\"line\": {\"colorbar\": {\"outlinewidth\": 0, \"ticks\": \"\"}}, \"type\": \"parcoords\"}], \"pie\": [{\"automargin\": true, \"type\": \"pie\"}], \"scatter\": [{\"marker\": {\"colorbar\": {\"outlinewidth\": 0, \"ticks\": \"\"}}, \"type\": \"scatter\"}], \"scatter3d\": [{\"line\": {\"colorbar\": {\"outlinewidth\": 0, \"ticks\": \"\"}}, \"marker\": {\"colorbar\": {\"outlinewidth\": 0, \"ticks\": \"\"}}, \"type\": \"scatter3d\"}], \"scattercarpet\": [{\"marker\": {\"colorbar\": {\"outlinewidth\": 0, \"ticks\": \"\"}}, \"type\": \"scattercarpet\"}], \"scattergeo\": [{\"marker\": {\"colorbar\": {\"outlinewidth\": 0, \"ticks\": \"\"}}, \"type\": \"scattergeo\"}], \"scattergl\": [{\"marker\": {\"colorbar\": {\"outlinewidth\": 0, \"ticks\": \"\"}}, \"type\": \"scattergl\"}], \"scattermapbox\": [{\"marker\": {\"colorbar\": {\"outlinewidth\": 0, \"ticks\": \"\"}}, \"type\": \"scattermapbox\"}], \"scatterpolar\": [{\"marker\": {\"colorbar\": {\"outlinewidth\": 0, \"ticks\": \"\"}}, \"type\": \"scatterpolar\"}], \"scatterpolargl\": [{\"marker\": {\"colorbar\": {\"outlinewidth\": 0, \"ticks\": \"\"}}, \"type\": \"scatterpolargl\"}], \"scatterternary\": [{\"marker\": {\"colorbar\": {\"outlinewidth\": 0, \"ticks\": \"\"}}, \"type\": \"scatterternary\"}], \"surface\": [{\"colorbar\": {\"outlinewidth\": 0, \"ticks\": \"\"}, \"colorscale\": [[0.0, \"#0d0887\"], [0.1111111111111111, \"#46039f\"], [0.2222222222222222, \"#7201a8\"], [0.3333333333333333, \"#9c179e\"], [0.4444444444444444, \"#bd3786\"], [0.5555555555555556, \"#d8576b\"], [0.6666666666666666, \"#ed7953\"], [0.7777777777777778, \"#fb9f3a\"], [0.8888888888888888, \"#fdca26\"], [1.0, \"#f0f921\"]], \"type\": \"surface\"}], \"table\": [{\"cells\": {\"fill\": {\"color\": \"#EBF0F8\"}, \"line\": {\"color\": \"white\"}}, \"header\": {\"fill\": {\"color\": \"#C8D4E3\"}, \"line\": {\"color\": \"white\"}}, \"type\": \"table\"}]}, \"layout\": {\"annotationdefaults\": {\"arrowcolor\": \"#2a3f5f\", \"arrowhead\": 0, \"arrowwidth\": 1}, \"coloraxis\": {\"colorbar\": {\"outlinewidth\": 0, \"ticks\": \"\"}}, \"colorscale\": {\"diverging\": [[0, \"#8e0152\"], [0.1, \"#c51b7d\"], [0.2, \"#de77ae\"], [0.3, \"#f1b6da\"], [0.4, \"#fde0ef\"], [0.5, \"#f7f7f7\"], [0.6, \"#e6f5d0\"], [0.7, \"#b8e186\"], [0.8, \"#7fbc41\"], [0.9, \"#4d9221\"], [1, \"#276419\"]], \"sequential\": [[0.0, \"#0d0887\"], [0.1111111111111111, \"#46039f\"], [0.2222222222222222, \"#7201a8\"], [0.3333333333333333, \"#9c179e\"], [0.4444444444444444, \"#bd3786\"], [0.5555555555555556, \"#d8576b\"], [0.6666666666666666, \"#ed7953\"], [0.7777777777777778, \"#fb9f3a\"], [0.8888888888888888, \"#fdca26\"], [1.0, \"#f0f921\"]], \"sequentialminus\": [[0.0, \"#0d0887\"], [0.1111111111111111, \"#46039f\"], [0.2222222222222222, \"#7201a8\"], [0.3333333333333333, \"#9c179e\"], [0.4444444444444444, \"#bd3786\"], [0.5555555555555556, \"#d8576b\"], [0.6666666666666666, \"#ed7953\"], [0.7777777777777778, \"#fb9f3a\"], [0.8888888888888888, \"#fdca26\"], [1.0, \"#f0f921\"]]}, \"colorway\": [\"#636efa\", \"#EF553B\", \"#00cc96\", \"#ab63fa\", \"#FFA15A\", \"#19d3f3\", \"#FF6692\", \"#B6E880\", \"#FF97FF\", \"#FECB52\"], \"font\": {\"color\": \"#2a3f5f\"}, \"geo\": {\"bgcolor\": \"white\", \"lakecolor\": \"white\", \"landcolor\": \"#E5ECF6\", \"showlakes\": true, \"showland\": true, \"subunitcolor\": \"white\"}, \"hoverlabel\": {\"align\": \"left\"}, \"hovermode\": \"closest\", \"mapbox\": {\"style\": \"light\"}, \"paper_bgcolor\": \"white\", \"plot_bgcolor\": \"#E5ECF6\", \"polar\": {\"angularaxis\": {\"gridcolor\": \"white\", \"linecolor\": \"white\", \"ticks\": \"\"}, \"bgcolor\": \"#E5ECF6\", \"radialaxis\": {\"gridcolor\": \"white\", \"linecolor\": \"white\", \"ticks\": \"\"}}, \"scene\": {\"xaxis\": {\"backgroundcolor\": \"#E5ECF6\", \"gridcolor\": \"white\", \"gridwidth\": 2, \"linecolor\": \"white\", \"showbackground\": true, \"ticks\": \"\", \"zerolinecolor\": \"white\"}, \"yaxis\": {\"backgroundcolor\": \"#E5ECF6\", \"gridcolor\": \"white\", \"gridwidth\": 2, \"linecolor\": \"white\", \"showbackground\": true, \"ticks\": \"\", \"zerolinecolor\": \"white\"}, \"zaxis\": {\"backgroundcolor\": \"#E5ECF6\", \"gridcolor\": \"white\", \"gridwidth\": 2, \"linecolor\": \"white\", \"showbackground\": true, \"ticks\": \"\", \"zerolinecolor\": \"white\"}}, \"shapedefaults\": {\"line\": {\"color\": \"#2a3f5f\"}}, \"ternary\": {\"aaxis\": {\"gridcolor\": \"white\", \"linecolor\": \"white\", \"ticks\": \"\"}, \"baxis\": {\"gridcolor\": \"white\", \"linecolor\": \"white\", \"ticks\": \"\"}, \"bgcolor\": \"#E5ECF6\", \"caxis\": {\"gridcolor\": \"white\", \"linecolor\": \"white\", \"ticks\": \"\"}}, \"title\": {\"x\": 0.05}, \"xaxis\": {\"automargin\": true, \"gridcolor\": \"white\", \"linecolor\": \"white\", \"ticks\": \"\", \"title\": {\"standoff\": 15}, \"zerolinecolor\": \"white\", \"zerolinewidth\": 2}, \"yaxis\": {\"automargin\": true, \"gridcolor\": \"white\", \"linecolor\": \"white\", \"ticks\": \"\", \"title\": {\"standoff\": 15}, \"zerolinecolor\": \"white\", \"zerolinewidth\": 2}}}},\n",
              "                        {\"responsive\": true}\n",
              "                    ).then(function(){\n",
              "                            \n",
              "var gd = document.getElementById('f2f7894b-cb85-43cb-a00c-d2f1664ab158');\n",
              "var x = new MutationObserver(function (mutations, observer) {{\n",
              "        var display = window.getComputedStyle(gd).display;\n",
              "        if (!display || display === 'none') {{\n",
              "            console.log([gd, 'removed!']);\n",
              "            Plotly.purge(gd);\n",
              "            observer.disconnect();\n",
              "        }}\n",
              "}});\n",
              "\n",
              "// Listen for the removal of the full notebook cells\n",
              "var notebookContainer = gd.closest('#notebook-container');\n",
              "if (notebookContainer) {{\n",
              "    x.observe(notebookContainer, {childList: true});\n",
              "}}\n",
              "\n",
              "// Listen for the clearing of the current output cell\n",
              "var outputEl = gd.closest('.output');\n",
              "if (outputEl) {{\n",
              "    x.observe(outputEl, {childList: true});\n",
              "}}\n",
              "\n",
              "                        })\n",
              "                };\n",
              "                \n",
              "            </script>\n",
              "        </div>\n",
              "</body>\n",
              "</html>"
            ]
          },
          "metadata": {
            "tags": []
          }
        }
      ]
    },
    {
      "cell_type": "markdown",
      "metadata": {
        "id": "zsD0kRrAWeqj"
      },
      "source": [
        "# Use case : Online presentting final recommendation for a single user\n",
        "\n",
        "\n",
        "We select user 408 as our example to visualize the recommendation movies list.\n",
        "We exclude the unpopular items in final recommendation. \n",
        "\n",
        "In online recommendation, we fit the user-movie pairs where movies are from candidates set we generated from ANN, along with the user and movie profile. So this re-order will be faster than retrieving from the whole movie set.\n",
        "Usually we would recommend for batch users just like the procedure we used for evaluation, but also we provide api for recommend for single user.\n",
        "\n"
      ]
    },
    {
      "cell_type": "code",
      "metadata": {
        "id": "hAMdOg41F1kf"
      },
      "source": [
        "# select userId\n",
        "userId = 408\n",
        "\n",
        "# extract its embedding vector\n",
        "use_case_embedding = user_latent.where(\n",
        "    user_latent.userId == userId).select('features').collect()\n",
        "\n",
        "# find candidates movies set\n",
        "candidates = model.approxNearestNeighbors(\n",
        "    movie_latent, use_case_embedding[0][0], 100).select('movieId').collect()\n",
        "candidates = [item[0] for item in candidates]\n",
        "\n",
        "# reconstruct the dataframe\n",
        "recommend_pd_df = pd.DataFrame([pd.Series(\n",
        "    [userId]*100), pd.Series(candidates)]).T.rename(columns={0: 'userId', 1: 'movieId'})\n",
        "    \n",
        "# present the final movie recommendation list\n",
        "rc_reorder, _, _ = wnd_estimator.predict(recommend_pd_df, test)"
      ],
      "execution_count": null,
      "outputs": []
    },
    {
      "cell_type": "code",
      "metadata": {
        "id": "ZDRk5DEGBKI2"
      },
      "source": [
        "unpopular_list = MatrixFactorization.getUnpopularList(ratings_train)\n",
        "\n",
        "# only recommend movies with popularity higher than 10, and exclude movies he/she has rated\n",
        "def final_recommendation(userId,k=50):\n",
        "    rec_list=rc_reorder[0]\n",
        "    exclude_watched_item = ratings_train.filter(ratings_test.userId==93773).select('movieId').agg(expr('collect_list(movieId) as movieId')).collect()\n",
        "    rec=[item for item in rec_list if item not in exclude_watched_item and item not in unpopular_list][:k] \n",
        "    return rec\n",
        "    \n",
        "reclist=np.array(final_recommendation(userId,k=50))"
      ],
      "execution_count": null,
      "outputs": []
    },
    {
      "cell_type": "code",
      "metadata": {
        "id": "fVBu3aqwBG0Z"
      },
      "source": [
        "movies_name = larger_dataset[['movieId','title','genres']].copy()\n",
        "movies_name.drop_duplicates(\"movieId\", inplace=True)\n",
        "movies_name.set_index(\"movieId\", inplace=True, drop=True)"
      ],
      "execution_count": null,
      "outputs": []
    },
    {
      "cell_type": "code",
      "metadata": {
        "colab": {
          "base_uri": "https://localhost:8080/",
          "height": 1000
        },
        "id": "vlPkNDfV5W-I",
        "outputId": "4d5d94f7-3844-43cd-808c-2a8f2ee91046"
      },
      "source": [
        "print('MF model recommendation for user: ', userId) \n",
        "movies_name.loc[np.array(reclist)]"
      ],
      "execution_count": null,
      "outputs": [
        {
          "output_type": "stream",
          "text": [
            "MF model recommendation for user:  93773\n"
          ],
          "name": "stdout"
        },
        {
          "output_type": "execute_result",
          "data": {
            "text/html": [
              "<div>\n",
              "<style scoped>\n",
              "    .dataframe tbody tr th:only-of-type {\n",
              "        vertical-align: middle;\n",
              "    }\n",
              "\n",
              "    .dataframe tbody tr th {\n",
              "        vertical-align: top;\n",
              "    }\n",
              "\n",
              "    .dataframe thead th {\n",
              "        text-align: right;\n",
              "    }\n",
              "</style>\n",
              "<table border=\"1\" class=\"dataframe\">\n",
              "  <thead>\n",
              "    <tr style=\"text-align: right;\">\n",
              "      <th></th>\n",
              "      <th>title</th>\n",
              "      <th>genres</th>\n",
              "    </tr>\n",
              "    <tr>\n",
              "      <th>movieId</th>\n",
              "      <th></th>\n",
              "      <th></th>\n",
              "    </tr>\n",
              "  </thead>\n",
              "  <tbody>\n",
              "    <tr>\n",
              "      <th>106503</th>\n",
              "      <td>Enemies of Reason, The (2007)</td>\n",
              "      <td>Documentary</td>\n",
              "    </tr>\n",
              "    <tr>\n",
              "      <th>137904</th>\n",
              "      <td>I, Claudius (1976)</td>\n",
              "      <td>Drama</td>\n",
              "    </tr>\n",
              "    <tr>\n",
              "      <th>750</th>\n",
              "      <td>Dr. Strangelove or: How I Learned to Stop Worr...</td>\n",
              "      <td>Comedy|War</td>\n",
              "    </tr>\n",
              "    <tr>\n",
              "      <th>135867</th>\n",
              "      <td>Rabbit Fire (1951)</td>\n",
              "      <td>Animation|Children|Comedy</td>\n",
              "    </tr>\n",
              "    <tr>\n",
              "      <th>26086</th>\n",
              "      <td>Occurrence at Owl Creek Bridge, An (La rivière...</td>\n",
              "      <td>Drama|War</td>\n",
              "    </tr>\n",
              "    <tr>\n",
              "      <th>49085</th>\n",
              "      <td>Big City, The (Mahanagar) (1963)</td>\n",
              "      <td>Drama</td>\n",
              "    </tr>\n",
              "    <tr>\n",
              "      <th>101964</th>\n",
              "      <td>Mugabe and the White African (2009)</td>\n",
              "      <td>Documentary</td>\n",
              "    </tr>\n",
              "    <tr>\n",
              "      <th>97673</th>\n",
              "      <td>56 Up (2012)</td>\n",
              "      <td>Documentary</td>\n",
              "    </tr>\n",
              "    <tr>\n",
              "      <th>53774</th>\n",
              "      <td>Mystery of Picasso, The (Le mystère Picasso) (...</td>\n",
              "      <td>Documentary</td>\n",
              "    </tr>\n",
              "    <tr>\n",
              "      <th>1209</th>\n",
              "      <td>Once Upon a Time in the West (C'era una volta ...</td>\n",
              "      <td>Action|Drama|Western</td>\n",
              "    </tr>\n",
              "    <tr>\n",
              "      <th>100511</th>\n",
              "      <td>House Is Black, The (1963)</td>\n",
              "      <td>Documentary</td>\n",
              "    </tr>\n",
              "    <tr>\n",
              "      <th>147441</th>\n",
              "      <td>3½ Minutes, 10 Bullets (2015)</td>\n",
              "      <td>Documentary</td>\n",
              "    </tr>\n",
              "    <tr>\n",
              "      <th>608</th>\n",
              "      <td>Fargo (1996)</td>\n",
              "      <td>Comedy|Crime|Drama|Thriller</td>\n",
              "    </tr>\n",
              "    <tr>\n",
              "      <th>69483</th>\n",
              "      <td>Not on Your Life (Verdugo, El) (Executioner, T...</td>\n",
              "      <td>Comedy|Drama</td>\n",
              "    </tr>\n",
              "    <tr>\n",
              "      <th>108977</th>\n",
              "      <td>Paranoia Agent (2004)</td>\n",
              "      <td>Animation|Crime|Drama|Horror|Mystery</td>\n",
              "    </tr>\n",
              "    <tr>\n",
              "      <th>3307</th>\n",
              "      <td>City Lights (1931)</td>\n",
              "      <td>Comedy|Drama|Romance</td>\n",
              "    </tr>\n",
              "    <tr>\n",
              "      <th>1258</th>\n",
              "      <td>Shining, The (1980)</td>\n",
              "      <td>Horror</td>\n",
              "    </tr>\n",
              "    <tr>\n",
              "      <th>33251</th>\n",
              "      <td>Bitch, The (La chienne) (1931)</td>\n",
              "      <td>Drama</td>\n",
              "    </tr>\n",
              "    <tr>\n",
              "      <th>4973</th>\n",
              "      <td>Amelie (Fabuleux destin d'Amélie Poulain, Le) ...</td>\n",
              "      <td>Comedy|Romance</td>\n",
              "    </tr>\n",
              "    <tr>\n",
              "      <th>86377</th>\n",
              "      <td>Louis C.K.: Shameless (2007)</td>\n",
              "      <td>Comedy</td>\n",
              "    </tr>\n",
              "    <tr>\n",
              "      <th>26259</th>\n",
              "      <td>Emigrants, The (Utvandrarna) (1971)</td>\n",
              "      <td>Drama</td>\n",
              "    </tr>\n",
              "    <tr>\n",
              "      <th>96868</th>\n",
              "      <td>Shut Up and Play the Hits (2012)</td>\n",
              "      <td>Documentary</td>\n",
              "    </tr>\n",
              "    <tr>\n",
              "      <th>7566</th>\n",
              "      <td>28 Up (1985)</td>\n",
              "      <td>Documentary</td>\n",
              "    </tr>\n",
              "    <tr>\n",
              "      <th>34548</th>\n",
              "      <td>Tree of Wooden Clogs, The (L'albero degli zocc...</td>\n",
              "      <td>Drama</td>\n",
              "    </tr>\n",
              "    <tr>\n",
              "      <th>3629</th>\n",
              "      <td>Gold Rush, The (1925)</td>\n",
              "      <td>Adventure|Comedy|Romance</td>\n",
              "    </tr>\n",
              "    <tr>\n",
              "      <th>147330</th>\n",
              "      <td>Sherlock Holmes and Dr. Watson: Acquaintance (...</td>\n",
              "      <td>Crime</td>\n",
              "    </tr>\n",
              "    <tr>\n",
              "      <th>56782</th>\n",
              "      <td>There Will Be Blood (2007)</td>\n",
              "      <td>Drama|Western</td>\n",
              "    </tr>\n",
              "    <tr>\n",
              "      <th>116897</th>\n",
              "      <td>Wild Tales (2014)</td>\n",
              "      <td>Comedy|Drama|Thriller</td>\n",
              "    </tr>\n",
              "    <tr>\n",
              "      <th>89985</th>\n",
              "      <td>Trap: What Happened to Our Dream of Freedom, T...</td>\n",
              "      <td>Documentary</td>\n",
              "    </tr>\n",
              "    <tr>\n",
              "      <th>1266</th>\n",
              "      <td>Unforgiven (1992)</td>\n",
              "      <td>Drama|Western</td>\n",
              "    </tr>\n",
              "    <tr>\n",
              "      <th>3091</th>\n",
              "      <td>Kagemusha (1980)</td>\n",
              "      <td>Drama|War</td>\n",
              "    </tr>\n",
              "    <tr>\n",
              "      <th>1225</th>\n",
              "      <td>Amadeus (1984)</td>\n",
              "      <td>Drama</td>\n",
              "    </tr>\n",
              "    <tr>\n",
              "      <th>109697</th>\n",
              "      <td>Inspector Palmu's Error (Komisario Palmun ereh...</td>\n",
              "      <td>Comedy|Crime|Mystery|Thriller</td>\n",
              "    </tr>\n",
              "    <tr>\n",
              "      <th>129514</th>\n",
              "      <td>George Carlin: It's Bad for Ya! (2008)</td>\n",
              "      <td>Comedy</td>\n",
              "    </tr>\n",
              "    <tr>\n",
              "      <th>947</th>\n",
              "      <td>My Man Godfrey (1936)</td>\n",
              "      <td>Comedy|Romance</td>\n",
              "    </tr>\n",
              "    <tr>\n",
              "      <th>86781</th>\n",
              "      <td>Incendies (2010)</td>\n",
              "      <td>Drama|Mystery|War</td>\n",
              "    </tr>\n",
              "    <tr>\n",
              "      <th>156773</th>\n",
              "      <td>Jimmy Carr: Live (2004)</td>\n",
              "      <td>Comedy</td>\n",
              "    </tr>\n",
              "    <tr>\n",
              "      <th>49394</th>\n",
              "      <td>Simon of the Desert (Simón del desierto) (1965)</td>\n",
              "      <td>Drama</td>\n",
              "    </tr>\n",
              "    <tr>\n",
              "      <th>71442</th>\n",
              "      <td>Le Plaisir (1952)</td>\n",
              "      <td>Comedy|Drama</td>\n",
              "    </tr>\n",
              "    <tr>\n",
              "      <th>96966</th>\n",
              "      <td>Laurence Anyways (2012)</td>\n",
              "      <td>Drama|Romance</td>\n",
              "    </tr>\n",
              "    <tr>\n",
              "      <th>96062</th>\n",
              "      <td>Jekyll (2007)</td>\n",
              "      <td>Crime|Horror|Thriller</td>\n",
              "    </tr>\n",
              "    <tr>\n",
              "      <th>85774</th>\n",
              "      <td>Senna (2010)</td>\n",
              "      <td>Documentary</td>\n",
              "    </tr>\n",
              "    <tr>\n",
              "      <th>30856</th>\n",
              "      <td>Rebels of the Neon God (Qing shao nian nuo zha...</td>\n",
              "      <td>Drama</td>\n",
              "    </tr>\n",
              "    <tr>\n",
              "      <th>899</th>\n",
              "      <td>Singin' in the Rain (1952)</td>\n",
              "      <td>Comedy|Musical|Romance</td>\n",
              "    </tr>\n",
              "    <tr>\n",
              "      <th>26012</th>\n",
              "      <td>Samurai III: Duel on Ganryu Island (a.k.a. Bus...</td>\n",
              "      <td>Action|Adventure|Drama</td>\n",
              "    </tr>\n",
              "    <tr>\n",
              "      <th>1104</th>\n",
              "      <td>Streetcar Named Desire, A (1951)</td>\n",
              "      <td>Drama</td>\n",
              "    </tr>\n",
              "    <tr>\n",
              "      <th>5385</th>\n",
              "      <td>Last Waltz, The (1978)</td>\n",
              "      <td>Documentary</td>\n",
              "    </tr>\n",
              "    <tr>\n",
              "      <th>8772</th>\n",
              "      <td>Spy Who Came in from the Cold, The (1965)</td>\n",
              "      <td>Drama|Thriller</td>\n",
              "    </tr>\n",
              "    <tr>\n",
              "      <th>3634</th>\n",
              "      <td>Seven Days in May (1964)</td>\n",
              "      <td>Thriller</td>\n",
              "    </tr>\n",
              "    <tr>\n",
              "      <th>45194</th>\n",
              "      <td>Nibelungen: Kriemhild's Revenge, Die (Die Nibe...</td>\n",
              "      <td>Adventure|Drama|Fantasy</td>\n",
              "    </tr>\n",
              "  </tbody>\n",
              "</table>\n",
              "</div>"
            ],
            "text/plain": [
              "                                                     title                                genres\n",
              "movieId                                                                                         \n",
              "106503                       Enemies of Reason, The (2007)                           Documentary\n",
              "137904                                  I, Claudius (1976)                                 Drama\n",
              "750      Dr. Strangelove or: How I Learned to Stop Worr...                            Comedy|War\n",
              "135867                                  Rabbit Fire (1951)             Animation|Children|Comedy\n",
              "26086    Occurrence at Owl Creek Bridge, An (La rivière...                             Drama|War\n",
              "49085                     Big City, The (Mahanagar) (1963)                                 Drama\n",
              "101964                 Mugabe and the White African (2009)                           Documentary\n",
              "97673                                         56 Up (2012)                           Documentary\n",
              "53774    Mystery of Picasso, The (Le mystère Picasso) (...                           Documentary\n",
              "1209     Once Upon a Time in the West (C'era una volta ...                  Action|Drama|Western\n",
              "100511                          House Is Black, The (1963)                           Documentary\n",
              "147441                       3½ Minutes, 10 Bullets (2015)                           Documentary\n",
              "608                                           Fargo (1996)           Comedy|Crime|Drama|Thriller\n",
              "69483    Not on Your Life (Verdugo, El) (Executioner, T...                          Comedy|Drama\n",
              "108977                               Paranoia Agent (2004)  Animation|Crime|Drama|Horror|Mystery\n",
              "3307                                    City Lights (1931)                  Comedy|Drama|Romance\n",
              "1258                                   Shining, The (1980)                                Horror\n",
              "33251                       Bitch, The (La chienne) (1931)                                 Drama\n",
              "4973     Amelie (Fabuleux destin d'Amélie Poulain, Le) ...                        Comedy|Romance\n",
              "86377                         Louis C.K.: Shameless (2007)                                Comedy\n",
              "26259                  Emigrants, The (Utvandrarna) (1971)                                 Drama\n",
              "96868                     Shut Up and Play the Hits (2012)                           Documentary\n",
              "7566                                          28 Up (1985)                           Documentary\n",
              "34548    Tree of Wooden Clogs, The (L'albero degli zocc...                                 Drama\n",
              "3629                                 Gold Rush, The (1925)              Adventure|Comedy|Romance\n",
              "147330   Sherlock Holmes and Dr. Watson: Acquaintance (...                                 Crime\n",
              "56782                           There Will Be Blood (2007)                         Drama|Western\n",
              "116897                                   Wild Tales (2014)                 Comedy|Drama|Thriller\n",
              "89985    Trap: What Happened to Our Dream of Freedom, T...                           Documentary\n",
              "1266                                     Unforgiven (1992)                         Drama|Western\n",
              "3091                                      Kagemusha (1980)                             Drama|War\n",
              "1225                                        Amadeus (1984)                                 Drama\n",
              "109697   Inspector Palmu's Error (Komisario Palmun ereh...         Comedy|Crime|Mystery|Thriller\n",
              "129514              George Carlin: It's Bad for Ya! (2008)                                Comedy\n",
              "947                                  My Man Godfrey (1936)                        Comedy|Romance\n",
              "86781                                     Incendies (2010)                     Drama|Mystery|War\n",
              "156773                             Jimmy Carr: Live (2004)                                Comedy\n",
              "49394      Simon of the Desert (Simón del desierto) (1965)                                 Drama\n",
              "71442                                    Le Plaisir (1952)                          Comedy|Drama\n",
              "96966                              Laurence Anyways (2012)                         Drama|Romance\n",
              "96062                                        Jekyll (2007)                 Crime|Horror|Thriller\n",
              "85774                                         Senna (2010)                           Documentary\n",
              "30856    Rebels of the Neon God (Qing shao nian nuo zha...                                 Drama\n",
              "899                             Singin' in the Rain (1952)                Comedy|Musical|Romance\n",
              "26012    Samurai III: Duel on Ganryu Island (a.k.a. Bus...                Action|Adventure|Drama\n",
              "1104                      Streetcar Named Desire, A (1951)                                 Drama\n",
              "5385                                Last Waltz, The (1978)                           Documentary\n",
              "8772             Spy Who Came in from the Cold, The (1965)                        Drama|Thriller\n",
              "3634                              Seven Days in May (1964)                              Thriller\n",
              "45194    Nibelungen: Kriemhild's Revenge, Die (Die Nibe...               Adventure|Drama|Fantasy"
            ]
          },
          "metadata": {
            "tags": []
          },
          "execution_count": 35
        }
      ]
    }
  ]
}